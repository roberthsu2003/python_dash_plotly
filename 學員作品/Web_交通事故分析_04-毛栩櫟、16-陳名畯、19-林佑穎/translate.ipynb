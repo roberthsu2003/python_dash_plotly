{
 "cells": [
  {
   "cell_type": "code",
   "execution_count": 1,
   "metadata": {},
   "outputs": [
    {
     "name": "stdout",
     "output_type": "stream",
     "text": [
      "文件已成功從UTF-16轉換為UTF-8並保存為: /Users/chenmj/Documents/GitHub/python_dash-flask/data2/2024_utf8.csv\n"
     ]
    }
   ],
   "source": [
    "import pandas as pd\n",
    "\n",
    "# 指定源文件和目標文件路徑\n",
    "input_file = '/Users/chenmj/Documents/GitHub/python_dash-flask/data2/2024.csv'\n",
    "output_file = '/Users/chenmj/Documents/GitHub/python_dash-flask/data2/2024_utf8.csv'\n",
    "\n",
    "# 使用pandas讀取UTF-16編碼的CSV文件\n",
    "df = pd.read_csv(input_file, encoding='utf-16')\n",
    "\n",
    "# 將DataFrame寫入UTF-8編碼的CSV文件\n",
    "df.to_csv(output_file, encoding='utf-8', index=False)\n",
    "\n",
    "print(f\"文件已成功從UTF-16轉換為UTF-8並保存為: {output_file}\")"
   ]
  },
  {
   "cell_type": "code",
   "execution_count": 2,
   "metadata": {},
   "outputs": [
    {
     "name": "stdout",
     "output_type": "stream",
     "text": [
      "Connection successful\n",
      "Data inserted successfully\n"
     ]
    }
   ],
   "source": [
    "import psycopg2\n",
    "import pandas as pd\n",
    "from psycopg2.extras import execute_values\n",
    "\n",
    "# 连接到数据库\n",
    "\n",
    "dbname=\"python\"\n",
    "user=\"tvdi_postgresql_new_b3wx_user\"\n",
    "password=\"K4XGCCwSgJ6jWdBNhTLq9JniYjzmvIH2\"\n",
    "host=\"dpg-cqa8dr5ds78s739nis2g-a.singapore-postgres.render.com\"\n",
    "port=\"5432\"\n",
    "\n",
    "try:\n",
    "    conn = psycopg2.connect(\n",
    "        dbname=dbname,\n",
    "        user=user,\n",
    "        password=password,\n",
    "        host=host,\n",
    "        port=port,\n",
    "        sslmode='require'  # 启用 SSL/TLS 连接\n",
    "    )\n",
    "    print(\"Connection successful\")\n",
    "except psycopg2.OperationalError as e:\n",
    "    print(f\"Connection failed: {e.pgcode} - {e.pgerror}\")\n",
    "    raise\n",
    "\n",
    "cur = conn.cursor()\n",
    "\n",
    "# 读取CSV文件\n",
    "df = pd.read_csv('/Users/chenmj/Documents/GitHub/python_dash-flask/data2/2024_utf8.csv')\n",
    "\n",
    "# 插入数据\n",
    "try:\n",
    "    # 将DataFrame转换为list of tuples\n",
    "    data_tuples = [tuple(x) for x in df.to_numpy()]\n",
    "    columns = list(df.columns)\n",
    "    \n",
    "    # 使用execute_values进行批量插入\n",
    "    insert_query = f\"\"\"\n",
    "        INSERT INTO public.traffic2024 ({', '.join(['\"{}\"'.format(col) for col in columns])})\n",
    "        VALUES %s\n",
    "    \"\"\"\n",
    "    execute_values(cur, insert_query, data_tuples)\n",
    "    conn.commit()\n",
    "    print(\"Data inserted successfully\")\n",
    "except Exception as e:\n",
    "    print(f\"Data insertion failed: {e}\")\n",
    "    conn.rollback()\n",
    "finally:\n",
    "    cur.close()\n",
    "    conn.close()"
   ]
  }
 ],
 "metadata": {
  "kernelspec": {
   "display_name": "venv2",
   "language": "python",
   "name": "python3"
  },
  "language_info": {
   "codemirror_mode": {
    "name": "ipython",
    "version": 3
   },
   "file_extension": ".py",
   "mimetype": "text/x-python",
   "name": "python",
   "nbconvert_exporter": "python",
   "pygments_lexer": "ipython3",
   "version": "3.11.9"
  }
 },
 "nbformat": 4,
 "nbformat_minor": 2
}
