{
 "cells": [
  {
   "cell_type": "code",
   "execution_count": 5,
   "metadata": {},
   "outputs": [
    {
     "data": {
      "application/vnd.plotly.v1+json": {
       "config": {
        "plotlyServerURL": "https://plot.ly"
       },
       "data": [
        {
         "geo": "geo",
         "hovertemplate": "<b>%{hovertext}</b><br><br>continent=Asia<br>pop=%{marker.size}<br>iso_alpha=%{location}<extra></extra>",
         "hovertext": [
          "Afghanistan",
          "Bahrain",
          "Bangladesh",
          "Cambodia",
          "China",
          "Hong Kong, China",
          "India",
          "Indonesia",
          "Iran",
          "Iraq",
          "Israel",
          "Japan",
          "Jordan",
          "Korea, Dem. Rep.",
          "Korea, Rep.",
          "Kuwait",
          "Lebanon",
          "Malaysia",
          "Mongolia",
          "Myanmar",
          "Nepal",
          "Oman",
          "Pakistan",
          "Philippines",
          "Saudi Arabia",
          "Singapore",
          "Sri Lanka",
          "Syria",
          "Taiwan",
          "Thailand",
          "Vietnam",
          "West Bank and Gaza",
          "Yemen, Rep."
         ],
         "legendgroup": "Asia",
         "locations": [
          "AFG",
          "BHR",
          "BGD",
          "KHM",
          "CHN",
          "HKG",
          "IND",
          "IDN",
          "IRN",
          "IRQ",
          "ISR",
          "JPN",
          "JOR",
          "KOR",
          "KOR",
          "KWT",
          "LBN",
          "MYS",
          "MNG",
          "MMR",
          "NPL",
          "OMN",
          "PAK",
          "PHL",
          "SAU",
          "SGP",
          "LKA",
          "SYR",
          "TWN",
          "THA",
          "VNM",
          "PSE",
          "YEM"
         ],
         "marker": {
          "color": "#636efa",
          "size": [
           31889923,
           708573,
           150448339,
           14131858,
           1318683096,
           6980412,
           1110396331,
           223547000,
           69453570,
           27499638,
           6426679,
           127467972,
           6053193,
           23301725,
           49044790,
           2505559,
           3921278,
           24821286,
           2874127,
           47761980,
           28901790,
           3204897,
           169270617,
           91077287,
           27601038,
           4553009,
           20378239,
           19314747,
           23174294,
           65068149,
           85262356,
           4018332,
           22211743
          ],
          "sizemode": "area",
          "sizeref": 3296707.74,
          "symbol": "circle"
         },
         "mode": "markers",
         "name": "Asia",
         "showlegend": true,
         "type": "scattergeo"
        },
        {
         "geo": "geo",
         "hovertemplate": "<b>%{hovertext}</b><br><br>continent=Europe<br>pop=%{marker.size}<br>iso_alpha=%{location}<extra></extra>",
         "hovertext": [
          "Albania",
          "Austria",
          "Belgium",
          "Bosnia and Herzegovina",
          "Bulgaria",
          "Croatia",
          "Czech Republic",
          "Denmark",
          "Finland",
          "France",
          "Germany",
          "Greece",
          "Hungary",
          "Iceland",
          "Ireland",
          "Italy",
          "Montenegro",
          "Netherlands",
          "Norway",
          "Poland",
          "Portugal",
          "Romania",
          "Serbia",
          "Slovak Republic",
          "Slovenia",
          "Spain",
          "Sweden",
          "Switzerland",
          "Turkey",
          "United Kingdom"
         ],
         "legendgroup": "Europe",
         "locations": [
          "ALB",
          "AUT",
          "BEL",
          "BIH",
          "BGR",
          "HRV",
          "CZE",
          "DNK",
          "FIN",
          "FRA",
          "DEU",
          "GRC",
          "HUN",
          "ISL",
          "IRL",
          "ITA",
          "MNE",
          "NLD",
          "NOR",
          "POL",
          "PRT",
          "ROU",
          "SRB",
          "SVK",
          "SVN",
          "ESP",
          "SWE",
          "CHE",
          "TUR",
          "GBR"
         ],
         "marker": {
          "color": "#EF553B",
          "size": [
           3600523,
           8199783,
           10392226,
           4552198,
           7322858,
           4493312,
           10228744,
           5468120,
           5238460,
           61083916,
           82400996,
           10706290,
           9956108,
           301931,
           4109086,
           58147733,
           684736,
           16570613,
           4627926,
           38518241,
           10642836,
           22276056,
           10150265,
           5447502,
           2009245,
           40448191,
           9031088,
           7554661,
           71158647,
           60776238
          ],
          "sizemode": "area",
          "sizeref": 3296707.74,
          "symbol": "circle"
         },
         "mode": "markers",
         "name": "Europe",
         "showlegend": true,
         "type": "scattergeo"
        },
        {
         "geo": "geo",
         "hovertemplate": "<b>%{hovertext}</b><br><br>continent=Africa<br>pop=%{marker.size}<br>iso_alpha=%{location}<extra></extra>",
         "hovertext": [
          "Algeria",
          "Angola",
          "Benin",
          "Botswana",
          "Burkina Faso",
          "Burundi",
          "Cameroon",
          "Central African Republic",
          "Chad",
          "Comoros",
          "Congo, Dem. Rep.",
          "Congo, Rep.",
          "Cote d'Ivoire",
          "Djibouti",
          "Egypt",
          "Equatorial Guinea",
          "Eritrea",
          "Ethiopia",
          "Gabon",
          "Gambia",
          "Ghana",
          "Guinea",
          "Guinea-Bissau",
          "Kenya",
          "Lesotho",
          "Liberia",
          "Libya",
          "Madagascar",
          "Malawi",
          "Mali",
          "Mauritania",
          "Mauritius",
          "Morocco",
          "Mozambique",
          "Namibia",
          "Niger",
          "Nigeria",
          "Reunion",
          "Rwanda",
          "Sao Tome and Principe",
          "Senegal",
          "Sierra Leone",
          "Somalia",
          "South Africa",
          "Sudan",
          "Swaziland",
          "Tanzania",
          "Togo",
          "Tunisia",
          "Uganda",
          "Zambia",
          "Zimbabwe"
         ],
         "legendgroup": "Africa",
         "locations": [
          "DZA",
          "AGO",
          "BEN",
          "BWA",
          "BFA",
          "BDI",
          "CMR",
          "CAF",
          "TCD",
          "COM",
          "COD",
          "COG",
          "CIV",
          "DJI",
          "EGY",
          "GNQ",
          "ERI",
          "ETH",
          "GAB",
          "GMB",
          "GHA",
          "GIN",
          "GNB",
          "KEN",
          "LSO",
          "LBR",
          "LBY",
          "MDG",
          "MWI",
          "MLI",
          "MRT",
          "MUS",
          "MAR",
          "MOZ",
          "NAM",
          "NER",
          "NGA",
          "REU",
          "RWA",
          "STP",
          "SEN",
          "SLE",
          "SOM",
          "ZAF",
          "SDN",
          "SWZ",
          "TZA",
          "TGO",
          "TUN",
          "UGA",
          "ZMB",
          "ZWE"
         ],
         "marker": {
          "color": "#00cc96",
          "size": [
           33333216,
           12420476,
           8078314,
           1639131,
           14326203,
           8390505,
           17696293,
           4369038,
           10238807,
           710960,
           64606759,
           3800610,
           18013409,
           496374,
           80264543,
           551201,
           4906585,
           76511887,
           1454867,
           1688359,
           22873338,
           9947814,
           1472041,
           35610177,
           2012649,
           3193942,
           6036914,
           19167654,
           13327079,
           12031795,
           3270065,
           1250882,
           33757175,
           19951656,
           2055080,
           12894865,
           135031164,
           798094,
           8860588,
           199579,
           12267493,
           6144562,
           9118773,
           43997828,
           42292929,
           1133066,
           38139640,
           5701579,
           10276158,
           29170398,
           11746035,
           12311143
          ],
          "sizemode": "area",
          "sizeref": 3296707.74,
          "symbol": "circle"
         },
         "mode": "markers",
         "name": "Africa",
         "showlegend": true,
         "type": "scattergeo"
        },
        {
         "geo": "geo",
         "hovertemplate": "<b>%{hovertext}</b><br><br>continent=Americas<br>pop=%{marker.size}<br>iso_alpha=%{location}<extra></extra>",
         "hovertext": [
          "Argentina",
          "Bolivia",
          "Brazil",
          "Canada",
          "Chile",
          "Colombia",
          "Costa Rica",
          "Cuba",
          "Dominican Republic",
          "Ecuador",
          "El Salvador",
          "Guatemala",
          "Haiti",
          "Honduras",
          "Jamaica",
          "Mexico",
          "Nicaragua",
          "Panama",
          "Paraguay",
          "Peru",
          "Puerto Rico",
          "Trinidad and Tobago",
          "United States",
          "Uruguay",
          "Venezuela"
         ],
         "legendgroup": "Americas",
         "locations": [
          "ARG",
          "BOL",
          "BRA",
          "CAN",
          "CHL",
          "COL",
          "CRI",
          "CUB",
          "DOM",
          "ECU",
          "SLV",
          "GTM",
          "HTI",
          "HND",
          "JAM",
          "MEX",
          "NIC",
          "PAN",
          "PRY",
          "PER",
          "PRI",
          "TTO",
          "USA",
          "URY",
          "VEN"
         ],
         "marker": {
          "color": "#ab63fa",
          "size": [
           40301927,
           9119152,
           190010647,
           33390141,
           16284741,
           44227550,
           4133884,
           11416987,
           9319622,
           13755680,
           6939688,
           12572928,
           8502814,
           7483763,
           2780132,
           108700891,
           5675356,
           3242173,
           6667147,
           28674757,
           3942491,
           1056608,
           301139947,
           3447496,
           26084662
          ],
          "sizemode": "area",
          "sizeref": 3296707.74,
          "symbol": "circle"
         },
         "mode": "markers",
         "name": "Americas",
         "showlegend": true,
         "type": "scattergeo"
        },
        {
         "geo": "geo",
         "hovertemplate": "<b>%{hovertext}</b><br><br>continent=Oceania<br>pop=%{marker.size}<br>iso_alpha=%{location}<extra></extra>",
         "hovertext": [
          "Australia",
          "New Zealand"
         ],
         "legendgroup": "Oceania",
         "locations": [
          "AUS",
          "NZL"
         ],
         "marker": {
          "color": "#FFA15A",
          "size": [
           20434176,
           4115771
          ],
          "sizemode": "area",
          "sizeref": 3296707.74,
          "symbol": "circle"
         },
         "mode": "markers",
         "name": "Oceania",
         "showlegend": true,
         "type": "scattergeo"
        }
       ],
       "layout": {
        "geo": {
         "center": {},
         "domain": {
          "x": [
           0,
           1
          ],
          "y": [
           0,
           1
          ]
         },
         "projection": {
          "type": "natural earth"
         }
        },
        "legend": {
         "itemsizing": "constant",
         "title": {
          "text": "continent"
         },
         "tracegroupgap": 0
        },
        "margin": {
         "t": 60
        },
        "template": {
         "data": {
          "bar": [
           {
            "error_x": {
             "color": "#2a3f5f"
            },
            "error_y": {
             "color": "#2a3f5f"
            },
            "marker": {
             "line": {
              "color": "#E5ECF6",
              "width": 0.5
             },
             "pattern": {
              "fillmode": "overlay",
              "size": 10,
              "solidity": 0.2
             }
            },
            "type": "bar"
           }
          ],
          "barpolar": [
           {
            "marker": {
             "line": {
              "color": "#E5ECF6",
              "width": 0.5
             },
             "pattern": {
              "fillmode": "overlay",
              "size": 10,
              "solidity": 0.2
             }
            },
            "type": "barpolar"
           }
          ],
          "carpet": [
           {
            "aaxis": {
             "endlinecolor": "#2a3f5f",
             "gridcolor": "white",
             "linecolor": "white",
             "minorgridcolor": "white",
             "startlinecolor": "#2a3f5f"
            },
            "baxis": {
             "endlinecolor": "#2a3f5f",
             "gridcolor": "white",
             "linecolor": "white",
             "minorgridcolor": "white",
             "startlinecolor": "#2a3f5f"
            },
            "type": "carpet"
           }
          ],
          "choropleth": [
           {
            "colorbar": {
             "outlinewidth": 0,
             "ticks": ""
            },
            "type": "choropleth"
           }
          ],
          "contour": [
           {
            "colorbar": {
             "outlinewidth": 0,
             "ticks": ""
            },
            "colorscale": [
             [
              0,
              "#0d0887"
             ],
             [
              0.1111111111111111,
              "#46039f"
             ],
             [
              0.2222222222222222,
              "#7201a8"
             ],
             [
              0.3333333333333333,
              "#9c179e"
             ],
             [
              0.4444444444444444,
              "#bd3786"
             ],
             [
              0.5555555555555556,
              "#d8576b"
             ],
             [
              0.6666666666666666,
              "#ed7953"
             ],
             [
              0.7777777777777778,
              "#fb9f3a"
             ],
             [
              0.8888888888888888,
              "#fdca26"
             ],
             [
              1,
              "#f0f921"
             ]
            ],
            "type": "contour"
           }
          ],
          "contourcarpet": [
           {
            "colorbar": {
             "outlinewidth": 0,
             "ticks": ""
            },
            "type": "contourcarpet"
           }
          ],
          "heatmap": [
           {
            "colorbar": {
             "outlinewidth": 0,
             "ticks": ""
            },
            "colorscale": [
             [
              0,
              "#0d0887"
             ],
             [
              0.1111111111111111,
              "#46039f"
             ],
             [
              0.2222222222222222,
              "#7201a8"
             ],
             [
              0.3333333333333333,
              "#9c179e"
             ],
             [
              0.4444444444444444,
              "#bd3786"
             ],
             [
              0.5555555555555556,
              "#d8576b"
             ],
             [
              0.6666666666666666,
              "#ed7953"
             ],
             [
              0.7777777777777778,
              "#fb9f3a"
             ],
             [
              0.8888888888888888,
              "#fdca26"
             ],
             [
              1,
              "#f0f921"
             ]
            ],
            "type": "heatmap"
           }
          ],
          "heatmapgl": [
           {
            "colorbar": {
             "outlinewidth": 0,
             "ticks": ""
            },
            "colorscale": [
             [
              0,
              "#0d0887"
             ],
             [
              0.1111111111111111,
              "#46039f"
             ],
             [
              0.2222222222222222,
              "#7201a8"
             ],
             [
              0.3333333333333333,
              "#9c179e"
             ],
             [
              0.4444444444444444,
              "#bd3786"
             ],
             [
              0.5555555555555556,
              "#d8576b"
             ],
             [
              0.6666666666666666,
              "#ed7953"
             ],
             [
              0.7777777777777778,
              "#fb9f3a"
             ],
             [
              0.8888888888888888,
              "#fdca26"
             ],
             [
              1,
              "#f0f921"
             ]
            ],
            "type": "heatmapgl"
           }
          ],
          "histogram": [
           {
            "marker": {
             "pattern": {
              "fillmode": "overlay",
              "size": 10,
              "solidity": 0.2
             }
            },
            "type": "histogram"
           }
          ],
          "histogram2d": [
           {
            "colorbar": {
             "outlinewidth": 0,
             "ticks": ""
            },
            "colorscale": [
             [
              0,
              "#0d0887"
             ],
             [
              0.1111111111111111,
              "#46039f"
             ],
             [
              0.2222222222222222,
              "#7201a8"
             ],
             [
              0.3333333333333333,
              "#9c179e"
             ],
             [
              0.4444444444444444,
              "#bd3786"
             ],
             [
              0.5555555555555556,
              "#d8576b"
             ],
             [
              0.6666666666666666,
              "#ed7953"
             ],
             [
              0.7777777777777778,
              "#fb9f3a"
             ],
             [
              0.8888888888888888,
              "#fdca26"
             ],
             [
              1,
              "#f0f921"
             ]
            ],
            "type": "histogram2d"
           }
          ],
          "histogram2dcontour": [
           {
            "colorbar": {
             "outlinewidth": 0,
             "ticks": ""
            },
            "colorscale": [
             [
              0,
              "#0d0887"
             ],
             [
              0.1111111111111111,
              "#46039f"
             ],
             [
              0.2222222222222222,
              "#7201a8"
             ],
             [
              0.3333333333333333,
              "#9c179e"
             ],
             [
              0.4444444444444444,
              "#bd3786"
             ],
             [
              0.5555555555555556,
              "#d8576b"
             ],
             [
              0.6666666666666666,
              "#ed7953"
             ],
             [
              0.7777777777777778,
              "#fb9f3a"
             ],
             [
              0.8888888888888888,
              "#fdca26"
             ],
             [
              1,
              "#f0f921"
             ]
            ],
            "type": "histogram2dcontour"
           }
          ],
          "mesh3d": [
           {
            "colorbar": {
             "outlinewidth": 0,
             "ticks": ""
            },
            "type": "mesh3d"
           }
          ],
          "parcoords": [
           {
            "line": {
             "colorbar": {
              "outlinewidth": 0,
              "ticks": ""
             }
            },
            "type": "parcoords"
           }
          ],
          "pie": [
           {
            "automargin": true,
            "type": "pie"
           }
          ],
          "scatter": [
           {
            "fillpattern": {
             "fillmode": "overlay",
             "size": 10,
             "solidity": 0.2
            },
            "type": "scatter"
           }
          ],
          "scatter3d": [
           {
            "line": {
             "colorbar": {
              "outlinewidth": 0,
              "ticks": ""
             }
            },
            "marker": {
             "colorbar": {
              "outlinewidth": 0,
              "ticks": ""
             }
            },
            "type": "scatter3d"
           }
          ],
          "scattercarpet": [
           {
            "marker": {
             "colorbar": {
              "outlinewidth": 0,
              "ticks": ""
             }
            },
            "type": "scattercarpet"
           }
          ],
          "scattergeo": [
           {
            "marker": {
             "colorbar": {
              "outlinewidth": 0,
              "ticks": ""
             }
            },
            "type": "scattergeo"
           }
          ],
          "scattergl": [
           {
            "marker": {
             "colorbar": {
              "outlinewidth": 0,
              "ticks": ""
             }
            },
            "type": "scattergl"
           }
          ],
          "scattermapbox": [
           {
            "marker": {
             "colorbar": {
              "outlinewidth": 0,
              "ticks": ""
             }
            },
            "type": "scattermapbox"
           }
          ],
          "scatterpolar": [
           {
            "marker": {
             "colorbar": {
              "outlinewidth": 0,
              "ticks": ""
             }
            },
            "type": "scatterpolar"
           }
          ],
          "scatterpolargl": [
           {
            "marker": {
             "colorbar": {
              "outlinewidth": 0,
              "ticks": ""
             }
            },
            "type": "scatterpolargl"
           }
          ],
          "scatterternary": [
           {
            "marker": {
             "colorbar": {
              "outlinewidth": 0,
              "ticks": ""
             }
            },
            "type": "scatterternary"
           }
          ],
          "surface": [
           {
            "colorbar": {
             "outlinewidth": 0,
             "ticks": ""
            },
            "colorscale": [
             [
              0,
              "#0d0887"
             ],
             [
              0.1111111111111111,
              "#46039f"
             ],
             [
              0.2222222222222222,
              "#7201a8"
             ],
             [
              0.3333333333333333,
              "#9c179e"
             ],
             [
              0.4444444444444444,
              "#bd3786"
             ],
             [
              0.5555555555555556,
              "#d8576b"
             ],
             [
              0.6666666666666666,
              "#ed7953"
             ],
             [
              0.7777777777777778,
              "#fb9f3a"
             ],
             [
              0.8888888888888888,
              "#fdca26"
             ],
             [
              1,
              "#f0f921"
             ]
            ],
            "type": "surface"
           }
          ],
          "table": [
           {
            "cells": {
             "fill": {
              "color": "#EBF0F8"
             },
             "line": {
              "color": "white"
             }
            },
            "header": {
             "fill": {
              "color": "#C8D4E3"
             },
             "line": {
              "color": "white"
             }
            },
            "type": "table"
           }
          ]
         },
         "layout": {
          "annotationdefaults": {
           "arrowcolor": "#2a3f5f",
           "arrowhead": 0,
           "arrowwidth": 1
          },
          "autotypenumbers": "strict",
          "coloraxis": {
           "colorbar": {
            "outlinewidth": 0,
            "ticks": ""
           }
          },
          "colorscale": {
           "diverging": [
            [
             0,
             "#8e0152"
            ],
            [
             0.1,
             "#c51b7d"
            ],
            [
             0.2,
             "#de77ae"
            ],
            [
             0.3,
             "#f1b6da"
            ],
            [
             0.4,
             "#fde0ef"
            ],
            [
             0.5,
             "#f7f7f7"
            ],
            [
             0.6,
             "#e6f5d0"
            ],
            [
             0.7,
             "#b8e186"
            ],
            [
             0.8,
             "#7fbc41"
            ],
            [
             0.9,
             "#4d9221"
            ],
            [
             1,
             "#276419"
            ]
           ],
           "sequential": [
            [
             0,
             "#0d0887"
            ],
            [
             0.1111111111111111,
             "#46039f"
            ],
            [
             0.2222222222222222,
             "#7201a8"
            ],
            [
             0.3333333333333333,
             "#9c179e"
            ],
            [
             0.4444444444444444,
             "#bd3786"
            ],
            [
             0.5555555555555556,
             "#d8576b"
            ],
            [
             0.6666666666666666,
             "#ed7953"
            ],
            [
             0.7777777777777778,
             "#fb9f3a"
            ],
            [
             0.8888888888888888,
             "#fdca26"
            ],
            [
             1,
             "#f0f921"
            ]
           ],
           "sequentialminus": [
            [
             0,
             "#0d0887"
            ],
            [
             0.1111111111111111,
             "#46039f"
            ],
            [
             0.2222222222222222,
             "#7201a8"
            ],
            [
             0.3333333333333333,
             "#9c179e"
            ],
            [
             0.4444444444444444,
             "#bd3786"
            ],
            [
             0.5555555555555556,
             "#d8576b"
            ],
            [
             0.6666666666666666,
             "#ed7953"
            ],
            [
             0.7777777777777778,
             "#fb9f3a"
            ],
            [
             0.8888888888888888,
             "#fdca26"
            ],
            [
             1,
             "#f0f921"
            ]
           ]
          },
          "colorway": [
           "#636efa",
           "#EF553B",
           "#00cc96",
           "#ab63fa",
           "#FFA15A",
           "#19d3f3",
           "#FF6692",
           "#B6E880",
           "#FF97FF",
           "#FECB52"
          ],
          "font": {
           "color": "#2a3f5f"
          },
          "geo": {
           "bgcolor": "white",
           "lakecolor": "white",
           "landcolor": "#E5ECF6",
           "showlakes": true,
           "showland": true,
           "subunitcolor": "white"
          },
          "hoverlabel": {
           "align": "left"
          },
          "hovermode": "closest",
          "mapbox": {
           "style": "light"
          },
          "paper_bgcolor": "white",
          "plot_bgcolor": "#E5ECF6",
          "polar": {
           "angularaxis": {
            "gridcolor": "white",
            "linecolor": "white",
            "ticks": ""
           },
           "bgcolor": "#E5ECF6",
           "radialaxis": {
            "gridcolor": "white",
            "linecolor": "white",
            "ticks": ""
           }
          },
          "scene": {
           "xaxis": {
            "backgroundcolor": "#E5ECF6",
            "gridcolor": "white",
            "gridwidth": 2,
            "linecolor": "white",
            "showbackground": true,
            "ticks": "",
            "zerolinecolor": "white"
           },
           "yaxis": {
            "backgroundcolor": "#E5ECF6",
            "gridcolor": "white",
            "gridwidth": 2,
            "linecolor": "white",
            "showbackground": true,
            "ticks": "",
            "zerolinecolor": "white"
           },
           "zaxis": {
            "backgroundcolor": "#E5ECF6",
            "gridcolor": "white",
            "gridwidth": 2,
            "linecolor": "white",
            "showbackground": true,
            "ticks": "",
            "zerolinecolor": "white"
           }
          },
          "shapedefaults": {
           "line": {
            "color": "#2a3f5f"
           }
          },
          "ternary": {
           "aaxis": {
            "gridcolor": "white",
            "linecolor": "white",
            "ticks": ""
           },
           "baxis": {
            "gridcolor": "white",
            "linecolor": "white",
            "ticks": ""
           },
           "bgcolor": "#E5ECF6",
           "caxis": {
            "gridcolor": "white",
            "linecolor": "white",
            "ticks": ""
           }
          },
          "title": {
           "x": 0.05
          },
          "xaxis": {
           "automargin": true,
           "gridcolor": "white",
           "linecolor": "white",
           "ticks": "",
           "title": {
            "standoff": 15
           },
           "zerolinecolor": "white",
           "zerolinewidth": 2
          },
          "yaxis": {
           "automargin": true,
           "gridcolor": "white",
           "linecolor": "white",
           "ticks": "",
           "title": {
            "standoff": 15
           },
           "zerolinecolor": "white",
           "zerolinewidth": 2
          }
         }
        }
       }
      },
      "text/html": [
       "<div>                            <div id=\"ae08e01a-4e61-4d54-9ab2-b5c0187d9cf4\" class=\"plotly-graph-div\" style=\"height:525px; width:100%;\"></div>            <script type=\"text/javascript\">                require([\"plotly\"], function(Plotly) {                    window.PLOTLYENV=window.PLOTLYENV || {};                                    if (document.getElementById(\"ae08e01a-4e61-4d54-9ab2-b5c0187d9cf4\")) {                    Plotly.newPlot(                        \"ae08e01a-4e61-4d54-9ab2-b5c0187d9cf4\",                        [{\"geo\":\"geo\",\"hovertemplate\":\"<b>%{hovertext}</b><br><br>continent=Asia<br>pop=%{marker.size}<br>iso_alpha=%{location}<extra></extra>\",\"hovertext\":[\"Afghanistan\",\"Bahrain\",\"Bangladesh\",\"Cambodia\",\"China\",\"Hong Kong, China\",\"India\",\"Indonesia\",\"Iran\",\"Iraq\",\"Israel\",\"Japan\",\"Jordan\",\"Korea, Dem. Rep.\",\"Korea, Rep.\",\"Kuwait\",\"Lebanon\",\"Malaysia\",\"Mongolia\",\"Myanmar\",\"Nepal\",\"Oman\",\"Pakistan\",\"Philippines\",\"Saudi Arabia\",\"Singapore\",\"Sri Lanka\",\"Syria\",\"Taiwan\",\"Thailand\",\"Vietnam\",\"West Bank and Gaza\",\"Yemen, Rep.\"],\"legendgroup\":\"Asia\",\"locations\":[\"AFG\",\"BHR\",\"BGD\",\"KHM\",\"CHN\",\"HKG\",\"IND\",\"IDN\",\"IRN\",\"IRQ\",\"ISR\",\"JPN\",\"JOR\",\"KOR\",\"KOR\",\"KWT\",\"LBN\",\"MYS\",\"MNG\",\"MMR\",\"NPL\",\"OMN\",\"PAK\",\"PHL\",\"SAU\",\"SGP\",\"LKA\",\"SYR\",\"TWN\",\"THA\",\"VNM\",\"PSE\",\"YEM\"],\"marker\":{\"color\":\"#636efa\",\"size\":[31889923,708573,150448339,14131858,1318683096,6980412,1110396331,223547000,69453570,27499638,6426679,127467972,6053193,23301725,49044790,2505559,3921278,24821286,2874127,47761980,28901790,3204897,169270617,91077287,27601038,4553009,20378239,19314747,23174294,65068149,85262356,4018332,22211743],\"sizemode\":\"area\",\"sizeref\":3296707.74,\"symbol\":\"circle\"},\"mode\":\"markers\",\"name\":\"Asia\",\"showlegend\":true,\"type\":\"scattergeo\"},{\"geo\":\"geo\",\"hovertemplate\":\"<b>%{hovertext}</b><br><br>continent=Europe<br>pop=%{marker.size}<br>iso_alpha=%{location}<extra></extra>\",\"hovertext\":[\"Albania\",\"Austria\",\"Belgium\",\"Bosnia and Herzegovina\",\"Bulgaria\",\"Croatia\",\"Czech Republic\",\"Denmark\",\"Finland\",\"France\",\"Germany\",\"Greece\",\"Hungary\",\"Iceland\",\"Ireland\",\"Italy\",\"Montenegro\",\"Netherlands\",\"Norway\",\"Poland\",\"Portugal\",\"Romania\",\"Serbia\",\"Slovak Republic\",\"Slovenia\",\"Spain\",\"Sweden\",\"Switzerland\",\"Turkey\",\"United Kingdom\"],\"legendgroup\":\"Europe\",\"locations\":[\"ALB\",\"AUT\",\"BEL\",\"BIH\",\"BGR\",\"HRV\",\"CZE\",\"DNK\",\"FIN\",\"FRA\",\"DEU\",\"GRC\",\"HUN\",\"ISL\",\"IRL\",\"ITA\",\"MNE\",\"NLD\",\"NOR\",\"POL\",\"PRT\",\"ROU\",\"SRB\",\"SVK\",\"SVN\",\"ESP\",\"SWE\",\"CHE\",\"TUR\",\"GBR\"],\"marker\":{\"color\":\"#EF553B\",\"size\":[3600523,8199783,10392226,4552198,7322858,4493312,10228744,5468120,5238460,61083916,82400996,10706290,9956108,301931,4109086,58147733,684736,16570613,4627926,38518241,10642836,22276056,10150265,5447502,2009245,40448191,9031088,7554661,71158647,60776238],\"sizemode\":\"area\",\"sizeref\":3296707.74,\"symbol\":\"circle\"},\"mode\":\"markers\",\"name\":\"Europe\",\"showlegend\":true,\"type\":\"scattergeo\"},{\"geo\":\"geo\",\"hovertemplate\":\"<b>%{hovertext}</b><br><br>continent=Africa<br>pop=%{marker.size}<br>iso_alpha=%{location}<extra></extra>\",\"hovertext\":[\"Algeria\",\"Angola\",\"Benin\",\"Botswana\",\"Burkina Faso\",\"Burundi\",\"Cameroon\",\"Central African Republic\",\"Chad\",\"Comoros\",\"Congo, Dem. Rep.\",\"Congo, Rep.\",\"Cote d'Ivoire\",\"Djibouti\",\"Egypt\",\"Equatorial Guinea\",\"Eritrea\",\"Ethiopia\",\"Gabon\",\"Gambia\",\"Ghana\",\"Guinea\",\"Guinea-Bissau\",\"Kenya\",\"Lesotho\",\"Liberia\",\"Libya\",\"Madagascar\",\"Malawi\",\"Mali\",\"Mauritania\",\"Mauritius\",\"Morocco\",\"Mozambique\",\"Namibia\",\"Niger\",\"Nigeria\",\"Reunion\",\"Rwanda\",\"Sao Tome and Principe\",\"Senegal\",\"Sierra Leone\",\"Somalia\",\"South Africa\",\"Sudan\",\"Swaziland\",\"Tanzania\",\"Togo\",\"Tunisia\",\"Uganda\",\"Zambia\",\"Zimbabwe\"],\"legendgroup\":\"Africa\",\"locations\":[\"DZA\",\"AGO\",\"BEN\",\"BWA\",\"BFA\",\"BDI\",\"CMR\",\"CAF\",\"TCD\",\"COM\",\"COD\",\"COG\",\"CIV\",\"DJI\",\"EGY\",\"GNQ\",\"ERI\",\"ETH\",\"GAB\",\"GMB\",\"GHA\",\"GIN\",\"GNB\",\"KEN\",\"LSO\",\"LBR\",\"LBY\",\"MDG\",\"MWI\",\"MLI\",\"MRT\",\"MUS\",\"MAR\",\"MOZ\",\"NAM\",\"NER\",\"NGA\",\"REU\",\"RWA\",\"STP\",\"SEN\",\"SLE\",\"SOM\",\"ZAF\",\"SDN\",\"SWZ\",\"TZA\",\"TGO\",\"TUN\",\"UGA\",\"ZMB\",\"ZWE\"],\"marker\":{\"color\":\"#00cc96\",\"size\":[33333216,12420476,8078314,1639131,14326203,8390505,17696293,4369038,10238807,710960,64606759,3800610,18013409,496374,80264543,551201,4906585,76511887,1454867,1688359,22873338,9947814,1472041,35610177,2012649,3193942,6036914,19167654,13327079,12031795,3270065,1250882,33757175,19951656,2055080,12894865,135031164,798094,8860588,199579,12267493,6144562,9118773,43997828,42292929,1133066,38139640,5701579,10276158,29170398,11746035,12311143],\"sizemode\":\"area\",\"sizeref\":3296707.74,\"symbol\":\"circle\"},\"mode\":\"markers\",\"name\":\"Africa\",\"showlegend\":true,\"type\":\"scattergeo\"},{\"geo\":\"geo\",\"hovertemplate\":\"<b>%{hovertext}</b><br><br>continent=Americas<br>pop=%{marker.size}<br>iso_alpha=%{location}<extra></extra>\",\"hovertext\":[\"Argentina\",\"Bolivia\",\"Brazil\",\"Canada\",\"Chile\",\"Colombia\",\"Costa Rica\",\"Cuba\",\"Dominican Republic\",\"Ecuador\",\"El Salvador\",\"Guatemala\",\"Haiti\",\"Honduras\",\"Jamaica\",\"Mexico\",\"Nicaragua\",\"Panama\",\"Paraguay\",\"Peru\",\"Puerto Rico\",\"Trinidad and Tobago\",\"United States\",\"Uruguay\",\"Venezuela\"],\"legendgroup\":\"Americas\",\"locations\":[\"ARG\",\"BOL\",\"BRA\",\"CAN\",\"CHL\",\"COL\",\"CRI\",\"CUB\",\"DOM\",\"ECU\",\"SLV\",\"GTM\",\"HTI\",\"HND\",\"JAM\",\"MEX\",\"NIC\",\"PAN\",\"PRY\",\"PER\",\"PRI\",\"TTO\",\"USA\",\"URY\",\"VEN\"],\"marker\":{\"color\":\"#ab63fa\",\"size\":[40301927,9119152,190010647,33390141,16284741,44227550,4133884,11416987,9319622,13755680,6939688,12572928,8502814,7483763,2780132,108700891,5675356,3242173,6667147,28674757,3942491,1056608,301139947,3447496,26084662],\"sizemode\":\"area\",\"sizeref\":3296707.74,\"symbol\":\"circle\"},\"mode\":\"markers\",\"name\":\"Americas\",\"showlegend\":true,\"type\":\"scattergeo\"},{\"geo\":\"geo\",\"hovertemplate\":\"<b>%{hovertext}</b><br><br>continent=Oceania<br>pop=%{marker.size}<br>iso_alpha=%{location}<extra></extra>\",\"hovertext\":[\"Australia\",\"New Zealand\"],\"legendgroup\":\"Oceania\",\"locations\":[\"AUS\",\"NZL\"],\"marker\":{\"color\":\"#FFA15A\",\"size\":[20434176,4115771],\"sizemode\":\"area\",\"sizeref\":3296707.74,\"symbol\":\"circle\"},\"mode\":\"markers\",\"name\":\"Oceania\",\"showlegend\":true,\"type\":\"scattergeo\"}],                        {\"template\":{\"data\":{\"histogram2dcontour\":[{\"type\":\"histogram2dcontour\",\"colorbar\":{\"outlinewidth\":0,\"ticks\":\"\"},\"colorscale\":[[0.0,\"#0d0887\"],[0.1111111111111111,\"#46039f\"],[0.2222222222222222,\"#7201a8\"],[0.3333333333333333,\"#9c179e\"],[0.4444444444444444,\"#bd3786\"],[0.5555555555555556,\"#d8576b\"],[0.6666666666666666,\"#ed7953\"],[0.7777777777777778,\"#fb9f3a\"],[0.8888888888888888,\"#fdca26\"],[1.0,\"#f0f921\"]]}],\"choropleth\":[{\"type\":\"choropleth\",\"colorbar\":{\"outlinewidth\":0,\"ticks\":\"\"}}],\"histogram2d\":[{\"type\":\"histogram2d\",\"colorbar\":{\"outlinewidth\":0,\"ticks\":\"\"},\"colorscale\":[[0.0,\"#0d0887\"],[0.1111111111111111,\"#46039f\"],[0.2222222222222222,\"#7201a8\"],[0.3333333333333333,\"#9c179e\"],[0.4444444444444444,\"#bd3786\"],[0.5555555555555556,\"#d8576b\"],[0.6666666666666666,\"#ed7953\"],[0.7777777777777778,\"#fb9f3a\"],[0.8888888888888888,\"#fdca26\"],[1.0,\"#f0f921\"]]}],\"heatmap\":[{\"type\":\"heatmap\",\"colorbar\":{\"outlinewidth\":0,\"ticks\":\"\"},\"colorscale\":[[0.0,\"#0d0887\"],[0.1111111111111111,\"#46039f\"],[0.2222222222222222,\"#7201a8\"],[0.3333333333333333,\"#9c179e\"],[0.4444444444444444,\"#bd3786\"],[0.5555555555555556,\"#d8576b\"],[0.6666666666666666,\"#ed7953\"],[0.7777777777777778,\"#fb9f3a\"],[0.8888888888888888,\"#fdca26\"],[1.0,\"#f0f921\"]]}],\"heatmapgl\":[{\"type\":\"heatmapgl\",\"colorbar\":{\"outlinewidth\":0,\"ticks\":\"\"},\"colorscale\":[[0.0,\"#0d0887\"],[0.1111111111111111,\"#46039f\"],[0.2222222222222222,\"#7201a8\"],[0.3333333333333333,\"#9c179e\"],[0.4444444444444444,\"#bd3786\"],[0.5555555555555556,\"#d8576b\"],[0.6666666666666666,\"#ed7953\"],[0.7777777777777778,\"#fb9f3a\"],[0.8888888888888888,\"#fdca26\"],[1.0,\"#f0f921\"]]}],\"contourcarpet\":[{\"type\":\"contourcarpet\",\"colorbar\":{\"outlinewidth\":0,\"ticks\":\"\"}}],\"contour\":[{\"type\":\"contour\",\"colorbar\":{\"outlinewidth\":0,\"ticks\":\"\"},\"colorscale\":[[0.0,\"#0d0887\"],[0.1111111111111111,\"#46039f\"],[0.2222222222222222,\"#7201a8\"],[0.3333333333333333,\"#9c179e\"],[0.4444444444444444,\"#bd3786\"],[0.5555555555555556,\"#d8576b\"],[0.6666666666666666,\"#ed7953\"],[0.7777777777777778,\"#fb9f3a\"],[0.8888888888888888,\"#fdca26\"],[1.0,\"#f0f921\"]]}],\"surface\":[{\"type\":\"surface\",\"colorbar\":{\"outlinewidth\":0,\"ticks\":\"\"},\"colorscale\":[[0.0,\"#0d0887\"],[0.1111111111111111,\"#46039f\"],[0.2222222222222222,\"#7201a8\"],[0.3333333333333333,\"#9c179e\"],[0.4444444444444444,\"#bd3786\"],[0.5555555555555556,\"#d8576b\"],[0.6666666666666666,\"#ed7953\"],[0.7777777777777778,\"#fb9f3a\"],[0.8888888888888888,\"#fdca26\"],[1.0,\"#f0f921\"]]}],\"mesh3d\":[{\"type\":\"mesh3d\",\"colorbar\":{\"outlinewidth\":0,\"ticks\":\"\"}}],\"scatter\":[{\"fillpattern\":{\"fillmode\":\"overlay\",\"size\":10,\"solidity\":0.2},\"type\":\"scatter\"}],\"parcoords\":[{\"type\":\"parcoords\",\"line\":{\"colorbar\":{\"outlinewidth\":0,\"ticks\":\"\"}}}],\"scatterpolargl\":[{\"type\":\"scatterpolargl\",\"marker\":{\"colorbar\":{\"outlinewidth\":0,\"ticks\":\"\"}}}],\"bar\":[{\"error_x\":{\"color\":\"#2a3f5f\"},\"error_y\":{\"color\":\"#2a3f5f\"},\"marker\":{\"line\":{\"color\":\"#E5ECF6\",\"width\":0.5},\"pattern\":{\"fillmode\":\"overlay\",\"size\":10,\"solidity\":0.2}},\"type\":\"bar\"}],\"scattergeo\":[{\"type\":\"scattergeo\",\"marker\":{\"colorbar\":{\"outlinewidth\":0,\"ticks\":\"\"}}}],\"scatterpolar\":[{\"type\":\"scatterpolar\",\"marker\":{\"colorbar\":{\"outlinewidth\":0,\"ticks\":\"\"}}}],\"histogram\":[{\"marker\":{\"pattern\":{\"fillmode\":\"overlay\",\"size\":10,\"solidity\":0.2}},\"type\":\"histogram\"}],\"scattergl\":[{\"type\":\"scattergl\",\"marker\":{\"colorbar\":{\"outlinewidth\":0,\"ticks\":\"\"}}}],\"scatter3d\":[{\"type\":\"scatter3d\",\"line\":{\"colorbar\":{\"outlinewidth\":0,\"ticks\":\"\"}},\"marker\":{\"colorbar\":{\"outlinewidth\":0,\"ticks\":\"\"}}}],\"scattermapbox\":[{\"type\":\"scattermapbox\",\"marker\":{\"colorbar\":{\"outlinewidth\":0,\"ticks\":\"\"}}}],\"scatterternary\":[{\"type\":\"scatterternary\",\"marker\":{\"colorbar\":{\"outlinewidth\":0,\"ticks\":\"\"}}}],\"scattercarpet\":[{\"type\":\"scattercarpet\",\"marker\":{\"colorbar\":{\"outlinewidth\":0,\"ticks\":\"\"}}}],\"carpet\":[{\"aaxis\":{\"endlinecolor\":\"#2a3f5f\",\"gridcolor\":\"white\",\"linecolor\":\"white\",\"minorgridcolor\":\"white\",\"startlinecolor\":\"#2a3f5f\"},\"baxis\":{\"endlinecolor\":\"#2a3f5f\",\"gridcolor\":\"white\",\"linecolor\":\"white\",\"minorgridcolor\":\"white\",\"startlinecolor\":\"#2a3f5f\"},\"type\":\"carpet\"}],\"table\":[{\"cells\":{\"fill\":{\"color\":\"#EBF0F8\"},\"line\":{\"color\":\"white\"}},\"header\":{\"fill\":{\"color\":\"#C8D4E3\"},\"line\":{\"color\":\"white\"}},\"type\":\"table\"}],\"barpolar\":[{\"marker\":{\"line\":{\"color\":\"#E5ECF6\",\"width\":0.5},\"pattern\":{\"fillmode\":\"overlay\",\"size\":10,\"solidity\":0.2}},\"type\":\"barpolar\"}],\"pie\":[{\"automargin\":true,\"type\":\"pie\"}]},\"layout\":{\"autotypenumbers\":\"strict\",\"colorway\":[\"#636efa\",\"#EF553B\",\"#00cc96\",\"#ab63fa\",\"#FFA15A\",\"#19d3f3\",\"#FF6692\",\"#B6E880\",\"#FF97FF\",\"#FECB52\"],\"font\":{\"color\":\"#2a3f5f\"},\"hovermode\":\"closest\",\"hoverlabel\":{\"align\":\"left\"},\"paper_bgcolor\":\"white\",\"plot_bgcolor\":\"#E5ECF6\",\"polar\":{\"bgcolor\":\"#E5ECF6\",\"angularaxis\":{\"gridcolor\":\"white\",\"linecolor\":\"white\",\"ticks\":\"\"},\"radialaxis\":{\"gridcolor\":\"white\",\"linecolor\":\"white\",\"ticks\":\"\"}},\"ternary\":{\"bgcolor\":\"#E5ECF6\",\"aaxis\":{\"gridcolor\":\"white\",\"linecolor\":\"white\",\"ticks\":\"\"},\"baxis\":{\"gridcolor\":\"white\",\"linecolor\":\"white\",\"ticks\":\"\"},\"caxis\":{\"gridcolor\":\"white\",\"linecolor\":\"white\",\"ticks\":\"\"}},\"coloraxis\":{\"colorbar\":{\"outlinewidth\":0,\"ticks\":\"\"}},\"colorscale\":{\"sequential\":[[0.0,\"#0d0887\"],[0.1111111111111111,\"#46039f\"],[0.2222222222222222,\"#7201a8\"],[0.3333333333333333,\"#9c179e\"],[0.4444444444444444,\"#bd3786\"],[0.5555555555555556,\"#d8576b\"],[0.6666666666666666,\"#ed7953\"],[0.7777777777777778,\"#fb9f3a\"],[0.8888888888888888,\"#fdca26\"],[1.0,\"#f0f921\"]],\"sequentialminus\":[[0.0,\"#0d0887\"],[0.1111111111111111,\"#46039f\"],[0.2222222222222222,\"#7201a8\"],[0.3333333333333333,\"#9c179e\"],[0.4444444444444444,\"#bd3786\"],[0.5555555555555556,\"#d8576b\"],[0.6666666666666666,\"#ed7953\"],[0.7777777777777778,\"#fb9f3a\"],[0.8888888888888888,\"#fdca26\"],[1.0,\"#f0f921\"]],\"diverging\":[[0,\"#8e0152\"],[0.1,\"#c51b7d\"],[0.2,\"#de77ae\"],[0.3,\"#f1b6da\"],[0.4,\"#fde0ef\"],[0.5,\"#f7f7f7\"],[0.6,\"#e6f5d0\"],[0.7,\"#b8e186\"],[0.8,\"#7fbc41\"],[0.9,\"#4d9221\"],[1,\"#276419\"]]},\"xaxis\":{\"gridcolor\":\"white\",\"linecolor\":\"white\",\"ticks\":\"\",\"title\":{\"standoff\":15},\"zerolinecolor\":\"white\",\"automargin\":true,\"zerolinewidth\":2},\"yaxis\":{\"gridcolor\":\"white\",\"linecolor\":\"white\",\"ticks\":\"\",\"title\":{\"standoff\":15},\"zerolinecolor\":\"white\",\"automargin\":true,\"zerolinewidth\":2},\"scene\":{\"xaxis\":{\"backgroundcolor\":\"#E5ECF6\",\"gridcolor\":\"white\",\"linecolor\":\"white\",\"showbackground\":true,\"ticks\":\"\",\"zerolinecolor\":\"white\",\"gridwidth\":2},\"yaxis\":{\"backgroundcolor\":\"#E5ECF6\",\"gridcolor\":\"white\",\"linecolor\":\"white\",\"showbackground\":true,\"ticks\":\"\",\"zerolinecolor\":\"white\",\"gridwidth\":2},\"zaxis\":{\"backgroundcolor\":\"#E5ECF6\",\"gridcolor\":\"white\",\"linecolor\":\"white\",\"showbackground\":true,\"ticks\":\"\",\"zerolinecolor\":\"white\",\"gridwidth\":2}},\"shapedefaults\":{\"line\":{\"color\":\"#2a3f5f\"}},\"annotationdefaults\":{\"arrowcolor\":\"#2a3f5f\",\"arrowhead\":0,\"arrowwidth\":1},\"geo\":{\"bgcolor\":\"white\",\"landcolor\":\"#E5ECF6\",\"subunitcolor\":\"white\",\"showland\":true,\"showlakes\":true,\"lakecolor\":\"white\"},\"title\":{\"x\":0.05},\"mapbox\":{\"style\":\"light\"}}},\"geo\":{\"domain\":{\"x\":[0.0,1.0],\"y\":[0.0,1.0]},\"projection\":{\"type\":\"natural earth\"},\"center\":{}},\"legend\":{\"title\":{\"text\":\"continent\"},\"tracegroupgap\":0,\"itemsizing\":\"constant\"},\"margin\":{\"t\":60}},                        {\"responsive\": true}                    ).then(function(){\n",
       "                            \n",
       "var gd = document.getElementById('ae08e01a-4e61-4d54-9ab2-b5c0187d9cf4');\n",
       "var x = new MutationObserver(function (mutations, observer) {{\n",
       "        var display = window.getComputedStyle(gd).display;\n",
       "        if (!display || display === 'none') {{\n",
       "            console.log([gd, 'removed!']);\n",
       "            Plotly.purge(gd);\n",
       "            observer.disconnect();\n",
       "        }}\n",
       "}});\n",
       "\n",
       "// Listen for the removal of the full notebook cells\n",
       "var notebookContainer = gd.closest('#notebook-container');\n",
       "if (notebookContainer) {{\n",
       "    x.observe(notebookContainer, {childList: true});\n",
       "}}\n",
       "\n",
       "// Listen for the clearing of the current output cell\n",
       "var outputEl = gd.closest('.output');\n",
       "if (outputEl) {{\n",
       "    x.observe(outputEl, {childList: true});\n",
       "}}\n",
       "\n",
       "                        })                };                });            </script>        </div>"
      ]
     },
     "metadata": {},
     "output_type": "display_data"
    }
   ],
   "source": [
    "import plotly.express as px\n",
    "df = px.data.gapminder().query(\"year==2007\")\n",
    "\n",
    "fig = px.scatter_geo(df,\n",
    "                     locations=\"iso_alpha\",\n",
    "                     color=\"continent\",\n",
    "                     hover_name=\"country\",\n",
    "                     size=\"pop\",\n",
    "                     projection=\"natural earth\"\n",
    ")\n",
    "fig.show()"
   ]
  },
  {
   "cell_type": "code",
   "execution_count": 7,
   "metadata": {},
   "outputs": [
    {
     "data": {
      "application/vnd.plotly.v1+json": {
       "config": {
        "plotlyServerURL": "https://plot.ly"
       },
       "data": [
        {
         "geo": "geo",
         "hovertemplate": "<b>%{hovertext}</b><br><br>continent=Asia<br>year=1952<br>pop=%{marker.size}<br>iso_alpha=%{location}<extra></extra>",
         "hovertext": [
          "Afghanistan",
          "Bahrain",
          "Bangladesh",
          "Cambodia",
          "China",
          "Hong Kong, China",
          "India",
          "Indonesia",
          "Iran",
          "Iraq",
          "Israel",
          "Japan",
          "Jordan",
          "Korea, Dem. Rep.",
          "Korea, Rep.",
          "Kuwait",
          "Lebanon",
          "Malaysia",
          "Mongolia",
          "Myanmar",
          "Nepal",
          "Oman",
          "Pakistan",
          "Philippines",
          "Saudi Arabia",
          "Singapore",
          "Sri Lanka",
          "Syria",
          "Taiwan",
          "Thailand",
          "Vietnam",
          "West Bank and Gaza",
          "Yemen, Rep."
         ],
         "legendgroup": "Asia",
         "locations": [
          "AFG",
          "BHR",
          "BGD",
          "KHM",
          "CHN",
          "HKG",
          "IND",
          "IDN",
          "IRN",
          "IRQ",
          "ISR",
          "JPN",
          "JOR",
          "KOR",
          "KOR",
          "KWT",
          "LBN",
          "MYS",
          "MNG",
          "MMR",
          "NPL",
          "OMN",
          "PAK",
          "PHL",
          "SAU",
          "SGP",
          "LKA",
          "SYR",
          "TWN",
          "THA",
          "VNM",
          "PSE",
          "YEM"
         ],
         "marker": {
          "color": "#636efa",
          "size": [
           8425333,
           120447,
           46886859,
           4693836,
           556263527,
           2125900,
           372000000,
           82052000,
           17272000,
           5441766,
           1620914,
           86459025,
           607914,
           8865488,
           20947571,
           160000,
           1439529,
           6748378,
           800663,
           20092996,
           9182536,
           507833,
           41346560,
           22438691,
           4005677,
           1127000,
           7982342,
           3661549,
           8550362,
           21289402,
           26246839,
           1030585,
           4963829
          ],
          "sizemode": "area",
          "sizeref": 3296707.74,
          "symbol": "circle"
         },
         "mode": "markers",
         "name": "Asia",
         "showlegend": true,
         "type": "scattergeo"
        },
        {
         "geo": "geo",
         "hovertemplate": "<b>%{hovertext}</b><br><br>continent=Europe<br>year=1952<br>pop=%{marker.size}<br>iso_alpha=%{location}<extra></extra>",
         "hovertext": [
          "Albania",
          "Austria",
          "Belgium",
          "Bosnia and Herzegovina",
          "Bulgaria",
          "Croatia",
          "Czech Republic",
          "Denmark",
          "Finland",
          "France",
          "Germany",
          "Greece",
          "Hungary",
          "Iceland",
          "Ireland",
          "Italy",
          "Montenegro",
          "Netherlands",
          "Norway",
          "Poland",
          "Portugal",
          "Romania",
          "Serbia",
          "Slovak Republic",
          "Slovenia",
          "Spain",
          "Sweden",
          "Switzerland",
          "Turkey",
          "United Kingdom"
         ],
         "legendgroup": "Europe",
         "locations": [
          "ALB",
          "AUT",
          "BEL",
          "BIH",
          "BGR",
          "HRV",
          "CZE",
          "DNK",
          "FIN",
          "FRA",
          "DEU",
          "GRC",
          "HUN",
          "ISL",
          "IRL",
          "ITA",
          "MNE",
          "NLD",
          "NOR",
          "POL",
          "PRT",
          "ROU",
          "SRB",
          "SVK",
          "SVN",
          "ESP",
          "SWE",
          "CHE",
          "TUR",
          "GBR"
         ],
         "marker": {
          "color": "#EF553B",
          "size": [
           1282697,
           6927772,
           8730405,
           2791000,
           7274900,
           3882229,
           9125183,
           4334000,
           4090500,
           42459667,
           69145952,
           7733250,
           9504000,
           147962,
           2952156,
           47666000,
           413834,
           10381988,
           3327728,
           25730551,
           8526050,
           16630000,
           6860147,
           3558137,
           1489518,
           28549870,
           7124673,
           4815000,
           22235677,
           50430000
          ],
          "sizemode": "area",
          "sizeref": 3296707.74,
          "symbol": "circle"
         },
         "mode": "markers",
         "name": "Europe",
         "showlegend": true,
         "type": "scattergeo"
        },
        {
         "geo": "geo",
         "hovertemplate": "<b>%{hovertext}</b><br><br>continent=Africa<br>year=1952<br>pop=%{marker.size}<br>iso_alpha=%{location}<extra></extra>",
         "hovertext": [
          "Algeria",
          "Angola",
          "Benin",
          "Botswana",
          "Burkina Faso",
          "Burundi",
          "Cameroon",
          "Central African Republic",
          "Chad",
          "Comoros",
          "Congo, Dem. Rep.",
          "Congo, Rep.",
          "Cote d'Ivoire",
          "Djibouti",
          "Egypt",
          "Equatorial Guinea",
          "Eritrea",
          "Ethiopia",
          "Gabon",
          "Gambia",
          "Ghana",
          "Guinea",
          "Guinea-Bissau",
          "Kenya",
          "Lesotho",
          "Liberia",
          "Libya",
          "Madagascar",
          "Malawi",
          "Mali",
          "Mauritania",
          "Mauritius",
          "Morocco",
          "Mozambique",
          "Namibia",
          "Niger",
          "Nigeria",
          "Reunion",
          "Rwanda",
          "Sao Tome and Principe",
          "Senegal",
          "Sierra Leone",
          "Somalia",
          "South Africa",
          "Sudan",
          "Swaziland",
          "Tanzania",
          "Togo",
          "Tunisia",
          "Uganda",
          "Zambia",
          "Zimbabwe"
         ],
         "legendgroup": "Africa",
         "locations": [
          "DZA",
          "AGO",
          "BEN",
          "BWA",
          "BFA",
          "BDI",
          "CMR",
          "CAF",
          "TCD",
          "COM",
          "COD",
          "COG",
          "CIV",
          "DJI",
          "EGY",
          "GNQ",
          "ERI",
          "ETH",
          "GAB",
          "GMB",
          "GHA",
          "GIN",
          "GNB",
          "KEN",
          "LSO",
          "LBR",
          "LBY",
          "MDG",
          "MWI",
          "MLI",
          "MRT",
          "MUS",
          "MAR",
          "MOZ",
          "NAM",
          "NER",
          "NGA",
          "REU",
          "RWA",
          "STP",
          "SEN",
          "SLE",
          "SOM",
          "ZAF",
          "SDN",
          "SWZ",
          "TZA",
          "TGO",
          "TUN",
          "UGA",
          "ZMB",
          "ZWE"
         ],
         "marker": {
          "color": "#00cc96",
          "size": [
           9279525,
           4232095,
           1738315,
           442308,
           4469979,
           2445618,
           5009067,
           1291695,
           2682462,
           153936,
           14100005,
           854885,
           2977019,
           63149,
           22223309,
           216964,
           1438760,
           20860941,
           420702,
           284320,
           5581001,
           2664249,
           580653,
           6464046,
           748747,
           863308,
           1019729,
           4762912,
           2917802,
           3838168,
           1022556,
           516556,
           9939217,
           6446316,
           485831,
           3379468,
           33119096,
           257700,
           2534927,
           60011,
           2755589,
           2143249,
           2526994,
           14264935,
           8504667,
           290243,
           8322925,
           1219113,
           3647735,
           5824797,
           2672000,
           3080907
          ],
          "sizemode": "area",
          "sizeref": 3296707.74,
          "symbol": "circle"
         },
         "mode": "markers",
         "name": "Africa",
         "showlegend": true,
         "type": "scattergeo"
        },
        {
         "geo": "geo",
         "hovertemplate": "<b>%{hovertext}</b><br><br>continent=Americas<br>year=1952<br>pop=%{marker.size}<br>iso_alpha=%{location}<extra></extra>",
         "hovertext": [
          "Argentina",
          "Bolivia",
          "Brazil",
          "Canada",
          "Chile",
          "Colombia",
          "Costa Rica",
          "Cuba",
          "Dominican Republic",
          "Ecuador",
          "El Salvador",
          "Guatemala",
          "Haiti",
          "Honduras",
          "Jamaica",
          "Mexico",
          "Nicaragua",
          "Panama",
          "Paraguay",
          "Peru",
          "Puerto Rico",
          "Trinidad and Tobago",
          "United States",
          "Uruguay",
          "Venezuela"
         ],
         "legendgroup": "Americas",
         "locations": [
          "ARG",
          "BOL",
          "BRA",
          "CAN",
          "CHL",
          "COL",
          "CRI",
          "CUB",
          "DOM",
          "ECU",
          "SLV",
          "GTM",
          "HTI",
          "HND",
          "JAM",
          "MEX",
          "NIC",
          "PAN",
          "PRY",
          "PER",
          "PRI",
          "TTO",
          "USA",
          "URY",
          "VEN"
         ],
         "marker": {
          "color": "#ab63fa",
          "size": [
           17876956,
           2883315,
           56602560,
           14785584,
           6377619,
           12350771,
           926317,
           6007797,
           2491346,
           3548753,
           2042865,
           3146381,
           3201488,
           1517453,
           1426095,
           30144317,
           1165790,
           940080,
           1555876,
           8025700,
           2227000,
           662850,
           157553000,
           2252965,
           5439568
          ],
          "sizemode": "area",
          "sizeref": 3296707.74,
          "symbol": "circle"
         },
         "mode": "markers",
         "name": "Americas",
         "showlegend": true,
         "type": "scattergeo"
        },
        {
         "geo": "geo",
         "hovertemplate": "<b>%{hovertext}</b><br><br>continent=Oceania<br>year=1952<br>pop=%{marker.size}<br>iso_alpha=%{location}<extra></extra>",
         "hovertext": [
          "Australia",
          "New Zealand"
         ],
         "legendgroup": "Oceania",
         "locations": [
          "AUS",
          "NZL"
         ],
         "marker": {
          "color": "#FFA15A",
          "size": [
           8691212,
           1994794
          ],
          "sizemode": "area",
          "sizeref": 3296707.74,
          "symbol": "circle"
         },
         "mode": "markers",
         "name": "Oceania",
         "showlegend": true,
         "type": "scattergeo"
        }
       ],
       "frames": [
        {
         "data": [
          {
           "geo": "geo",
           "hovertemplate": "<b>%{hovertext}</b><br><br>continent=Asia<br>year=1952<br>pop=%{marker.size}<br>iso_alpha=%{location}<extra></extra>",
           "hovertext": [
            "Afghanistan",
            "Bahrain",
            "Bangladesh",
            "Cambodia",
            "China",
            "Hong Kong, China",
            "India",
            "Indonesia",
            "Iran",
            "Iraq",
            "Israel",
            "Japan",
            "Jordan",
            "Korea, Dem. Rep.",
            "Korea, Rep.",
            "Kuwait",
            "Lebanon",
            "Malaysia",
            "Mongolia",
            "Myanmar",
            "Nepal",
            "Oman",
            "Pakistan",
            "Philippines",
            "Saudi Arabia",
            "Singapore",
            "Sri Lanka",
            "Syria",
            "Taiwan",
            "Thailand",
            "Vietnam",
            "West Bank and Gaza",
            "Yemen, Rep."
           ],
           "legendgroup": "Asia",
           "locations": [
            "AFG",
            "BHR",
            "BGD",
            "KHM",
            "CHN",
            "HKG",
            "IND",
            "IDN",
            "IRN",
            "IRQ",
            "ISR",
            "JPN",
            "JOR",
            "KOR",
            "KOR",
            "KWT",
            "LBN",
            "MYS",
            "MNG",
            "MMR",
            "NPL",
            "OMN",
            "PAK",
            "PHL",
            "SAU",
            "SGP",
            "LKA",
            "SYR",
            "TWN",
            "THA",
            "VNM",
            "PSE",
            "YEM"
           ],
           "marker": {
            "color": "#636efa",
            "size": [
             8425333,
             120447,
             46886859,
             4693836,
             556263527,
             2125900,
             372000000,
             82052000,
             17272000,
             5441766,
             1620914,
             86459025,
             607914,
             8865488,
             20947571,
             160000,
             1439529,
             6748378,
             800663,
             20092996,
             9182536,
             507833,
             41346560,
             22438691,
             4005677,
             1127000,
             7982342,
             3661549,
             8550362,
             21289402,
             26246839,
             1030585,
             4963829
            ],
            "sizemode": "area",
            "sizeref": 3296707.74,
            "symbol": "circle"
           },
           "mode": "markers",
           "name": "Asia",
           "showlegend": true,
           "type": "scattergeo"
          },
          {
           "geo": "geo",
           "hovertemplate": "<b>%{hovertext}</b><br><br>continent=Europe<br>year=1952<br>pop=%{marker.size}<br>iso_alpha=%{location}<extra></extra>",
           "hovertext": [
            "Albania",
            "Austria",
            "Belgium",
            "Bosnia and Herzegovina",
            "Bulgaria",
            "Croatia",
            "Czech Republic",
            "Denmark",
            "Finland",
            "France",
            "Germany",
            "Greece",
            "Hungary",
            "Iceland",
            "Ireland",
            "Italy",
            "Montenegro",
            "Netherlands",
            "Norway",
            "Poland",
            "Portugal",
            "Romania",
            "Serbia",
            "Slovak Republic",
            "Slovenia",
            "Spain",
            "Sweden",
            "Switzerland",
            "Turkey",
            "United Kingdom"
           ],
           "legendgroup": "Europe",
           "locations": [
            "ALB",
            "AUT",
            "BEL",
            "BIH",
            "BGR",
            "HRV",
            "CZE",
            "DNK",
            "FIN",
            "FRA",
            "DEU",
            "GRC",
            "HUN",
            "ISL",
            "IRL",
            "ITA",
            "MNE",
            "NLD",
            "NOR",
            "POL",
            "PRT",
            "ROU",
            "SRB",
            "SVK",
            "SVN",
            "ESP",
            "SWE",
            "CHE",
            "TUR",
            "GBR"
           ],
           "marker": {
            "color": "#EF553B",
            "size": [
             1282697,
             6927772,
             8730405,
             2791000,
             7274900,
             3882229,
             9125183,
             4334000,
             4090500,
             42459667,
             69145952,
             7733250,
             9504000,
             147962,
             2952156,
             47666000,
             413834,
             10381988,
             3327728,
             25730551,
             8526050,
             16630000,
             6860147,
             3558137,
             1489518,
             28549870,
             7124673,
             4815000,
             22235677,
             50430000
            ],
            "sizemode": "area",
            "sizeref": 3296707.74,
            "symbol": "circle"
           },
           "mode": "markers",
           "name": "Europe",
           "showlegend": true,
           "type": "scattergeo"
          },
          {
           "geo": "geo",
           "hovertemplate": "<b>%{hovertext}</b><br><br>continent=Africa<br>year=1952<br>pop=%{marker.size}<br>iso_alpha=%{location}<extra></extra>",
           "hovertext": [
            "Algeria",
            "Angola",
            "Benin",
            "Botswana",
            "Burkina Faso",
            "Burundi",
            "Cameroon",
            "Central African Republic",
            "Chad",
            "Comoros",
            "Congo, Dem. Rep.",
            "Congo, Rep.",
            "Cote d'Ivoire",
            "Djibouti",
            "Egypt",
            "Equatorial Guinea",
            "Eritrea",
            "Ethiopia",
            "Gabon",
            "Gambia",
            "Ghana",
            "Guinea",
            "Guinea-Bissau",
            "Kenya",
            "Lesotho",
            "Liberia",
            "Libya",
            "Madagascar",
            "Malawi",
            "Mali",
            "Mauritania",
            "Mauritius",
            "Morocco",
            "Mozambique",
            "Namibia",
            "Niger",
            "Nigeria",
            "Reunion",
            "Rwanda",
            "Sao Tome and Principe",
            "Senegal",
            "Sierra Leone",
            "Somalia",
            "South Africa",
            "Sudan",
            "Swaziland",
            "Tanzania",
            "Togo",
            "Tunisia",
            "Uganda",
            "Zambia",
            "Zimbabwe"
           ],
           "legendgroup": "Africa",
           "locations": [
            "DZA",
            "AGO",
            "BEN",
            "BWA",
            "BFA",
            "BDI",
            "CMR",
            "CAF",
            "TCD",
            "COM",
            "COD",
            "COG",
            "CIV",
            "DJI",
            "EGY",
            "GNQ",
            "ERI",
            "ETH",
            "GAB",
            "GMB",
            "GHA",
            "GIN",
            "GNB",
            "KEN",
            "LSO",
            "LBR",
            "LBY",
            "MDG",
            "MWI",
            "MLI",
            "MRT",
            "MUS",
            "MAR",
            "MOZ",
            "NAM",
            "NER",
            "NGA",
            "REU",
            "RWA",
            "STP",
            "SEN",
            "SLE",
            "SOM",
            "ZAF",
            "SDN",
            "SWZ",
            "TZA",
            "TGO",
            "TUN",
            "UGA",
            "ZMB",
            "ZWE"
           ],
           "marker": {
            "color": "#00cc96",
            "size": [
             9279525,
             4232095,
             1738315,
             442308,
             4469979,
             2445618,
             5009067,
             1291695,
             2682462,
             153936,
             14100005,
             854885,
             2977019,
             63149,
             22223309,
             216964,
             1438760,
             20860941,
             420702,
             284320,
             5581001,
             2664249,
             580653,
             6464046,
             748747,
             863308,
             1019729,
             4762912,
             2917802,
             3838168,
             1022556,
             516556,
             9939217,
             6446316,
             485831,
             3379468,
             33119096,
             257700,
             2534927,
             60011,
             2755589,
             2143249,
             2526994,
             14264935,
             8504667,
             290243,
             8322925,
             1219113,
             3647735,
             5824797,
             2672000,
             3080907
            ],
            "sizemode": "area",
            "sizeref": 3296707.74,
            "symbol": "circle"
           },
           "mode": "markers",
           "name": "Africa",
           "showlegend": true,
           "type": "scattergeo"
          },
          {
           "geo": "geo",
           "hovertemplate": "<b>%{hovertext}</b><br><br>continent=Americas<br>year=1952<br>pop=%{marker.size}<br>iso_alpha=%{location}<extra></extra>",
           "hovertext": [
            "Argentina",
            "Bolivia",
            "Brazil",
            "Canada",
            "Chile",
            "Colombia",
            "Costa Rica",
            "Cuba",
            "Dominican Republic",
            "Ecuador",
            "El Salvador",
            "Guatemala",
            "Haiti",
            "Honduras",
            "Jamaica",
            "Mexico",
            "Nicaragua",
            "Panama",
            "Paraguay",
            "Peru",
            "Puerto Rico",
            "Trinidad and Tobago",
            "United States",
            "Uruguay",
            "Venezuela"
           ],
           "legendgroup": "Americas",
           "locations": [
            "ARG",
            "BOL",
            "BRA",
            "CAN",
            "CHL",
            "COL",
            "CRI",
            "CUB",
            "DOM",
            "ECU",
            "SLV",
            "GTM",
            "HTI",
            "HND",
            "JAM",
            "MEX",
            "NIC",
            "PAN",
            "PRY",
            "PER",
            "PRI",
            "TTO",
            "USA",
            "URY",
            "VEN"
           ],
           "marker": {
            "color": "#ab63fa",
            "size": [
             17876956,
             2883315,
             56602560,
             14785584,
             6377619,
             12350771,
             926317,
             6007797,
             2491346,
             3548753,
             2042865,
             3146381,
             3201488,
             1517453,
             1426095,
             30144317,
             1165790,
             940080,
             1555876,
             8025700,
             2227000,
             662850,
             157553000,
             2252965,
             5439568
            ],
            "sizemode": "area",
            "sizeref": 3296707.74,
            "symbol": "circle"
           },
           "mode": "markers",
           "name": "Americas",
           "showlegend": true,
           "type": "scattergeo"
          },
          {
           "geo": "geo",
           "hovertemplate": "<b>%{hovertext}</b><br><br>continent=Oceania<br>year=1952<br>pop=%{marker.size}<br>iso_alpha=%{location}<extra></extra>",
           "hovertext": [
            "Australia",
            "New Zealand"
           ],
           "legendgroup": "Oceania",
           "locations": [
            "AUS",
            "NZL"
           ],
           "marker": {
            "color": "#FFA15A",
            "size": [
             8691212,
             1994794
            ],
            "sizemode": "area",
            "sizeref": 3296707.74,
            "symbol": "circle"
           },
           "mode": "markers",
           "name": "Oceania",
           "showlegend": true,
           "type": "scattergeo"
          }
         ],
         "name": "1952"
        },
        {
         "data": [
          {
           "geo": "geo",
           "hovertemplate": "<b>%{hovertext}</b><br><br>continent=Asia<br>year=1957<br>pop=%{marker.size}<br>iso_alpha=%{location}<extra></extra>",
           "hovertext": [
            "Afghanistan",
            "Bahrain",
            "Bangladesh",
            "Cambodia",
            "China",
            "Hong Kong, China",
            "India",
            "Indonesia",
            "Iran",
            "Iraq",
            "Israel",
            "Japan",
            "Jordan",
            "Korea, Dem. Rep.",
            "Korea, Rep.",
            "Kuwait",
            "Lebanon",
            "Malaysia",
            "Mongolia",
            "Myanmar",
            "Nepal",
            "Oman",
            "Pakistan",
            "Philippines",
            "Saudi Arabia",
            "Singapore",
            "Sri Lanka",
            "Syria",
            "Taiwan",
            "Thailand",
            "Vietnam",
            "West Bank and Gaza",
            "Yemen, Rep."
           ],
           "legendgroup": "Asia",
           "locations": [
            "AFG",
            "BHR",
            "BGD",
            "KHM",
            "CHN",
            "HKG",
            "IND",
            "IDN",
            "IRN",
            "IRQ",
            "ISR",
            "JPN",
            "JOR",
            "KOR",
            "KOR",
            "KWT",
            "LBN",
            "MYS",
            "MNG",
            "MMR",
            "NPL",
            "OMN",
            "PAK",
            "PHL",
            "SAU",
            "SGP",
            "LKA",
            "SYR",
            "TWN",
            "THA",
            "VNM",
            "PSE",
            "YEM"
           ],
           "marker": {
            "color": "#636efa",
            "size": [
             9240934,
             138655,
             51365468,
             5322536,
             637408000,
             2736300,
             409000000,
             90124000,
             19792000,
             6248643,
             1944401,
             91563009,
             746559,
             9411381,
             22611552,
             212846,
             1647412,
             7739235,
             882134,
             21731844,
             9682338,
             561977,
             46679944,
             26072194,
             4419650,
             1445929,
             9128546,
             4149908,
             10164215,
             25041917,
             28998543,
             1070439,
             5498090
            ],
            "sizemode": "area",
            "sizeref": 3296707.74,
            "symbol": "circle"
           },
           "mode": "markers",
           "name": "Asia",
           "showlegend": true,
           "type": "scattergeo"
          },
          {
           "geo": "geo",
           "hovertemplate": "<b>%{hovertext}</b><br><br>continent=Europe<br>year=1957<br>pop=%{marker.size}<br>iso_alpha=%{location}<extra></extra>",
           "hovertext": [
            "Albania",
            "Austria",
            "Belgium",
            "Bosnia and Herzegovina",
            "Bulgaria",
            "Croatia",
            "Czech Republic",
            "Denmark",
            "Finland",
            "France",
            "Germany",
            "Greece",
            "Hungary",
            "Iceland",
            "Ireland",
            "Italy",
            "Montenegro",
            "Netherlands",
            "Norway",
            "Poland",
            "Portugal",
            "Romania",
            "Serbia",
            "Slovak Republic",
            "Slovenia",
            "Spain",
            "Sweden",
            "Switzerland",
            "Turkey",
            "United Kingdom"
           ],
           "legendgroup": "Europe",
           "locations": [
            "ALB",
            "AUT",
            "BEL",
            "BIH",
            "BGR",
            "HRV",
            "CZE",
            "DNK",
            "FIN",
            "FRA",
            "DEU",
            "GRC",
            "HUN",
            "ISL",
            "IRL",
            "ITA",
            "MNE",
            "NLD",
            "NOR",
            "POL",
            "PRT",
            "ROU",
            "SRB",
            "SVK",
            "SVN",
            "ESP",
            "SWE",
            "CHE",
            "TUR",
            "GBR"
           ],
           "marker": {
            "color": "#EF553B",
            "size": [
             1476505,
             6965860,
             8989111,
             3076000,
             7651254,
             3991242,
             9513758,
             4487831,
             4324000,
             44310863,
             71019069,
             8096218,
             9839000,
             165110,
             2878220,
             49182000,
             442829,
             11026383,
             3491938,
             28235346,
             8817650,
             17829327,
             7271135,
             3844277,
             1533070,
             29841614,
             7363802,
             5126000,
             25670939,
             51430000
            ],
            "sizemode": "area",
            "sizeref": 3296707.74,
            "symbol": "circle"
           },
           "mode": "markers",
           "name": "Europe",
           "showlegend": true,
           "type": "scattergeo"
          },
          {
           "geo": "geo",
           "hovertemplate": "<b>%{hovertext}</b><br><br>continent=Africa<br>year=1957<br>pop=%{marker.size}<br>iso_alpha=%{location}<extra></extra>",
           "hovertext": [
            "Algeria",
            "Angola",
            "Benin",
            "Botswana",
            "Burkina Faso",
            "Burundi",
            "Cameroon",
            "Central African Republic",
            "Chad",
            "Comoros",
            "Congo, Dem. Rep.",
            "Congo, Rep.",
            "Cote d'Ivoire",
            "Djibouti",
            "Egypt",
            "Equatorial Guinea",
            "Eritrea",
            "Ethiopia",
            "Gabon",
            "Gambia",
            "Ghana",
            "Guinea",
            "Guinea-Bissau",
            "Kenya",
            "Lesotho",
            "Liberia",
            "Libya",
            "Madagascar",
            "Malawi",
            "Mali",
            "Mauritania",
            "Mauritius",
            "Morocco",
            "Mozambique",
            "Namibia",
            "Niger",
            "Nigeria",
            "Reunion",
            "Rwanda",
            "Sao Tome and Principe",
            "Senegal",
            "Sierra Leone",
            "Somalia",
            "South Africa",
            "Sudan",
            "Swaziland",
            "Tanzania",
            "Togo",
            "Tunisia",
            "Uganda",
            "Zambia",
            "Zimbabwe"
           ],
           "legendgroup": "Africa",
           "locations": [
            "DZA",
            "AGO",
            "BEN",
            "BWA",
            "BFA",
            "BDI",
            "CMR",
            "CAF",
            "TCD",
            "COM",
            "COD",
            "COG",
            "CIV",
            "DJI",
            "EGY",
            "GNQ",
            "ERI",
            "ETH",
            "GAB",
            "GMB",
            "GHA",
            "GIN",
            "GNB",
            "KEN",
            "LSO",
            "LBR",
            "LBY",
            "MDG",
            "MWI",
            "MLI",
            "MRT",
            "MUS",
            "MAR",
            "MOZ",
            "NAM",
            "NER",
            "NGA",
            "REU",
            "RWA",
            "STP",
            "SEN",
            "SLE",
            "SOM",
            "ZAF",
            "SDN",
            "SWZ",
            "TZA",
            "TGO",
            "TUN",
            "UGA",
            "ZMB",
            "ZWE"
           ],
           "marker": {
            "color": "#00cc96",
            "size": [
             10270856,
             4561361,
             1925173,
             474639,
             4713416,
             2667518,
             5359923,
             1392284,
             2894855,
             170928,
             15577932,
             940458,
             3300000,
             71851,
             25009741,
             232922,
             1542611,
             22815614,
             434904,
             323150,
             6391288,
             2876726,
             601095,
             7454779,
             813338,
             975950,
             1201578,
             5181679,
             3221238,
             4241884,
             1076852,
             609816,
             11406350,
             7038035,
             548080,
             3692184,
             37173340,
             308700,
             2822082,
             61325,
             3054547,
             2295678,
             2780415,
             16151549,
             9753392,
             326741,
             9452826,
             1357445,
             3950849,
             6675501,
             3016000,
             3646340
            ],
            "sizemode": "area",
            "sizeref": 3296707.74,
            "symbol": "circle"
           },
           "mode": "markers",
           "name": "Africa",
           "showlegend": true,
           "type": "scattergeo"
          },
          {
           "geo": "geo",
           "hovertemplate": "<b>%{hovertext}</b><br><br>continent=Americas<br>year=1957<br>pop=%{marker.size}<br>iso_alpha=%{location}<extra></extra>",
           "hovertext": [
            "Argentina",
            "Bolivia",
            "Brazil",
            "Canada",
            "Chile",
            "Colombia",
            "Costa Rica",
            "Cuba",
            "Dominican Republic",
            "Ecuador",
            "El Salvador",
            "Guatemala",
            "Haiti",
            "Honduras",
            "Jamaica",
            "Mexico",
            "Nicaragua",
            "Panama",
            "Paraguay",
            "Peru",
            "Puerto Rico",
            "Trinidad and Tobago",
            "United States",
            "Uruguay",
            "Venezuela"
           ],
           "legendgroup": "Americas",
           "locations": [
            "ARG",
            "BOL",
            "BRA",
            "CAN",
            "CHL",
            "COL",
            "CRI",
            "CUB",
            "DOM",
            "ECU",
            "SLV",
            "GTM",
            "HTI",
            "HND",
            "JAM",
            "MEX",
            "NIC",
            "PAN",
            "PRY",
            "PER",
            "PRI",
            "TTO",
            "USA",
            "URY",
            "VEN"
           ],
           "marker": {
            "color": "#ab63fa",
            "size": [
             19610538,
             3211738,
             65551171,
             17010154,
             7048426,
             14485993,
             1112300,
             6640752,
             2923186,
             4058385,
             2355805,
             3640876,
             3507701,
             1770390,
             1535090,
             35015548,
             1358828,
             1063506,
             1770902,
             9146100,
             2260000,
             764900,
             171984000,
             2424959,
             6702668
            ],
            "sizemode": "area",
            "sizeref": 3296707.74,
            "symbol": "circle"
           },
           "mode": "markers",
           "name": "Americas",
           "showlegend": true,
           "type": "scattergeo"
          },
          {
           "geo": "geo",
           "hovertemplate": "<b>%{hovertext}</b><br><br>continent=Oceania<br>year=1957<br>pop=%{marker.size}<br>iso_alpha=%{location}<extra></extra>",
           "hovertext": [
            "Australia",
            "New Zealand"
           ],
           "legendgroup": "Oceania",
           "locations": [
            "AUS",
            "NZL"
           ],
           "marker": {
            "color": "#FFA15A",
            "size": [
             9712569,
             2229407
            ],
            "sizemode": "area",
            "sizeref": 3296707.74,
            "symbol": "circle"
           },
           "mode": "markers",
           "name": "Oceania",
           "showlegend": true,
           "type": "scattergeo"
          }
         ],
         "name": "1957"
        },
        {
         "data": [
          {
           "geo": "geo",
           "hovertemplate": "<b>%{hovertext}</b><br><br>continent=Asia<br>year=1962<br>pop=%{marker.size}<br>iso_alpha=%{location}<extra></extra>",
           "hovertext": [
            "Afghanistan",
            "Bahrain",
            "Bangladesh",
            "Cambodia",
            "China",
            "Hong Kong, China",
            "India",
            "Indonesia",
            "Iran",
            "Iraq",
            "Israel",
            "Japan",
            "Jordan",
            "Korea, Dem. Rep.",
            "Korea, Rep.",
            "Kuwait",
            "Lebanon",
            "Malaysia",
            "Mongolia",
            "Myanmar",
            "Nepal",
            "Oman",
            "Pakistan",
            "Philippines",
            "Saudi Arabia",
            "Singapore",
            "Sri Lanka",
            "Syria",
            "Taiwan",
            "Thailand",
            "Vietnam",
            "West Bank and Gaza",
            "Yemen, Rep."
           ],
           "legendgroup": "Asia",
           "locations": [
            "AFG",
            "BHR",
            "BGD",
            "KHM",
            "CHN",
            "HKG",
            "IND",
            "IDN",
            "IRN",
            "IRQ",
            "ISR",
            "JPN",
            "JOR",
            "KOR",
            "KOR",
            "KWT",
            "LBN",
            "MYS",
            "MNG",
            "MMR",
            "NPL",
            "OMN",
            "PAK",
            "PHL",
            "SAU",
            "SGP",
            "LKA",
            "SYR",
            "TWN",
            "THA",
            "VNM",
            "PSE",
            "YEM"
           ],
           "marker": {
            "color": "#636efa",
            "size": [
             10267083,
             171863,
             56839289,
             6083619,
             665770000,
             3305200,
             454000000,
             99028000,
             22874000,
             7240260,
             2310904,
             95831757,
             933559,
             10917494,
             26420307,
             358266,
             1886848,
             8906385,
             1010280,
             23634436,
             10332057,
             628164,
             53100671,
             30325264,
             4943029,
             1750200,
             10421936,
             4834621,
             11918938,
             29263397,
             33796140,
             1133134,
             6120081
            ],
            "sizemode": "area",
            "sizeref": 3296707.74,
            "symbol": "circle"
           },
           "mode": "markers",
           "name": "Asia",
           "showlegend": true,
           "type": "scattergeo"
          },
          {
           "geo": "geo",
           "hovertemplate": "<b>%{hovertext}</b><br><br>continent=Europe<br>year=1962<br>pop=%{marker.size}<br>iso_alpha=%{location}<extra></extra>",
           "hovertext": [
            "Albania",
            "Austria",
            "Belgium",
            "Bosnia and Herzegovina",
            "Bulgaria",
            "Croatia",
            "Czech Republic",
            "Denmark",
            "Finland",
            "France",
            "Germany",
            "Greece",
            "Hungary",
            "Iceland",
            "Ireland",
            "Italy",
            "Montenegro",
            "Netherlands",
            "Norway",
            "Poland",
            "Portugal",
            "Romania",
            "Serbia",
            "Slovak Republic",
            "Slovenia",
            "Spain",
            "Sweden",
            "Switzerland",
            "Turkey",
            "United Kingdom"
           ],
           "legendgroup": "Europe",
           "locations": [
            "ALB",
            "AUT",
            "BEL",
            "BIH",
            "BGR",
            "HRV",
            "CZE",
            "DNK",
            "FIN",
            "FRA",
            "DEU",
            "GRC",
            "HUN",
            "ISL",
            "IRL",
            "ITA",
            "MNE",
            "NLD",
            "NOR",
            "POL",
            "PRT",
            "ROU",
            "SRB",
            "SVK",
            "SVN",
            "ESP",
            "SWE",
            "CHE",
            "TUR",
            "GBR"
           ],
           "marker": {
            "color": "#EF553B",
            "size": [
             1728137,
             7129864,
             9218400,
             3349000,
             8012946,
             4076557,
             9620282,
             4646899,
             4491443,
             47124000,
             73739117,
             8448233,
             10063000,
             182053,
             2830000,
             50843200,
             474528,
             11805689,
             3638919,
             30329617,
             9019800,
             18680721,
             7616060,
             4237384,
             1582962,
             31158061,
             7561588,
             5666000,
             29788695,
             53292000
            ],
            "sizemode": "area",
            "sizeref": 3296707.74,
            "symbol": "circle"
           },
           "mode": "markers",
           "name": "Europe",
           "showlegend": true,
           "type": "scattergeo"
          },
          {
           "geo": "geo",
           "hovertemplate": "<b>%{hovertext}</b><br><br>continent=Africa<br>year=1962<br>pop=%{marker.size}<br>iso_alpha=%{location}<extra></extra>",
           "hovertext": [
            "Algeria",
            "Angola",
            "Benin",
            "Botswana",
            "Burkina Faso",
            "Burundi",
            "Cameroon",
            "Central African Republic",
            "Chad",
            "Comoros",
            "Congo, Dem. Rep.",
            "Congo, Rep.",
            "Cote d'Ivoire",
            "Djibouti",
            "Egypt",
            "Equatorial Guinea",
            "Eritrea",
            "Ethiopia",
            "Gabon",
            "Gambia",
            "Ghana",
            "Guinea",
            "Guinea-Bissau",
            "Kenya",
            "Lesotho",
            "Liberia",
            "Libya",
            "Madagascar",
            "Malawi",
            "Mali",
            "Mauritania",
            "Mauritius",
            "Morocco",
            "Mozambique",
            "Namibia",
            "Niger",
            "Nigeria",
            "Reunion",
            "Rwanda",
            "Sao Tome and Principe",
            "Senegal",
            "Sierra Leone",
            "Somalia",
            "South Africa",
            "Sudan",
            "Swaziland",
            "Tanzania",
            "Togo",
            "Tunisia",
            "Uganda",
            "Zambia",
            "Zimbabwe"
           ],
           "legendgroup": "Africa",
           "locations": [
            "DZA",
            "AGO",
            "BEN",
            "BWA",
            "BFA",
            "BDI",
            "CMR",
            "CAF",
            "TCD",
            "COM",
            "COD",
            "COG",
            "CIV",
            "DJI",
            "EGY",
            "GNQ",
            "ERI",
            "ETH",
            "GAB",
            "GMB",
            "GHA",
            "GIN",
            "GNB",
            "KEN",
            "LSO",
            "LBR",
            "LBY",
            "MDG",
            "MWI",
            "MLI",
            "MRT",
            "MUS",
            "MAR",
            "MOZ",
            "NAM",
            "NER",
            "NGA",
            "REU",
            "RWA",
            "STP",
            "SEN",
            "SLE",
            "SOM",
            "ZAF",
            "SDN",
            "SWZ",
            "TZA",
            "TGO",
            "TUN",
            "UGA",
            "ZMB",
            "ZWE"
           ],
           "marker": {
            "color": "#00cc96",
            "size": [
             11000948,
             4826015,
             2151895,
             512764,
             4919632,
             2961915,
             5793633,
             1523478,
             3150417,
             191689,
             17486434,
             1047924,
             3832408,
             89898,
             28173309,
             249220,
             1666618,
             25145372,
             455661,
             374020,
             7355248,
             3140003,
             627820,
             8678557,
             893143,
             1112796,
             1441863,
             5703324,
             3628608,
             4690372,
             1146757,
             701016,
             13056604,
             7788944,
             621392,
             4076008,
             41871351,
             358900,
             3051242,
             65345,
             3430243,
             2467895,
             3080153,
             18356657,
             11183227,
             370006,
             10863958,
             1528098,
             4286552,
             7688797,
             3421000,
             4277736
            ],
            "sizemode": "area",
            "sizeref": 3296707.74,
            "symbol": "circle"
           },
           "mode": "markers",
           "name": "Africa",
           "showlegend": true,
           "type": "scattergeo"
          },
          {
           "geo": "geo",
           "hovertemplate": "<b>%{hovertext}</b><br><br>continent=Americas<br>year=1962<br>pop=%{marker.size}<br>iso_alpha=%{location}<extra></extra>",
           "hovertext": [
            "Argentina",
            "Bolivia",
            "Brazil",
            "Canada",
            "Chile",
            "Colombia",
            "Costa Rica",
            "Cuba",
            "Dominican Republic",
            "Ecuador",
            "El Salvador",
            "Guatemala",
            "Haiti",
            "Honduras",
            "Jamaica",
            "Mexico",
            "Nicaragua",
            "Panama",
            "Paraguay",
            "Peru",
            "Puerto Rico",
            "Trinidad and Tobago",
            "United States",
            "Uruguay",
            "Venezuela"
           ],
           "legendgroup": "Americas",
           "locations": [
            "ARG",
            "BOL",
            "BRA",
            "CAN",
            "CHL",
            "COL",
            "CRI",
            "CUB",
            "DOM",
            "ECU",
            "SLV",
            "GTM",
            "HTI",
            "HND",
            "JAM",
            "MEX",
            "NIC",
            "PAN",
            "PRY",
            "PER",
            "PRI",
            "TTO",
            "USA",
            "URY",
            "VEN"
           ],
           "marker": {
            "color": "#ab63fa",
            "size": [
             21283783,
             3593918,
             76039390,
             18985849,
             7961258,
             17009885,
             1345187,
             7254373,
             3453434,
             4681707,
             2747687,
             4208858,
             3880130,
             2090162,
             1665128,
             41121485,
             1590597,
             1215725,
             2009813,
             10516500,
             2448046,
             887498,
             186538000,
             2598466,
             8143375
            ],
            "sizemode": "area",
            "sizeref": 3296707.74,
            "symbol": "circle"
           },
           "mode": "markers",
           "name": "Americas",
           "showlegend": true,
           "type": "scattergeo"
          },
          {
           "geo": "geo",
           "hovertemplate": "<b>%{hovertext}</b><br><br>continent=Oceania<br>year=1962<br>pop=%{marker.size}<br>iso_alpha=%{location}<extra></extra>",
           "hovertext": [
            "Australia",
            "New Zealand"
           ],
           "legendgroup": "Oceania",
           "locations": [
            "AUS",
            "NZL"
           ],
           "marker": {
            "color": "#FFA15A",
            "size": [
             10794968,
             2488550
            ],
            "sizemode": "area",
            "sizeref": 3296707.74,
            "symbol": "circle"
           },
           "mode": "markers",
           "name": "Oceania",
           "showlegend": true,
           "type": "scattergeo"
          }
         ],
         "name": "1962"
        },
        {
         "data": [
          {
           "geo": "geo",
           "hovertemplate": "<b>%{hovertext}</b><br><br>continent=Asia<br>year=1967<br>pop=%{marker.size}<br>iso_alpha=%{location}<extra></extra>",
           "hovertext": [
            "Afghanistan",
            "Bahrain",
            "Bangladesh",
            "Cambodia",
            "China",
            "Hong Kong, China",
            "India",
            "Indonesia",
            "Iran",
            "Iraq",
            "Israel",
            "Japan",
            "Jordan",
            "Korea, Dem. Rep.",
            "Korea, Rep.",
            "Kuwait",
            "Lebanon",
            "Malaysia",
            "Mongolia",
            "Myanmar",
            "Nepal",
            "Oman",
            "Pakistan",
            "Philippines",
            "Saudi Arabia",
            "Singapore",
            "Sri Lanka",
            "Syria",
            "Taiwan",
            "Thailand",
            "Vietnam",
            "West Bank and Gaza",
            "Yemen, Rep."
           ],
           "legendgroup": "Asia",
           "locations": [
            "AFG",
            "BHR",
            "BGD",
            "KHM",
            "CHN",
            "HKG",
            "IND",
            "IDN",
            "IRN",
            "IRQ",
            "ISR",
            "JPN",
            "JOR",
            "KOR",
            "KOR",
            "KWT",
            "LBN",
            "MYS",
            "MNG",
            "MMR",
            "NPL",
            "OMN",
            "PAK",
            "PHL",
            "SAU",
            "SGP",
            "LKA",
            "SYR",
            "TWN",
            "THA",
            "VNM",
            "PSE",
            "YEM"
           ],
           "marker": {
            "color": "#636efa",
            "size": [
             11537966,
             202182,
             62821884,
             6960067,
             754550000,
             3722800,
             506000000,
             109343000,
             26538000,
             8519282,
             2693585,
             100825279,
             1255058,
             12617009,
             30131000,
             575003,
             2186894,
             10154878,
             1149500,
             25870271,
             11261690,
             714775,
             60641899,
             35356600,
             5618198,
             1977600,
             11737396,
             5680812,
             13648692,
             34024249,
             39463910,
             1142636,
             6740785
            ],
            "sizemode": "area",
            "sizeref": 3296707.74,
            "symbol": "circle"
           },
           "mode": "markers",
           "name": "Asia",
           "showlegend": true,
           "type": "scattergeo"
          },
          {
           "geo": "geo",
           "hovertemplate": "<b>%{hovertext}</b><br><br>continent=Europe<br>year=1967<br>pop=%{marker.size}<br>iso_alpha=%{location}<extra></extra>",
           "hovertext": [
            "Albania",
            "Austria",
            "Belgium",
            "Bosnia and Herzegovina",
            "Bulgaria",
            "Croatia",
            "Czech Republic",
            "Denmark",
            "Finland",
            "France",
            "Germany",
            "Greece",
            "Hungary",
            "Iceland",
            "Ireland",
            "Italy",
            "Montenegro",
            "Netherlands",
            "Norway",
            "Poland",
            "Portugal",
            "Romania",
            "Serbia",
            "Slovak Republic",
            "Slovenia",
            "Spain",
            "Sweden",
            "Switzerland",
            "Turkey",
            "United Kingdom"
           ],
           "legendgroup": "Europe",
           "locations": [
            "ALB",
            "AUT",
            "BEL",
            "BIH",
            "BGR",
            "HRV",
            "CZE",
            "DNK",
            "FIN",
            "FRA",
            "DEU",
            "GRC",
            "HUN",
            "ISL",
            "IRL",
            "ITA",
            "MNE",
            "NLD",
            "NOR",
            "POL",
            "PRT",
            "ROU",
            "SRB",
            "SVK",
            "SVN",
            "ESP",
            "SWE",
            "CHE",
            "TUR",
            "GBR"
           ],
           "marker": {
            "color": "#EF553B",
            "size": [
             1984060,
             7376998,
             9556500,
             3585000,
             8310226,
             4174366,
             9835109,
             4838800,
             4605744,
             49569000,
             76368453,
             8716441,
             10223422,
             198676,
             2900100,
             52667100,
             501035,
             12596822,
             3786019,
             31785378,
             9103000,
             19284814,
             7971222,
             4442238,
             1646912,
             32850275,
             7867931,
             6063000,
             33411317,
             54959000
            ],
            "sizemode": "area",
            "sizeref": 3296707.74,
            "symbol": "circle"
           },
           "mode": "markers",
           "name": "Europe",
           "showlegend": true,
           "type": "scattergeo"
          },
          {
           "geo": "geo",
           "hovertemplate": "<b>%{hovertext}</b><br><br>continent=Africa<br>year=1967<br>pop=%{marker.size}<br>iso_alpha=%{location}<extra></extra>",
           "hovertext": [
            "Algeria",
            "Angola",
            "Benin",
            "Botswana",
            "Burkina Faso",
            "Burundi",
            "Cameroon",
            "Central African Republic",
            "Chad",
            "Comoros",
            "Congo, Dem. Rep.",
            "Congo, Rep.",
            "Cote d'Ivoire",
            "Djibouti",
            "Egypt",
            "Equatorial Guinea",
            "Eritrea",
            "Ethiopia",
            "Gabon",
            "Gambia",
            "Ghana",
            "Guinea",
            "Guinea-Bissau",
            "Kenya",
            "Lesotho",
            "Liberia",
            "Libya",
            "Madagascar",
            "Malawi",
            "Mali",
            "Mauritania",
            "Mauritius",
            "Morocco",
            "Mozambique",
            "Namibia",
            "Niger",
            "Nigeria",
            "Reunion",
            "Rwanda",
            "Sao Tome and Principe",
            "Senegal",
            "Sierra Leone",
            "Somalia",
            "South Africa",
            "Sudan",
            "Swaziland",
            "Tanzania",
            "Togo",
            "Tunisia",
            "Uganda",
            "Zambia",
            "Zimbabwe"
           ],
           "legendgroup": "Africa",
           "locations": [
            "DZA",
            "AGO",
            "BEN",
            "BWA",
            "BFA",
            "BDI",
            "CMR",
            "CAF",
            "TCD",
            "COM",
            "COD",
            "COG",
            "CIV",
            "DJI",
            "EGY",
            "GNQ",
            "ERI",
            "ETH",
            "GAB",
            "GMB",
            "GHA",
            "GIN",
            "GNB",
            "KEN",
            "LSO",
            "LBR",
            "LBY",
            "MDG",
            "MWI",
            "MLI",
            "MRT",
            "MUS",
            "MAR",
            "MOZ",
            "NAM",
            "NER",
            "NGA",
            "REU",
            "RWA",
            "STP",
            "SEN",
            "SLE",
            "SOM",
            "ZAF",
            "SDN",
            "SWZ",
            "TZA",
            "TGO",
            "TUN",
            "UGA",
            "ZMB",
            "ZWE"
           ],
           "marker": {
            "color": "#00cc96",
            "size": [
             12760499,
             5247469,
             2427334,
             553541,
             5127935,
             3330989,
             6335506,
             1733638,
             3495967,
             217378,
             19941073,
             1179760,
             4744870,
             127617,
             31681188,
             259864,
             1820319,
             27860297,
             489004,
             439593,
             8490213,
             3451418,
             601287,
             10191512,
             996380,
             1279406,
             1759224,
             6334556,
             4147252,
             5212416,
             1230542,
             789309,
             14770296,
             8680909,
             706640,
             4534062,
             47287752,
             414024,
             3451079,
             70787,
             3965841,
             2662190,
             3428839,
             20997321,
             12716129,
             420690,
             12607312,
             1735550,
             4786986,
             8900294,
             3900000,
             4995432
            ],
            "sizemode": "area",
            "sizeref": 3296707.74,
            "symbol": "circle"
           },
           "mode": "markers",
           "name": "Africa",
           "showlegend": true,
           "type": "scattergeo"
          },
          {
           "geo": "geo",
           "hovertemplate": "<b>%{hovertext}</b><br><br>continent=Americas<br>year=1967<br>pop=%{marker.size}<br>iso_alpha=%{location}<extra></extra>",
           "hovertext": [
            "Argentina",
            "Bolivia",
            "Brazil",
            "Canada",
            "Chile",
            "Colombia",
            "Costa Rica",
            "Cuba",
            "Dominican Republic",
            "Ecuador",
            "El Salvador",
            "Guatemala",
            "Haiti",
            "Honduras",
            "Jamaica",
            "Mexico",
            "Nicaragua",
            "Panama",
            "Paraguay",
            "Peru",
            "Puerto Rico",
            "Trinidad and Tobago",
            "United States",
            "Uruguay",
            "Venezuela"
           ],
           "legendgroup": "Americas",
           "locations": [
            "ARG",
            "BOL",
            "BRA",
            "CAN",
            "CHL",
            "COL",
            "CRI",
            "CUB",
            "DOM",
            "ECU",
            "SLV",
            "GTM",
            "HTI",
            "HND",
            "JAM",
            "MEX",
            "NIC",
            "PAN",
            "PRY",
            "PER",
            "PRI",
            "TTO",
            "USA",
            "URY",
            "VEN"
           ],
           "marker": {
            "color": "#ab63fa",
            "size": [
             22934225,
             4040665,
             88049823,
             20819767,
             8858908,
             19764027,
             1588717,
             8139332,
             4049146,
             5432424,
             3232927,
             4690773,
             4318137,
             2500689,
             1861096,
             47995559,
             1865490,
             1405486,
             2287985,
             12132200,
             2648961,
             960155,
             198712000,
             2748579,
             9709552
            ],
            "sizemode": "area",
            "sizeref": 3296707.74,
            "symbol": "circle"
           },
           "mode": "markers",
           "name": "Americas",
           "showlegend": true,
           "type": "scattergeo"
          },
          {
           "geo": "geo",
           "hovertemplate": "<b>%{hovertext}</b><br><br>continent=Oceania<br>year=1967<br>pop=%{marker.size}<br>iso_alpha=%{location}<extra></extra>",
           "hovertext": [
            "Australia",
            "New Zealand"
           ],
           "legendgroup": "Oceania",
           "locations": [
            "AUS",
            "NZL"
           ],
           "marker": {
            "color": "#FFA15A",
            "size": [
             11872264,
             2728150
            ],
            "sizemode": "area",
            "sizeref": 3296707.74,
            "symbol": "circle"
           },
           "mode": "markers",
           "name": "Oceania",
           "showlegend": true,
           "type": "scattergeo"
          }
         ],
         "name": "1967"
        },
        {
         "data": [
          {
           "geo": "geo",
           "hovertemplate": "<b>%{hovertext}</b><br><br>continent=Asia<br>year=1972<br>pop=%{marker.size}<br>iso_alpha=%{location}<extra></extra>",
           "hovertext": [
            "Afghanistan",
            "Bahrain",
            "Bangladesh",
            "Cambodia",
            "China",
            "Hong Kong, China",
            "India",
            "Indonesia",
            "Iran",
            "Iraq",
            "Israel",
            "Japan",
            "Jordan",
            "Korea, Dem. Rep.",
            "Korea, Rep.",
            "Kuwait",
            "Lebanon",
            "Malaysia",
            "Mongolia",
            "Myanmar",
            "Nepal",
            "Oman",
            "Pakistan",
            "Philippines",
            "Saudi Arabia",
            "Singapore",
            "Sri Lanka",
            "Syria",
            "Taiwan",
            "Thailand",
            "Vietnam",
            "West Bank and Gaza",
            "Yemen, Rep."
           ],
           "legendgroup": "Asia",
           "locations": [
            "AFG",
            "BHR",
            "BGD",
            "KHM",
            "CHN",
            "HKG",
            "IND",
            "IDN",
            "IRN",
            "IRQ",
            "ISR",
            "JPN",
            "JOR",
            "KOR",
            "KOR",
            "KWT",
            "LBN",
            "MYS",
            "MNG",
            "MMR",
            "NPL",
            "OMN",
            "PAK",
            "PHL",
            "SAU",
            "SGP",
            "LKA",
            "SYR",
            "TWN",
            "THA",
            "VNM",
            "PSE",
            "YEM"
           ],
           "marker": {
            "color": "#636efa",
            "size": [
             13079460,
             230800,
             70759295,
             7450606,
             862030000,
             4115700,
             567000000,
             121282000,
             30614000,
             10061506,
             3095893,
             107188273,
             1613551,
             14781241,
             33505000,
             841934,
             2680018,
             11441462,
             1320500,
             28466390,
             12412593,
             829050,
             69325921,
             40850141,
             6472756,
             2152400,
             13016733,
             6701172,
             15226039,
             39276153,
             44655014,
             1089572,
             7407075
            ],
            "sizemode": "area",
            "sizeref": 3296707.74,
            "symbol": "circle"
           },
           "mode": "markers",
           "name": "Asia",
           "showlegend": true,
           "type": "scattergeo"
          },
          {
           "geo": "geo",
           "hovertemplate": "<b>%{hovertext}</b><br><br>continent=Europe<br>year=1972<br>pop=%{marker.size}<br>iso_alpha=%{location}<extra></extra>",
           "hovertext": [
            "Albania",
            "Austria",
            "Belgium",
            "Bosnia and Herzegovina",
            "Bulgaria",
            "Croatia",
            "Czech Republic",
            "Denmark",
            "Finland",
            "France",
            "Germany",
            "Greece",
            "Hungary",
            "Iceland",
            "Ireland",
            "Italy",
            "Montenegro",
            "Netherlands",
            "Norway",
            "Poland",
            "Portugal",
            "Romania",
            "Serbia",
            "Slovak Republic",
            "Slovenia",
            "Spain",
            "Sweden",
            "Switzerland",
            "Turkey",
            "United Kingdom"
           ],
           "legendgroup": "Europe",
           "locations": [
            "ALB",
            "AUT",
            "BEL",
            "BIH",
            "BGR",
            "HRV",
            "CZE",
            "DNK",
            "FIN",
            "FRA",
            "DEU",
            "GRC",
            "HUN",
            "ISL",
            "IRL",
            "ITA",
            "MNE",
            "NLD",
            "NOR",
            "POL",
            "PRT",
            "ROU",
            "SRB",
            "SVK",
            "SVN",
            "ESP",
            "SWE",
            "CHE",
            "TUR",
            "GBR"
           ],
           "marker": {
            "color": "#EF553B",
            "size": [
             2263554,
             7544201,
             9709100,
             3819000,
             8576200,
             4225310,
             9862158,
             4991596,
             4639657,
             51732000,
             78717088,
             8888628,
             10394091,
             209275,
             3024400,
             54365564,
             527678,
             13329874,
             3933004,
             33039545,
             8970450,
             20662648,
             8313288,
             4593433,
             1694510,
             34513161,
             8122293,
             6401400,
             37492953,
             56079000
            ],
            "sizemode": "area",
            "sizeref": 3296707.74,
            "symbol": "circle"
           },
           "mode": "markers",
           "name": "Europe",
           "showlegend": true,
           "type": "scattergeo"
          },
          {
           "geo": "geo",
           "hovertemplate": "<b>%{hovertext}</b><br><br>continent=Africa<br>year=1972<br>pop=%{marker.size}<br>iso_alpha=%{location}<extra></extra>",
           "hovertext": [
            "Algeria",
            "Angola",
            "Benin",
            "Botswana",
            "Burkina Faso",
            "Burundi",
            "Cameroon",
            "Central African Republic",
            "Chad",
            "Comoros",
            "Congo, Dem. Rep.",
            "Congo, Rep.",
            "Cote d'Ivoire",
            "Djibouti",
            "Egypt",
            "Equatorial Guinea",
            "Eritrea",
            "Ethiopia",
            "Gabon",
            "Gambia",
            "Ghana",
            "Guinea",
            "Guinea-Bissau",
            "Kenya",
            "Lesotho",
            "Liberia",
            "Libya",
            "Madagascar",
            "Malawi",
            "Mali",
            "Mauritania",
            "Mauritius",
            "Morocco",
            "Mozambique",
            "Namibia",
            "Niger",
            "Nigeria",
            "Reunion",
            "Rwanda",
            "Sao Tome and Principe",
            "Senegal",
            "Sierra Leone",
            "Somalia",
            "South Africa",
            "Sudan",
            "Swaziland",
            "Tanzania",
            "Togo",
            "Tunisia",
            "Uganda",
            "Zambia",
            "Zimbabwe"
           ],
           "legendgroup": "Africa",
           "locations": [
            "DZA",
            "AGO",
            "BEN",
            "BWA",
            "BFA",
            "BDI",
            "CMR",
            "CAF",
            "TCD",
            "COM",
            "COD",
            "COG",
            "CIV",
            "DJI",
            "EGY",
            "GNQ",
            "ERI",
            "ETH",
            "GAB",
            "GMB",
            "GHA",
            "GIN",
            "GNB",
            "KEN",
            "LSO",
            "LBR",
            "LBY",
            "MDG",
            "MWI",
            "MLI",
            "MRT",
            "MUS",
            "MAR",
            "MOZ",
            "NAM",
            "NER",
            "NGA",
            "REU",
            "RWA",
            "STP",
            "SEN",
            "SLE",
            "SOM",
            "ZAF",
            "SDN",
            "SWZ",
            "TZA",
            "TGO",
            "TUN",
            "UGA",
            "ZMB",
            "ZWE"
           ],
           "marker": {
            "color": "#00cc96",
            "size": [
             14760787,
             5894858,
             2761407,
             619351,
             5433886,
             3529983,
             7021028,
             1927260,
             3899068,
             250027,
             23007669,
             1340458,
             6071696,
             178848,
             34807417,
             277603,
             2260187,
             30770372,
             537977,
             517101,
             9354120,
             3811387,
             625361,
             12044785,
             1116779,
             1482628,
             2183877,
             7082430,
             4730997,
             5828158,
             1332786,
             851334,
             16660670,
             9809596,
             821782,
             5060262,
             53740085,
             461633,
             3992121,
             76595,
             4588696,
             2879013,
             3840161,
             23935810,
             14597019,
             480105,
             14706593,
             2056351,
             5303507,
             10190285,
             4506497,
             5861135
            ],
            "sizemode": "area",
            "sizeref": 3296707.74,
            "symbol": "circle"
           },
           "mode": "markers",
           "name": "Africa",
           "showlegend": true,
           "type": "scattergeo"
          },
          {
           "geo": "geo",
           "hovertemplate": "<b>%{hovertext}</b><br><br>continent=Americas<br>year=1972<br>pop=%{marker.size}<br>iso_alpha=%{location}<extra></extra>",
           "hovertext": [
            "Argentina",
            "Bolivia",
            "Brazil",
            "Canada",
            "Chile",
            "Colombia",
            "Costa Rica",
            "Cuba",
            "Dominican Republic",
            "Ecuador",
            "El Salvador",
            "Guatemala",
            "Haiti",
            "Honduras",
            "Jamaica",
            "Mexico",
            "Nicaragua",
            "Panama",
            "Paraguay",
            "Peru",
            "Puerto Rico",
            "Trinidad and Tobago",
            "United States",
            "Uruguay",
            "Venezuela"
           ],
           "legendgroup": "Americas",
           "locations": [
            "ARG",
            "BOL",
            "BRA",
            "CAN",
            "CHL",
            "COL",
            "CRI",
            "CUB",
            "DOM",
            "ECU",
            "SLV",
            "GTM",
            "HTI",
            "HND",
            "JAM",
            "MEX",
            "NIC",
            "PAN",
            "PRY",
            "PER",
            "PRI",
            "TTO",
            "USA",
            "URY",
            "VEN"
           ],
           "marker": {
            "color": "#ab63fa",
            "size": [
             24779799,
             4565872,
             100840058,
             22284500,
             9717524,
             22542890,
             1834796,
             8831348,
             4671329,
             6298651,
             3790903,
             5149581,
             4698301,
             2965146,
             1997616,
             55984294,
             2182908,
             1616384,
             2614104,
             13954700,
             2847132,
             975199,
             209896000,
             2829526,
             11515649
            ],
            "sizemode": "area",
            "sizeref": 3296707.74,
            "symbol": "circle"
           },
           "mode": "markers",
           "name": "Americas",
           "showlegend": true,
           "type": "scattergeo"
          },
          {
           "geo": "geo",
           "hovertemplate": "<b>%{hovertext}</b><br><br>continent=Oceania<br>year=1972<br>pop=%{marker.size}<br>iso_alpha=%{location}<extra></extra>",
           "hovertext": [
            "Australia",
            "New Zealand"
           ],
           "legendgroup": "Oceania",
           "locations": [
            "AUS",
            "NZL"
           ],
           "marker": {
            "color": "#FFA15A",
            "size": [
             13177000,
             2929100
            ],
            "sizemode": "area",
            "sizeref": 3296707.74,
            "symbol": "circle"
           },
           "mode": "markers",
           "name": "Oceania",
           "showlegend": true,
           "type": "scattergeo"
          }
         ],
         "name": "1972"
        },
        {
         "data": [
          {
           "geo": "geo",
           "hovertemplate": "<b>%{hovertext}</b><br><br>continent=Asia<br>year=1977<br>pop=%{marker.size}<br>iso_alpha=%{location}<extra></extra>",
           "hovertext": [
            "Afghanistan",
            "Bahrain",
            "Bangladesh",
            "Cambodia",
            "China",
            "Hong Kong, China",
            "India",
            "Indonesia",
            "Iran",
            "Iraq",
            "Israel",
            "Japan",
            "Jordan",
            "Korea, Dem. Rep.",
            "Korea, Rep.",
            "Kuwait",
            "Lebanon",
            "Malaysia",
            "Mongolia",
            "Myanmar",
            "Nepal",
            "Oman",
            "Pakistan",
            "Philippines",
            "Saudi Arabia",
            "Singapore",
            "Sri Lanka",
            "Syria",
            "Taiwan",
            "Thailand",
            "Vietnam",
            "West Bank and Gaza",
            "Yemen, Rep."
           ],
           "legendgroup": "Asia",
           "locations": [
            "AFG",
            "BHR",
            "BGD",
            "KHM",
            "CHN",
            "HKG",
            "IND",
            "IDN",
            "IRN",
            "IRQ",
            "ISR",
            "JPN",
            "JOR",
            "KOR",
            "KOR",
            "KWT",
            "LBN",
            "MYS",
            "MNG",
            "MMR",
            "NPL",
            "OMN",
            "PAK",
            "PHL",
            "SAU",
            "SGP",
            "LKA",
            "SYR",
            "TWN",
            "THA",
            "VNM",
            "PSE",
            "YEM"
           ],
           "marker": {
            "color": "#636efa",
            "size": [
             14880372,
             297410,
             80428306,
             6978607,
             943455000,
             4583700,
             634000000,
             136725000,
             35480679,
             11882916,
             3495918,
             113872473,
             1937652,
             16325320,
             36436000,
             1140357,
             3115787,
             12845381,
             1528000,
             31528087,
             13933198,
             1004533,
             78152686,
             46850962,
             8128505,
             2325300,
             14116836,
             7932503,
             16785196,
             44148285,
             50533506,
             1261091,
             8403990
            ],
            "sizemode": "area",
            "sizeref": 3296707.74,
            "symbol": "circle"
           },
           "mode": "markers",
           "name": "Asia",
           "showlegend": true,
           "type": "scattergeo"
          },
          {
           "geo": "geo",
           "hovertemplate": "<b>%{hovertext}</b><br><br>continent=Europe<br>year=1977<br>pop=%{marker.size}<br>iso_alpha=%{location}<extra></extra>",
           "hovertext": [
            "Albania",
            "Austria",
            "Belgium",
            "Bosnia and Herzegovina",
            "Bulgaria",
            "Croatia",
            "Czech Republic",
            "Denmark",
            "Finland",
            "France",
            "Germany",
            "Greece",
            "Hungary",
            "Iceland",
            "Ireland",
            "Italy",
            "Montenegro",
            "Netherlands",
            "Norway",
            "Poland",
            "Portugal",
            "Romania",
            "Serbia",
            "Slovak Republic",
            "Slovenia",
            "Spain",
            "Sweden",
            "Switzerland",
            "Turkey",
            "United Kingdom"
           ],
           "legendgroup": "Europe",
           "locations": [
            "ALB",
            "AUT",
            "BEL",
            "BIH",
            "BGR",
            "HRV",
            "CZE",
            "DNK",
            "FIN",
            "FRA",
            "DEU",
            "GRC",
            "HUN",
            "ISL",
            "IRL",
            "ITA",
            "MNE",
            "NLD",
            "NOR",
            "POL",
            "PRT",
            "ROU",
            "SRB",
            "SVK",
            "SVN",
            "ESP",
            "SWE",
            "CHE",
            "TUR",
            "GBR"
           ],
           "marker": {
            "color": "#EF553B",
            "size": [
             2509048,
             7568430,
             9821800,
             4086000,
             8797022,
             4318673,
             10161915,
             5088419,
             4738902,
             53165019,
             78160773,
             9308479,
             10637171,
             221823,
             3271900,
             56059245,
             560073,
             13852989,
             4043205,
             34621254,
             9662600,
             21658597,
             8686367,
             4827803,
             1746919,
             36439000,
             8251648,
             6316424,
             42404033,
             56179000
            ],
            "sizemode": "area",
            "sizeref": 3296707.74,
            "symbol": "circle"
           },
           "mode": "markers",
           "name": "Europe",
           "showlegend": true,
           "type": "scattergeo"
          },
          {
           "geo": "geo",
           "hovertemplate": "<b>%{hovertext}</b><br><br>continent=Africa<br>year=1977<br>pop=%{marker.size}<br>iso_alpha=%{location}<extra></extra>",
           "hovertext": [
            "Algeria",
            "Angola",
            "Benin",
            "Botswana",
            "Burkina Faso",
            "Burundi",
            "Cameroon",
            "Central African Republic",
            "Chad",
            "Comoros",
            "Congo, Dem. Rep.",
            "Congo, Rep.",
            "Cote d'Ivoire",
            "Djibouti",
            "Egypt",
            "Equatorial Guinea",
            "Eritrea",
            "Ethiopia",
            "Gabon",
            "Gambia",
            "Ghana",
            "Guinea",
            "Guinea-Bissau",
            "Kenya",
            "Lesotho",
            "Liberia",
            "Libya",
            "Madagascar",
            "Malawi",
            "Mali",
            "Mauritania",
            "Mauritius",
            "Morocco",
            "Mozambique",
            "Namibia",
            "Niger",
            "Nigeria",
            "Reunion",
            "Rwanda",
            "Sao Tome and Principe",
            "Senegal",
            "Sierra Leone",
            "Somalia",
            "South Africa",
            "Sudan",
            "Swaziland",
            "Tanzania",
            "Togo",
            "Tunisia",
            "Uganda",
            "Zambia",
            "Zimbabwe"
           ],
           "legendgroup": "Africa",
           "locations": [
            "DZA",
            "AGO",
            "BEN",
            "BWA",
            "BFA",
            "BDI",
            "CMR",
            "CAF",
            "TCD",
            "COM",
            "COD",
            "COG",
            "CIV",
            "DJI",
            "EGY",
            "GNQ",
            "ERI",
            "ETH",
            "GAB",
            "GMB",
            "GHA",
            "GIN",
            "GNB",
            "KEN",
            "LSO",
            "LBR",
            "LBY",
            "MDG",
            "MWI",
            "MLI",
            "MRT",
            "MUS",
            "MAR",
            "MOZ",
            "NAM",
            "NER",
            "NGA",
            "REU",
            "RWA",
            "STP",
            "SEN",
            "SLE",
            "SOM",
            "ZAF",
            "SDN",
            "SWZ",
            "TZA",
            "TGO",
            "TUN",
            "UGA",
            "ZMB",
            "ZWE"
           ],
           "marker": {
            "color": "#00cc96",
            "size": [
             17152804,
             6162675,
             3168267,
             781472,
             5889574,
             3834415,
             7959865,
             2167533,
             4388260,
             304739,
             26480870,
             1536769,
             7459574,
             228694,
             38783863,
             192675,
             2512642,
             34617799,
             706367,
             608274,
             10538093,
             4227026,
             745228,
             14500404,
             1251524,
             1703617,
             2721783,
             8007166,
             5637246,
             6491649,
             1456688,
             913025,
             18396941,
             11127868,
             977026,
             5682086,
             62209173,
             492095,
             4657072,
             86796,
             5260855,
             3140897,
             4353666,
             27129932,
             17104986,
             551425,
             17129565,
             2308582,
             6005061,
             11457758,
             5216550,
             6642107
            ],
            "sizemode": "area",
            "sizeref": 3296707.74,
            "symbol": "circle"
           },
           "mode": "markers",
           "name": "Africa",
           "showlegend": true,
           "type": "scattergeo"
          },
          {
           "geo": "geo",
           "hovertemplate": "<b>%{hovertext}</b><br><br>continent=Americas<br>year=1977<br>pop=%{marker.size}<br>iso_alpha=%{location}<extra></extra>",
           "hovertext": [
            "Argentina",
            "Bolivia",
            "Brazil",
            "Canada",
            "Chile",
            "Colombia",
            "Costa Rica",
            "Cuba",
            "Dominican Republic",
            "Ecuador",
            "El Salvador",
            "Guatemala",
            "Haiti",
            "Honduras",
            "Jamaica",
            "Mexico",
            "Nicaragua",
            "Panama",
            "Paraguay",
            "Peru",
            "Puerto Rico",
            "Trinidad and Tobago",
            "United States",
            "Uruguay",
            "Venezuela"
           ],
           "legendgroup": "Americas",
           "locations": [
            "ARG",
            "BOL",
            "BRA",
            "CAN",
            "CHL",
            "COL",
            "CRI",
            "CUB",
            "DOM",
            "ECU",
            "SLV",
            "GTM",
            "HTI",
            "HND",
            "JAM",
            "MEX",
            "NIC",
            "PAN",
            "PRY",
            "PER",
            "PRI",
            "TTO",
            "USA",
            "URY",
            "VEN"
           ],
           "marker": {
            "color": "#ab63fa",
            "size": [
             26983828,
             5079716,
             114313951,
             23796400,
             10599793,
             25094412,
             2108457,
             9537988,
             5302800,
             7278866,
             4282586,
             5703430,
             4908554,
             3055235,
             2156814,
             63759976,
             2554598,
             1839782,
             2984494,
             15990099,
             3080828,
             1039009,
             220239000,
             2873520,
             13503563
            ],
            "sizemode": "area",
            "sizeref": 3296707.74,
            "symbol": "circle"
           },
           "mode": "markers",
           "name": "Americas",
           "showlegend": true,
           "type": "scattergeo"
          },
          {
           "geo": "geo",
           "hovertemplate": "<b>%{hovertext}</b><br><br>continent=Oceania<br>year=1977<br>pop=%{marker.size}<br>iso_alpha=%{location}<extra></extra>",
           "hovertext": [
            "Australia",
            "New Zealand"
           ],
           "legendgroup": "Oceania",
           "locations": [
            "AUS",
            "NZL"
           ],
           "marker": {
            "color": "#FFA15A",
            "size": [
             14074100,
             3164900
            ],
            "sizemode": "area",
            "sizeref": 3296707.74,
            "symbol": "circle"
           },
           "mode": "markers",
           "name": "Oceania",
           "showlegend": true,
           "type": "scattergeo"
          }
         ],
         "name": "1977"
        },
        {
         "data": [
          {
           "geo": "geo",
           "hovertemplate": "<b>%{hovertext}</b><br><br>continent=Asia<br>year=1982<br>pop=%{marker.size}<br>iso_alpha=%{location}<extra></extra>",
           "hovertext": [
            "Afghanistan",
            "Bahrain",
            "Bangladesh",
            "Cambodia",
            "China",
            "Hong Kong, China",
            "India",
            "Indonesia",
            "Iran",
            "Iraq",
            "Israel",
            "Japan",
            "Jordan",
            "Korea, Dem. Rep.",
            "Korea, Rep.",
            "Kuwait",
            "Lebanon",
            "Malaysia",
            "Mongolia",
            "Myanmar",
            "Nepal",
            "Oman",
            "Pakistan",
            "Philippines",
            "Saudi Arabia",
            "Singapore",
            "Sri Lanka",
            "Syria",
            "Taiwan",
            "Thailand",
            "Vietnam",
            "West Bank and Gaza",
            "Yemen, Rep."
           ],
           "legendgroup": "Asia",
           "locations": [
            "AFG",
            "BHR",
            "BGD",
            "KHM",
            "CHN",
            "HKG",
            "IND",
            "IDN",
            "IRN",
            "IRQ",
            "ISR",
            "JPN",
            "JOR",
            "KOR",
            "KOR",
            "KWT",
            "LBN",
            "MYS",
            "MNG",
            "MMR",
            "NPL",
            "OMN",
            "PAK",
            "PHL",
            "SAU",
            "SGP",
            "LKA",
            "SYR",
            "TWN",
            "THA",
            "VNM",
            "PSE",
            "YEM"
           ],
           "marker": {
            "color": "#636efa",
            "size": [
             12881816,
             377967,
             93074406,
             7272485,
             1000281000,
             5264500,
             708000000,
             153343000,
             43072751,
             14173318,
             3858421,
             118454974,
             2347031,
             17647518,
             39326000,
             1497494,
             3086876,
             14441916,
             1756032,
             34680442,
             15796314,
             1301048,
             91462088,
             53456774,
             11254672,
             2651869,
             15410151,
             9410494,
             18501390,
             48827160,
             56142181,
             1425876,
             9657618
            ],
            "sizemode": "area",
            "sizeref": 3296707.74,
            "symbol": "circle"
           },
           "mode": "markers",
           "name": "Asia",
           "showlegend": true,
           "type": "scattergeo"
          },
          {
           "geo": "geo",
           "hovertemplate": "<b>%{hovertext}</b><br><br>continent=Europe<br>year=1982<br>pop=%{marker.size}<br>iso_alpha=%{location}<extra></extra>",
           "hovertext": [
            "Albania",
            "Austria",
            "Belgium",
            "Bosnia and Herzegovina",
            "Bulgaria",
            "Croatia",
            "Czech Republic",
            "Denmark",
            "Finland",
            "France",
            "Germany",
            "Greece",
            "Hungary",
            "Iceland",
            "Ireland",
            "Italy",
            "Montenegro",
            "Netherlands",
            "Norway",
            "Poland",
            "Portugal",
            "Romania",
            "Serbia",
            "Slovak Republic",
            "Slovenia",
            "Spain",
            "Sweden",
            "Switzerland",
            "Turkey",
            "United Kingdom"
           ],
           "legendgroup": "Europe",
           "locations": [
            "ALB",
            "AUT",
            "BEL",
            "BIH",
            "BGR",
            "HRV",
            "CZE",
            "DNK",
            "FIN",
            "FRA",
            "DEU",
            "GRC",
            "HUN",
            "ISL",
            "IRL",
            "ITA",
            "MNE",
            "NLD",
            "NOR",
            "POL",
            "PRT",
            "ROU",
            "SRB",
            "SVK",
            "SVN",
            "ESP",
            "SWE",
            "CHE",
            "TUR",
            "GBR"
           ],
           "marker": {
            "color": "#EF553B",
            "size": [
             2780097,
             7574613,
             9856303,
             4172693,
             8892098,
             4413368,
             10303704,
             5117810,
             4826933,
             54433565,
             78335266,
             9786480,
             10705535,
             233997,
             3480000,
             56535636,
             562548,
             14310401,
             4114787,
             36227381,
             9859650,
             22356726,
             9032824,
             5048043,
             1861252,
             37983310,
             8325260,
             6468126,
             47328791,
             56339704
            ],
            "sizemode": "area",
            "sizeref": 3296707.74,
            "symbol": "circle"
           },
           "mode": "markers",
           "name": "Europe",
           "showlegend": true,
           "type": "scattergeo"
          },
          {
           "geo": "geo",
           "hovertemplate": "<b>%{hovertext}</b><br><br>continent=Africa<br>year=1982<br>pop=%{marker.size}<br>iso_alpha=%{location}<extra></extra>",
           "hovertext": [
            "Algeria",
            "Angola",
            "Benin",
            "Botswana",
            "Burkina Faso",
            "Burundi",
            "Cameroon",
            "Central African Republic",
            "Chad",
            "Comoros",
            "Congo, Dem. Rep.",
            "Congo, Rep.",
            "Cote d'Ivoire",
            "Djibouti",
            "Egypt",
            "Equatorial Guinea",
            "Eritrea",
            "Ethiopia",
            "Gabon",
            "Gambia",
            "Ghana",
            "Guinea",
            "Guinea-Bissau",
            "Kenya",
            "Lesotho",
            "Liberia",
            "Libya",
            "Madagascar",
            "Malawi",
            "Mali",
            "Mauritania",
            "Mauritius",
            "Morocco",
            "Mozambique",
            "Namibia",
            "Niger",
            "Nigeria",
            "Reunion",
            "Rwanda",
            "Sao Tome and Principe",
            "Senegal",
            "Sierra Leone",
            "Somalia",
            "South Africa",
            "Sudan",
            "Swaziland",
            "Tanzania",
            "Togo",
            "Tunisia",
            "Uganda",
            "Zambia",
            "Zimbabwe"
           ],
           "legendgroup": "Africa",
           "locations": [
            "DZA",
            "AGO",
            "BEN",
            "BWA",
            "BFA",
            "BDI",
            "CMR",
            "CAF",
            "TCD",
            "COM",
            "COD",
            "COG",
            "CIV",
            "DJI",
            "EGY",
            "GNQ",
            "ERI",
            "ETH",
            "GAB",
            "GMB",
            "GHA",
            "GIN",
            "GNB",
            "KEN",
            "LSO",
            "LBR",
            "LBY",
            "MDG",
            "MWI",
            "MLI",
            "MRT",
            "MUS",
            "MAR",
            "MOZ",
            "NAM",
            "NER",
            "NGA",
            "REU",
            "RWA",
            "STP",
            "SEN",
            "SLE",
            "SOM",
            "ZAF",
            "SDN",
            "SWZ",
            "TZA",
            "TGO",
            "TUN",
            "UGA",
            "ZMB",
            "ZWE"
           ],
           "marker": {
            "color": "#00cc96",
            "size": [
             20033753,
             7016384,
             3641603,
             970347,
             6634596,
             4580410,
             9250831,
             2476971,
             4875118,
             348643,
             30646495,
             1774735,
             9025951,
             305991,
             45681811,
             285483,
             2637297,
             38111756,
             753874,
             715523,
             11400338,
             4710497,
             825987,
             17661452,
             1411807,
             1956875,
             3344074,
             9171477,
             6502825,
             6998256,
             1622136,
             992040,
             20198730,
             12587223,
             1099010,
             6437188,
             73039376,
             517810,
             5507565,
             98593,
             6147783,
             3464522,
             5828892,
             31140029,
             20367053,
             649901,
             19844382,
             2644765,
             6734098,
             12939400,
             6100407,
             7636524
            ],
            "sizemode": "area",
            "sizeref": 3296707.74,
            "symbol": "circle"
           },
           "mode": "markers",
           "name": "Africa",
           "showlegend": true,
           "type": "scattergeo"
          },
          {
           "geo": "geo",
           "hovertemplate": "<b>%{hovertext}</b><br><br>continent=Americas<br>year=1982<br>pop=%{marker.size}<br>iso_alpha=%{location}<extra></extra>",
           "hovertext": [
            "Argentina",
            "Bolivia",
            "Brazil",
            "Canada",
            "Chile",
            "Colombia",
            "Costa Rica",
            "Cuba",
            "Dominican Republic",
            "Ecuador",
            "El Salvador",
            "Guatemala",
            "Haiti",
            "Honduras",
            "Jamaica",
            "Mexico",
            "Nicaragua",
            "Panama",
            "Paraguay",
            "Peru",
            "Puerto Rico",
            "Trinidad and Tobago",
            "United States",
            "Uruguay",
            "Venezuela"
           ],
           "legendgroup": "Americas",
           "locations": [
            "ARG",
            "BOL",
            "BRA",
            "CAN",
            "CHL",
            "COL",
            "CRI",
            "CUB",
            "DOM",
            "ECU",
            "SLV",
            "GTM",
            "HTI",
            "HND",
            "JAM",
            "MEX",
            "NIC",
            "PAN",
            "PRY",
            "PER",
            "PRI",
            "TTO",
            "USA",
            "URY",
            "VEN"
           ],
           "marker": {
            "color": "#ab63fa",
            "size": [
             29341374,
             5642224,
             128962939,
             25201900,
             11487112,
             27764644,
             2424367,
             9789224,
             5968349,
             8365850,
             4474873,
             6395630,
             5198399,
             3669448,
             2298309,
             71640904,
             2979423,
             2036305,
             3366439,
             18125129,
             3279001,
             1116479,
             232187835,
             2953997,
             15620766
            ],
            "sizemode": "area",
            "sizeref": 3296707.74,
            "symbol": "circle"
           },
           "mode": "markers",
           "name": "Americas",
           "showlegend": true,
           "type": "scattergeo"
          },
          {
           "geo": "geo",
           "hovertemplate": "<b>%{hovertext}</b><br><br>continent=Oceania<br>year=1982<br>pop=%{marker.size}<br>iso_alpha=%{location}<extra></extra>",
           "hovertext": [
            "Australia",
            "New Zealand"
           ],
           "legendgroup": "Oceania",
           "locations": [
            "AUS",
            "NZL"
           ],
           "marker": {
            "color": "#FFA15A",
            "size": [
             15184200,
             3210650
            ],
            "sizemode": "area",
            "sizeref": 3296707.74,
            "symbol": "circle"
           },
           "mode": "markers",
           "name": "Oceania",
           "showlegend": true,
           "type": "scattergeo"
          }
         ],
         "name": "1982"
        },
        {
         "data": [
          {
           "geo": "geo",
           "hovertemplate": "<b>%{hovertext}</b><br><br>continent=Asia<br>year=1987<br>pop=%{marker.size}<br>iso_alpha=%{location}<extra></extra>",
           "hovertext": [
            "Afghanistan",
            "Bahrain",
            "Bangladesh",
            "Cambodia",
            "China",
            "Hong Kong, China",
            "India",
            "Indonesia",
            "Iran",
            "Iraq",
            "Israel",
            "Japan",
            "Jordan",
            "Korea, Dem. Rep.",
            "Korea, Rep.",
            "Kuwait",
            "Lebanon",
            "Malaysia",
            "Mongolia",
            "Myanmar",
            "Nepal",
            "Oman",
            "Pakistan",
            "Philippines",
            "Saudi Arabia",
            "Singapore",
            "Sri Lanka",
            "Syria",
            "Taiwan",
            "Thailand",
            "Vietnam",
            "West Bank and Gaza",
            "Yemen, Rep."
           ],
           "legendgroup": "Asia",
           "locations": [
            "AFG",
            "BHR",
            "BGD",
            "KHM",
            "CHN",
            "HKG",
            "IND",
            "IDN",
            "IRN",
            "IRQ",
            "ISR",
            "JPN",
            "JOR",
            "KOR",
            "KOR",
            "KWT",
            "LBN",
            "MYS",
            "MNG",
            "MMR",
            "NPL",
            "OMN",
            "PAK",
            "PHL",
            "SAU",
            "SGP",
            "LKA",
            "SYR",
            "TWN",
            "THA",
            "VNM",
            "PSE",
            "YEM"
           ],
           "marker": {
            "color": "#636efa",
            "size": [
             13867957,
             454612,
             103764241,
             8371791,
             1084035000,
             5584510,
             788000000,
             169276000,
             51889696,
             16543189,
             4203148,
             122091325,
             2820042,
             19067554,
             41622000,
             1891487,
             3089353,
             16331785,
             2015133,
             38028578,
             17917180,
             1593882,
             105186881,
             60017788,
             14619745,
             2794552,
             16495304,
             11242847,
             19757799,
             52910342,
             62826491,
             1691210,
             11219340
            ],
            "sizemode": "area",
            "sizeref": 3296707.74,
            "symbol": "circle"
           },
           "mode": "markers",
           "name": "Asia",
           "showlegend": true,
           "type": "scattergeo"
          },
          {
           "geo": "geo",
           "hovertemplate": "<b>%{hovertext}</b><br><br>continent=Europe<br>year=1987<br>pop=%{marker.size}<br>iso_alpha=%{location}<extra></extra>",
           "hovertext": [
            "Albania",
            "Austria",
            "Belgium",
            "Bosnia and Herzegovina",
            "Bulgaria",
            "Croatia",
            "Czech Republic",
            "Denmark",
            "Finland",
            "France",
            "Germany",
            "Greece",
            "Hungary",
            "Iceland",
            "Ireland",
            "Italy",
            "Montenegro",
            "Netherlands",
            "Norway",
            "Poland",
            "Portugal",
            "Romania",
            "Serbia",
            "Slovak Republic",
            "Slovenia",
            "Spain",
            "Sweden",
            "Switzerland",
            "Turkey",
            "United Kingdom"
           ],
           "legendgroup": "Europe",
           "locations": [
            "ALB",
            "AUT",
            "BEL",
            "BIH",
            "BGR",
            "HRV",
            "CZE",
            "DNK",
            "FIN",
            "FRA",
            "DEU",
            "GRC",
            "HUN",
            "ISL",
            "IRL",
            "ITA",
            "MNE",
            "NLD",
            "NOR",
            "POL",
            "PRT",
            "ROU",
            "SRB",
            "SVK",
            "SVN",
            "ESP",
            "SWE",
            "CHE",
            "TUR",
            "GBR"
           ],
           "marker": {
            "color": "#EF553B",
            "size": [
             3075321,
             7578903,
             9870200,
             4338977,
             8971958,
             4484310,
             10311597,
             5127024,
             4931729,
             55630100,
             77718298,
             9974490,
             10612740,
             244676,
             3539900,
             56729703,
             569473,
             14665278,
             4186147,
             37740710,
             9915289,
             22686371,
             9230783,
             5199318,
             1945870,
             38880702,
             8421403,
             6649942,
             52881328,
             56981620
            ],
            "sizemode": "area",
            "sizeref": 3296707.74,
            "symbol": "circle"
           },
           "mode": "markers",
           "name": "Europe",
           "showlegend": true,
           "type": "scattergeo"
          },
          {
           "geo": "geo",
           "hovertemplate": "<b>%{hovertext}</b><br><br>continent=Africa<br>year=1987<br>pop=%{marker.size}<br>iso_alpha=%{location}<extra></extra>",
           "hovertext": [
            "Algeria",
            "Angola",
            "Benin",
            "Botswana",
            "Burkina Faso",
            "Burundi",
            "Cameroon",
            "Central African Republic",
            "Chad",
            "Comoros",
            "Congo, Dem. Rep.",
            "Congo, Rep.",
            "Cote d'Ivoire",
            "Djibouti",
            "Egypt",
            "Equatorial Guinea",
            "Eritrea",
            "Ethiopia",
            "Gabon",
            "Gambia",
            "Ghana",
            "Guinea",
            "Guinea-Bissau",
            "Kenya",
            "Lesotho",
            "Liberia",
            "Libya",
            "Madagascar",
            "Malawi",
            "Mali",
            "Mauritania",
            "Mauritius",
            "Morocco",
            "Mozambique",
            "Namibia",
            "Niger",
            "Nigeria",
            "Reunion",
            "Rwanda",
            "Sao Tome and Principe",
            "Senegal",
            "Sierra Leone",
            "Somalia",
            "South Africa",
            "Sudan",
            "Swaziland",
            "Tanzania",
            "Togo",
            "Tunisia",
            "Uganda",
            "Zambia",
            "Zimbabwe"
           ],
           "legendgroup": "Africa",
           "locations": [
            "DZA",
            "AGO",
            "BEN",
            "BWA",
            "BFA",
            "BDI",
            "CMR",
            "CAF",
            "TCD",
            "COM",
            "COD",
            "COG",
            "CIV",
            "DJI",
            "EGY",
            "GNQ",
            "ERI",
            "ETH",
            "GAB",
            "GMB",
            "GHA",
            "GIN",
            "GNB",
            "KEN",
            "LSO",
            "LBR",
            "LBY",
            "MDG",
            "MWI",
            "MLI",
            "MRT",
            "MUS",
            "MAR",
            "MOZ",
            "NAM",
            "NER",
            "NGA",
            "REU",
            "RWA",
            "STP",
            "SEN",
            "SLE",
            "SOM",
            "ZAF",
            "SDN",
            "SWZ",
            "TZA",
            "TGO",
            "TUN",
            "UGA",
            "ZMB",
            "ZWE"
           ],
           "marker": {
            "color": "#00cc96",
            "size": [
             23254956,
             7874230,
             4243788,
             1151184,
             7586551,
             5126023,
             10780667,
             2840009,
             5498955,
             395114,
             35481645,
             2064095,
             10761098,
             311025,
             52799062,
             341244,
             2915959,
             42999530,
             880397,
             848406,
             14168101,
             5650262,
             927524,
             21198082,
             1599200,
             2269414,
             3799845,
             10568642,
             7824747,
             7634008,
             1841240,
             1042663,
             22987397,
             12891952,
             1278184,
             7332638,
             81551520,
             562035,
             6349365,
             110812,
             7171347,
             3868905,
             6921858,
             35933379,
             24725960,
             779348,
             23040630,
             3154264,
             7724976,
             15283050,
             7272406,
             9216418
            ],
            "sizemode": "area",
            "sizeref": 3296707.74,
            "symbol": "circle"
           },
           "mode": "markers",
           "name": "Africa",
           "showlegend": true,
           "type": "scattergeo"
          },
          {
           "geo": "geo",
           "hovertemplate": "<b>%{hovertext}</b><br><br>continent=Americas<br>year=1987<br>pop=%{marker.size}<br>iso_alpha=%{location}<extra></extra>",
           "hovertext": [
            "Argentina",
            "Bolivia",
            "Brazil",
            "Canada",
            "Chile",
            "Colombia",
            "Costa Rica",
            "Cuba",
            "Dominican Republic",
            "Ecuador",
            "El Salvador",
            "Guatemala",
            "Haiti",
            "Honduras",
            "Jamaica",
            "Mexico",
            "Nicaragua",
            "Panama",
            "Paraguay",
            "Peru",
            "Puerto Rico",
            "Trinidad and Tobago",
            "United States",
            "Uruguay",
            "Venezuela"
           ],
           "legendgroup": "Americas",
           "locations": [
            "ARG",
            "BOL",
            "BRA",
            "CAN",
            "CHL",
            "COL",
            "CRI",
            "CUB",
            "DOM",
            "ECU",
            "SLV",
            "GTM",
            "HTI",
            "HND",
            "JAM",
            "MEX",
            "NIC",
            "PAN",
            "PRY",
            "PER",
            "PRI",
            "TTO",
            "USA",
            "URY",
            "VEN"
           ],
           "marker": {
            "color": "#ab63fa",
            "size": [
             31620918,
             6156369,
             142938076,
             26549700,
             12463354,
             30964245,
             2799811,
             10239839,
             6655297,
             9545158,
             4842194,
             7326406,
             5756203,
             4372203,
             2326606,
             80122492,
             3344353,
             2253639,
             3886512,
             20195924,
             3444468,
             1191336,
             242803533,
             3045153,
             17910182
            ],
            "sizemode": "area",
            "sizeref": 3296707.74,
            "symbol": "circle"
           },
           "mode": "markers",
           "name": "Americas",
           "showlegend": true,
           "type": "scattergeo"
          },
          {
           "geo": "geo",
           "hovertemplate": "<b>%{hovertext}</b><br><br>continent=Oceania<br>year=1987<br>pop=%{marker.size}<br>iso_alpha=%{location}<extra></extra>",
           "hovertext": [
            "Australia",
            "New Zealand"
           ],
           "legendgroup": "Oceania",
           "locations": [
            "AUS",
            "NZL"
           ],
           "marker": {
            "color": "#FFA15A",
            "size": [
             16257249,
             3317166
            ],
            "sizemode": "area",
            "sizeref": 3296707.74,
            "symbol": "circle"
           },
           "mode": "markers",
           "name": "Oceania",
           "showlegend": true,
           "type": "scattergeo"
          }
         ],
         "name": "1987"
        },
        {
         "data": [
          {
           "geo": "geo",
           "hovertemplate": "<b>%{hovertext}</b><br><br>continent=Asia<br>year=1992<br>pop=%{marker.size}<br>iso_alpha=%{location}<extra></extra>",
           "hovertext": [
            "Afghanistan",
            "Bahrain",
            "Bangladesh",
            "Cambodia",
            "China",
            "Hong Kong, China",
            "India",
            "Indonesia",
            "Iran",
            "Iraq",
            "Israel",
            "Japan",
            "Jordan",
            "Korea, Dem. Rep.",
            "Korea, Rep.",
            "Kuwait",
            "Lebanon",
            "Malaysia",
            "Mongolia",
            "Myanmar",
            "Nepal",
            "Oman",
            "Pakistan",
            "Philippines",
            "Saudi Arabia",
            "Singapore",
            "Sri Lanka",
            "Syria",
            "Taiwan",
            "Thailand",
            "Vietnam",
            "West Bank and Gaza",
            "Yemen, Rep."
           ],
           "legendgroup": "Asia",
           "locations": [
            "AFG",
            "BHR",
            "BGD",
            "KHM",
            "CHN",
            "HKG",
            "IND",
            "IDN",
            "IRN",
            "IRQ",
            "ISR",
            "JPN",
            "JOR",
            "KOR",
            "KOR",
            "KWT",
            "LBN",
            "MYS",
            "MNG",
            "MMR",
            "NPL",
            "OMN",
            "PAK",
            "PHL",
            "SAU",
            "SGP",
            "LKA",
            "SYR",
            "TWN",
            "THA",
            "VNM",
            "PSE",
            "YEM"
           ],
           "marker": {
            "color": "#636efa",
            "size": [
             16317921,
             529491,
             113704579,
             10150094,
             1164970000,
             5829696,
             872000000,
             184816000,
             60397973,
             17861905,
             4936550,
             124329269,
             3867409,
             20711375,
             43805450,
             1418095,
             3219994,
             18319502,
             2312802,
             40546538,
             20326209,
             1915208,
             120065004,
             67185766,
             16945857,
             3235865,
             17587060,
             13219062,
             20686918,
             56667095,
             69940728,
             2104779,
             13367997
            ],
            "sizemode": "area",
            "sizeref": 3296707.74,
            "symbol": "circle"
           },
           "mode": "markers",
           "name": "Asia",
           "showlegend": true,
           "type": "scattergeo"
          },
          {
           "geo": "geo",
           "hovertemplate": "<b>%{hovertext}</b><br><br>continent=Europe<br>year=1992<br>pop=%{marker.size}<br>iso_alpha=%{location}<extra></extra>",
           "hovertext": [
            "Albania",
            "Austria",
            "Belgium",
            "Bosnia and Herzegovina",
            "Bulgaria",
            "Croatia",
            "Czech Republic",
            "Denmark",
            "Finland",
            "France",
            "Germany",
            "Greece",
            "Hungary",
            "Iceland",
            "Ireland",
            "Italy",
            "Montenegro",
            "Netherlands",
            "Norway",
            "Poland",
            "Portugal",
            "Romania",
            "Serbia",
            "Slovak Republic",
            "Slovenia",
            "Spain",
            "Sweden",
            "Switzerland",
            "Turkey",
            "United Kingdom"
           ],
           "legendgroup": "Europe",
           "locations": [
            "ALB",
            "AUT",
            "BEL",
            "BIH",
            "BGR",
            "HRV",
            "CZE",
            "DNK",
            "FIN",
            "FRA",
            "DEU",
            "GRC",
            "HUN",
            "ISL",
            "IRL",
            "ITA",
            "MNE",
            "NLD",
            "NOR",
            "POL",
            "PRT",
            "ROU",
            "SRB",
            "SVK",
            "SVN",
            "ESP",
            "SWE",
            "CHE",
            "TUR",
            "GBR"
           ],
           "marker": {
            "color": "#EF553B",
            "size": [
             3326498,
             7914969,
             10045622,
             4256013,
             8658506,
             4494013,
             10315702,
             5171393,
             5041039,
             57374179,
             80597764,
             10325429,
             10348684,
             259012,
             3557761,
             56840847,
             621621,
             15174244,
             4286357,
             38370697,
             9927680,
             22797027,
             9826397,
             5302888,
             1999210,
             39549438,
             8718867,
             6995447,
             58179144,
             57866349
            ],
            "sizemode": "area",
            "sizeref": 3296707.74,
            "symbol": "circle"
           },
           "mode": "markers",
           "name": "Europe",
           "showlegend": true,
           "type": "scattergeo"
          },
          {
           "geo": "geo",
           "hovertemplate": "<b>%{hovertext}</b><br><br>continent=Africa<br>year=1992<br>pop=%{marker.size}<br>iso_alpha=%{location}<extra></extra>",
           "hovertext": [
            "Algeria",
            "Angola",
            "Benin",
            "Botswana",
            "Burkina Faso",
            "Burundi",
            "Cameroon",
            "Central African Republic",
            "Chad",
            "Comoros",
            "Congo, Dem. Rep.",
            "Congo, Rep.",
            "Cote d'Ivoire",
            "Djibouti",
            "Egypt",
            "Equatorial Guinea",
            "Eritrea",
            "Ethiopia",
            "Gabon",
            "Gambia",
            "Ghana",
            "Guinea",
            "Guinea-Bissau",
            "Kenya",
            "Lesotho",
            "Liberia",
            "Libya",
            "Madagascar",
            "Malawi",
            "Mali",
            "Mauritania",
            "Mauritius",
            "Morocco",
            "Mozambique",
            "Namibia",
            "Niger",
            "Nigeria",
            "Reunion",
            "Rwanda",
            "Sao Tome and Principe",
            "Senegal",
            "Sierra Leone",
            "Somalia",
            "South Africa",
            "Sudan",
            "Swaziland",
            "Tanzania",
            "Togo",
            "Tunisia",
            "Uganda",
            "Zambia",
            "Zimbabwe"
           ],
           "legendgroup": "Africa",
           "locations": [
            "DZA",
            "AGO",
            "BEN",
            "BWA",
            "BFA",
            "BDI",
            "CMR",
            "CAF",
            "TCD",
            "COM",
            "COD",
            "COG",
            "CIV",
            "DJI",
            "EGY",
            "GNQ",
            "ERI",
            "ETH",
            "GAB",
            "GMB",
            "GHA",
            "GIN",
            "GNB",
            "KEN",
            "LSO",
            "LBR",
            "LBY",
            "MDG",
            "MWI",
            "MLI",
            "MRT",
            "MUS",
            "MAR",
            "MOZ",
            "NAM",
            "NER",
            "NGA",
            "REU",
            "RWA",
            "STP",
            "SEN",
            "SLE",
            "SOM",
            "ZAF",
            "SDN",
            "SWZ",
            "TZA",
            "TGO",
            "TUN",
            "UGA",
            "ZMB",
            "ZWE"
           ],
           "marker": {
            "color": "#00cc96",
            "size": [
             26298373,
             8735988,
             4981671,
             1342614,
             8878303,
             5809236,
             12467171,
             3265124,
             6429417,
             454429,
             41672143,
             2409073,
             12772596,
             384156,
             59402198,
             387838,
             3668440,
             52088559,
             985739,
             1025384,
             16278738,
             6990574,
             1050938,
             25020539,
             1803195,
             1912974,
             4364501,
             12210395,
             10014249,
             8416215,
             2119465,
             1096202,
             25798239,
             13160731,
             1554253,
             8392818,
             93364244,
             622191,
             7290203,
             125911,
             8307920,
             4260884,
             6099799,
             39964159,
             28227588,
             962344,
             26605473,
             3747553,
             8523077,
             18252190,
             8381163,
             10704340
            ],
            "sizemode": "area",
            "sizeref": 3296707.74,
            "symbol": "circle"
           },
           "mode": "markers",
           "name": "Africa",
           "showlegend": true,
           "type": "scattergeo"
          },
          {
           "geo": "geo",
           "hovertemplate": "<b>%{hovertext}</b><br><br>continent=Americas<br>year=1992<br>pop=%{marker.size}<br>iso_alpha=%{location}<extra></extra>",
           "hovertext": [
            "Argentina",
            "Bolivia",
            "Brazil",
            "Canada",
            "Chile",
            "Colombia",
            "Costa Rica",
            "Cuba",
            "Dominican Republic",
            "Ecuador",
            "El Salvador",
            "Guatemala",
            "Haiti",
            "Honduras",
            "Jamaica",
            "Mexico",
            "Nicaragua",
            "Panama",
            "Paraguay",
            "Peru",
            "Puerto Rico",
            "Trinidad and Tobago",
            "United States",
            "Uruguay",
            "Venezuela"
           ],
           "legendgroup": "Americas",
           "locations": [
            "ARG",
            "BOL",
            "BRA",
            "CAN",
            "CHL",
            "COL",
            "CRI",
            "CUB",
            "DOM",
            "ECU",
            "SLV",
            "GTM",
            "HTI",
            "HND",
            "JAM",
            "MEX",
            "NIC",
            "PAN",
            "PRY",
            "PER",
            "PRI",
            "TTO",
            "USA",
            "URY",
            "VEN"
           ],
           "marker": {
            "color": "#ab63fa",
            "size": [
             33958947,
             6893451,
             155975974,
             28523502,
             13572994,
             34202721,
             3173216,
             10723260,
             7351181,
             10748394,
             5274649,
             8486949,
             6326682,
             5077347,
             2378618,
             88111030,
             4017939,
             2484997,
             4483945,
             22430449,
             3585176,
             1183669,
             256894189,
             3149262,
             20265563
            ],
            "sizemode": "area",
            "sizeref": 3296707.74,
            "symbol": "circle"
           },
           "mode": "markers",
           "name": "Americas",
           "showlegend": true,
           "type": "scattergeo"
          },
          {
           "geo": "geo",
           "hovertemplate": "<b>%{hovertext}</b><br><br>continent=Oceania<br>year=1992<br>pop=%{marker.size}<br>iso_alpha=%{location}<extra></extra>",
           "hovertext": [
            "Australia",
            "New Zealand"
           ],
           "legendgroup": "Oceania",
           "locations": [
            "AUS",
            "NZL"
           ],
           "marker": {
            "color": "#FFA15A",
            "size": [
             17481977,
             3437674
            ],
            "sizemode": "area",
            "sizeref": 3296707.74,
            "symbol": "circle"
           },
           "mode": "markers",
           "name": "Oceania",
           "showlegend": true,
           "type": "scattergeo"
          }
         ],
         "name": "1992"
        },
        {
         "data": [
          {
           "geo": "geo",
           "hovertemplate": "<b>%{hovertext}</b><br><br>continent=Asia<br>year=1997<br>pop=%{marker.size}<br>iso_alpha=%{location}<extra></extra>",
           "hovertext": [
            "Afghanistan",
            "Bahrain",
            "Bangladesh",
            "Cambodia",
            "China",
            "Hong Kong, China",
            "India",
            "Indonesia",
            "Iran",
            "Iraq",
            "Israel",
            "Japan",
            "Jordan",
            "Korea, Dem. Rep.",
            "Korea, Rep.",
            "Kuwait",
            "Lebanon",
            "Malaysia",
            "Mongolia",
            "Myanmar",
            "Nepal",
            "Oman",
            "Pakistan",
            "Philippines",
            "Saudi Arabia",
            "Singapore",
            "Sri Lanka",
            "Syria",
            "Taiwan",
            "Thailand",
            "Vietnam",
            "West Bank and Gaza",
            "Yemen, Rep."
           ],
           "legendgroup": "Asia",
           "locations": [
            "AFG",
            "BHR",
            "BGD",
            "KHM",
            "CHN",
            "HKG",
            "IND",
            "IDN",
            "IRN",
            "IRQ",
            "ISR",
            "JPN",
            "JOR",
            "KOR",
            "KOR",
            "KWT",
            "LBN",
            "MYS",
            "MNG",
            "MMR",
            "NPL",
            "OMN",
            "PAK",
            "PHL",
            "SAU",
            "SGP",
            "LKA",
            "SYR",
            "TWN",
            "THA",
            "VNM",
            "PSE",
            "YEM"
           ],
           "marker": {
            "color": "#636efa",
            "size": [
             22227415,
             598561,
             123315288,
             11782962,
             1230075000,
             6495918,
             959000000,
             199278000,
             63327987,
             20775703,
             5531387,
             125956499,
             4526235,
             21585105,
             46173816,
             1765345,
             3430388,
             20476091,
             2494803,
             43247867,
             23001113,
             2283635,
             135564834,
             75012988,
             21229759,
             3802309,
             18698655,
             15081016,
             21628605,
             60216677,
             76048996,
             2826046,
             15826497
            ],
            "sizemode": "area",
            "sizeref": 3296707.74,
            "symbol": "circle"
           },
           "mode": "markers",
           "name": "Asia",
           "showlegend": true,
           "type": "scattergeo"
          },
          {
           "geo": "geo",
           "hovertemplate": "<b>%{hovertext}</b><br><br>continent=Europe<br>year=1997<br>pop=%{marker.size}<br>iso_alpha=%{location}<extra></extra>",
           "hovertext": [
            "Albania",
            "Austria",
            "Belgium",
            "Bosnia and Herzegovina",
            "Bulgaria",
            "Croatia",
            "Czech Republic",
            "Denmark",
            "Finland",
            "France",
            "Germany",
            "Greece",
            "Hungary",
            "Iceland",
            "Ireland",
            "Italy",
            "Montenegro",
            "Netherlands",
            "Norway",
            "Poland",
            "Portugal",
            "Romania",
            "Serbia",
            "Slovak Republic",
            "Slovenia",
            "Spain",
            "Sweden",
            "Switzerland",
            "Turkey",
            "United Kingdom"
           ],
           "legendgroup": "Europe",
           "locations": [
            "ALB",
            "AUT",
            "BEL",
            "BIH",
            "BGR",
            "HRV",
            "CZE",
            "DNK",
            "FIN",
            "FRA",
            "DEU",
            "GRC",
            "HUN",
            "ISL",
            "IRL",
            "ITA",
            "MNE",
            "NLD",
            "NOR",
            "POL",
            "PRT",
            "ROU",
            "SRB",
            "SVK",
            "SVN",
            "ESP",
            "SWE",
            "CHE",
            "TUR",
            "GBR"
           ],
           "marker": {
            "color": "#EF553B",
            "size": [
             3428038,
             8069876,
             10199787,
             3607000,
             8066057,
             4444595,
             10300707,
             5283663,
             5134406,
             58623428,
             82011073,
             10502372,
             10244684,
             271192,
             3667233,
             57479469,
             692651,
             15604464,
             4405672,
             38654957,
             10156415,
             22562458,
             10336594,
             5383010,
             2011612,
             39855442,
             8897619,
             7193761,
             63047647,
             58808266
            ],
            "sizemode": "area",
            "sizeref": 3296707.74,
            "symbol": "circle"
           },
           "mode": "markers",
           "name": "Europe",
           "showlegend": true,
           "type": "scattergeo"
          },
          {
           "geo": "geo",
           "hovertemplate": "<b>%{hovertext}</b><br><br>continent=Africa<br>year=1997<br>pop=%{marker.size}<br>iso_alpha=%{location}<extra></extra>",
           "hovertext": [
            "Algeria",
            "Angola",
            "Benin",
            "Botswana",
            "Burkina Faso",
            "Burundi",
            "Cameroon",
            "Central African Republic",
            "Chad",
            "Comoros",
            "Congo, Dem. Rep.",
            "Congo, Rep.",
            "Cote d'Ivoire",
            "Djibouti",
            "Egypt",
            "Equatorial Guinea",
            "Eritrea",
            "Ethiopia",
            "Gabon",
            "Gambia",
            "Ghana",
            "Guinea",
            "Guinea-Bissau",
            "Kenya",
            "Lesotho",
            "Liberia",
            "Libya",
            "Madagascar",
            "Malawi",
            "Mali",
            "Mauritania",
            "Mauritius",
            "Morocco",
            "Mozambique",
            "Namibia",
            "Niger",
            "Nigeria",
            "Reunion",
            "Rwanda",
            "Sao Tome and Principe",
            "Senegal",
            "Sierra Leone",
            "Somalia",
            "South Africa",
            "Sudan",
            "Swaziland",
            "Tanzania",
            "Togo",
            "Tunisia",
            "Uganda",
            "Zambia",
            "Zimbabwe"
           ],
           "legendgroup": "Africa",
           "locations": [
            "DZA",
            "AGO",
            "BEN",
            "BWA",
            "BFA",
            "BDI",
            "CMR",
            "CAF",
            "TCD",
            "COM",
            "COD",
            "COG",
            "CIV",
            "DJI",
            "EGY",
            "GNQ",
            "ERI",
            "ETH",
            "GAB",
            "GMB",
            "GHA",
            "GIN",
            "GNB",
            "KEN",
            "LSO",
            "LBR",
            "LBY",
            "MDG",
            "MWI",
            "MLI",
            "MRT",
            "MUS",
            "MAR",
            "MOZ",
            "NAM",
            "NER",
            "NGA",
            "REU",
            "RWA",
            "STP",
            "SEN",
            "SLE",
            "SOM",
            "ZAF",
            "SDN",
            "SWZ",
            "TZA",
            "TGO",
            "TUN",
            "UGA",
            "ZMB",
            "ZWE"
           ],
           "marker": {
            "color": "#00cc96",
            "size": [
             29072015,
             9875024,
             6066080,
             1536536,
             10352843,
             6121610,
             14195809,
             3696513,
             7562011,
             527982,
             47798986,
             2800947,
             14625967,
             417908,
             66134291,
             439971,
             4058319,
             59861301,
             1126189,
             1235767,
             18418288,
             8048834,
             1193708,
             28263827,
             1982823,
             2200725,
             4759670,
             14165114,
             10419991,
             9384984,
             2444741,
             1149818,
             28529501,
             16603334,
             1774766,
             9666252,
             106207839,
             684810,
             7212583,
             145608,
             9535314,
             4578212,
             6633514,
             42835005,
             32160729,
             1054486,
             30686889,
             4320890,
             9231669,
             21210254,
             9417789,
             11404948
            ],
            "sizemode": "area",
            "sizeref": 3296707.74,
            "symbol": "circle"
           },
           "mode": "markers",
           "name": "Africa",
           "showlegend": true,
           "type": "scattergeo"
          },
          {
           "geo": "geo",
           "hovertemplate": "<b>%{hovertext}</b><br><br>continent=Americas<br>year=1997<br>pop=%{marker.size}<br>iso_alpha=%{location}<extra></extra>",
           "hovertext": [
            "Argentina",
            "Bolivia",
            "Brazil",
            "Canada",
            "Chile",
            "Colombia",
            "Costa Rica",
            "Cuba",
            "Dominican Republic",
            "Ecuador",
            "El Salvador",
            "Guatemala",
            "Haiti",
            "Honduras",
            "Jamaica",
            "Mexico",
            "Nicaragua",
            "Panama",
            "Paraguay",
            "Peru",
            "Puerto Rico",
            "Trinidad and Tobago",
            "United States",
            "Uruguay",
            "Venezuela"
           ],
           "legendgroup": "Americas",
           "locations": [
            "ARG",
            "BOL",
            "BRA",
            "CAN",
            "CHL",
            "COL",
            "CRI",
            "CUB",
            "DOM",
            "ECU",
            "SLV",
            "GTM",
            "HTI",
            "HND",
            "JAM",
            "MEX",
            "NIC",
            "PAN",
            "PRY",
            "PER",
            "PRI",
            "TTO",
            "USA",
            "URY",
            "VEN"
           ],
           "marker": {
            "color": "#ab63fa",
            "size": [
             36203463,
             7693188,
             168546719,
             30305843,
             14599929,
             37657830,
             3518107,
             10983007,
             7992357,
             11911819,
             5783439,
             9803875,
             6913545,
             5867957,
             2531311,
             95895146,
             4609572,
             2734531,
             5154123,
             24748122,
             3759430,
             1138101,
             272911760,
             3262838,
             22374398
            ],
            "sizemode": "area",
            "sizeref": 3296707.74,
            "symbol": "circle"
           },
           "mode": "markers",
           "name": "Americas",
           "showlegend": true,
           "type": "scattergeo"
          },
          {
           "geo": "geo",
           "hovertemplate": "<b>%{hovertext}</b><br><br>continent=Oceania<br>year=1997<br>pop=%{marker.size}<br>iso_alpha=%{location}<extra></extra>",
           "hovertext": [
            "Australia",
            "New Zealand"
           ],
           "legendgroup": "Oceania",
           "locations": [
            "AUS",
            "NZL"
           ],
           "marker": {
            "color": "#FFA15A",
            "size": [
             18565243,
             3676187
            ],
            "sizemode": "area",
            "sizeref": 3296707.74,
            "symbol": "circle"
           },
           "mode": "markers",
           "name": "Oceania",
           "showlegend": true,
           "type": "scattergeo"
          }
         ],
         "name": "1997"
        },
        {
         "data": [
          {
           "geo": "geo",
           "hovertemplate": "<b>%{hovertext}</b><br><br>continent=Asia<br>year=2002<br>pop=%{marker.size}<br>iso_alpha=%{location}<extra></extra>",
           "hovertext": [
            "Afghanistan",
            "Bahrain",
            "Bangladesh",
            "Cambodia",
            "China",
            "Hong Kong, China",
            "India",
            "Indonesia",
            "Iran",
            "Iraq",
            "Israel",
            "Japan",
            "Jordan",
            "Korea, Dem. Rep.",
            "Korea, Rep.",
            "Kuwait",
            "Lebanon",
            "Malaysia",
            "Mongolia",
            "Myanmar",
            "Nepal",
            "Oman",
            "Pakistan",
            "Philippines",
            "Saudi Arabia",
            "Singapore",
            "Sri Lanka",
            "Syria",
            "Taiwan",
            "Thailand",
            "Vietnam",
            "West Bank and Gaza",
            "Yemen, Rep."
           ],
           "legendgroup": "Asia",
           "locations": [
            "AFG",
            "BHR",
            "BGD",
            "KHM",
            "CHN",
            "HKG",
            "IND",
            "IDN",
            "IRN",
            "IRQ",
            "ISR",
            "JPN",
            "JOR",
            "KOR",
            "KOR",
            "KWT",
            "LBN",
            "MYS",
            "MNG",
            "MMR",
            "NPL",
            "OMN",
            "PAK",
            "PHL",
            "SAU",
            "SGP",
            "LKA",
            "SYR",
            "TWN",
            "THA",
            "VNM",
            "PSE",
            "YEM"
           ],
           "marker": {
            "color": "#636efa",
            "size": [
             25268405,
             656397,
             135656790,
             12926707,
             1280400000,
             6762476,
             1034172547,
             211060000,
             66907826,
             24001816,
             6029529,
             127065841,
             5307470,
             22215365,
             47969150,
             2111561,
             3677780,
             22662365,
             2674234,
             45598081,
             25873917,
             2713462,
             153403524,
             82995088,
             24501530,
             4197776,
             19576783,
             17155814,
             22454239,
             62806748,
             80908147,
             3389578,
             18701257
            ],
            "sizemode": "area",
            "sizeref": 3296707.74,
            "symbol": "circle"
           },
           "mode": "markers",
           "name": "Asia",
           "showlegend": true,
           "type": "scattergeo"
          },
          {
           "geo": "geo",
           "hovertemplate": "<b>%{hovertext}</b><br><br>continent=Europe<br>year=2002<br>pop=%{marker.size}<br>iso_alpha=%{location}<extra></extra>",
           "hovertext": [
            "Albania",
            "Austria",
            "Belgium",
            "Bosnia and Herzegovina",
            "Bulgaria",
            "Croatia",
            "Czech Republic",
            "Denmark",
            "Finland",
            "France",
            "Germany",
            "Greece",
            "Hungary",
            "Iceland",
            "Ireland",
            "Italy",
            "Montenegro",
            "Netherlands",
            "Norway",
            "Poland",
            "Portugal",
            "Romania",
            "Serbia",
            "Slovak Republic",
            "Slovenia",
            "Spain",
            "Sweden",
            "Switzerland",
            "Turkey",
            "United Kingdom"
           ],
           "legendgroup": "Europe",
           "locations": [
            "ALB",
            "AUT",
            "BEL",
            "BIH",
            "BGR",
            "HRV",
            "CZE",
            "DNK",
            "FIN",
            "FRA",
            "DEU",
            "GRC",
            "HUN",
            "ISL",
            "IRL",
            "ITA",
            "MNE",
            "NLD",
            "NOR",
            "POL",
            "PRT",
            "ROU",
            "SRB",
            "SVK",
            "SVN",
            "ESP",
            "SWE",
            "CHE",
            "TUR",
            "GBR"
           ],
           "marker": {
            "color": "#EF553B",
            "size": [
             3508512,
             8148312,
             10311970,
             4165416,
             7661799,
             4481020,
             10256295,
             5374693,
             5193039,
             59925035,
             82350671,
             10603863,
             10083313,
             288030,
             3879155,
             57926999,
             720230,
             16122830,
             4535591,
             38625976,
             10433867,
             22404337,
             10111559,
             5410052,
             2011497,
             40152517,
             8954175,
             7361757,
             67308928,
             59912431
            ],
            "sizemode": "area",
            "sizeref": 3296707.74,
            "symbol": "circle"
           },
           "mode": "markers",
           "name": "Europe",
           "showlegend": true,
           "type": "scattergeo"
          },
          {
           "geo": "geo",
           "hovertemplate": "<b>%{hovertext}</b><br><br>continent=Africa<br>year=2002<br>pop=%{marker.size}<br>iso_alpha=%{location}<extra></extra>",
           "hovertext": [
            "Algeria",
            "Angola",
            "Benin",
            "Botswana",
            "Burkina Faso",
            "Burundi",
            "Cameroon",
            "Central African Republic",
            "Chad",
            "Comoros",
            "Congo, Dem. Rep.",
            "Congo, Rep.",
            "Cote d'Ivoire",
            "Djibouti",
            "Egypt",
            "Equatorial Guinea",
            "Eritrea",
            "Ethiopia",
            "Gabon",
            "Gambia",
            "Ghana",
            "Guinea",
            "Guinea-Bissau",
            "Kenya",
            "Lesotho",
            "Liberia",
            "Libya",
            "Madagascar",
            "Malawi",
            "Mali",
            "Mauritania",
            "Mauritius",
            "Morocco",
            "Mozambique",
            "Namibia",
            "Niger",
            "Nigeria",
            "Reunion",
            "Rwanda",
            "Sao Tome and Principe",
            "Senegal",
            "Sierra Leone",
            "Somalia",
            "South Africa",
            "Sudan",
            "Swaziland",
            "Tanzania",
            "Togo",
            "Tunisia",
            "Uganda",
            "Zambia",
            "Zimbabwe"
           ],
           "legendgroup": "Africa",
           "locations": [
            "DZA",
            "AGO",
            "BEN",
            "BWA",
            "BFA",
            "BDI",
            "CMR",
            "CAF",
            "TCD",
            "COM",
            "COD",
            "COG",
            "CIV",
            "DJI",
            "EGY",
            "GNQ",
            "ERI",
            "ETH",
            "GAB",
            "GMB",
            "GHA",
            "GIN",
            "GNB",
            "KEN",
            "LSO",
            "LBR",
            "LBY",
            "MDG",
            "MWI",
            "MLI",
            "MRT",
            "MUS",
            "MAR",
            "MOZ",
            "NAM",
            "NER",
            "NGA",
            "REU",
            "RWA",
            "STP",
            "SEN",
            "SLE",
            "SOM",
            "ZAF",
            "SDN",
            "SWZ",
            "TZA",
            "TGO",
            "TUN",
            "UGA",
            "ZMB",
            "ZWE"
           ],
           "marker": {
            "color": "#00cc96",
            "size": [
             31287142,
             10866106,
             7026113,
             1630347,
             12251209,
             7021078,
             15929988,
             4048013,
             8835739,
             614382,
             55379852,
             3328795,
             16252726,
             447416,
             73312559,
             495627,
             4414865,
             67946797,
             1299304,
             1457766,
             20550751,
             8807818,
             1332459,
             31386842,
             2046772,
             2814651,
             5368585,
             16473477,
             11824495,
             10580176,
             2828858,
             1200206,
             31167783,
             18473780,
             1972153,
             11140655,
             119901274,
             743981,
             7852401,
             170372,
             10870037,
             5359092,
             7753310,
             44433622,
             37090298,
             1130269,
             34593779,
             4977378,
             9770575,
             24739869,
             10595811,
             11926563
            ],
            "sizemode": "area",
            "sizeref": 3296707.74,
            "symbol": "circle"
           },
           "mode": "markers",
           "name": "Africa",
           "showlegend": true,
           "type": "scattergeo"
          },
          {
           "geo": "geo",
           "hovertemplate": "<b>%{hovertext}</b><br><br>continent=Americas<br>year=2002<br>pop=%{marker.size}<br>iso_alpha=%{location}<extra></extra>",
           "hovertext": [
            "Argentina",
            "Bolivia",
            "Brazil",
            "Canada",
            "Chile",
            "Colombia",
            "Costa Rica",
            "Cuba",
            "Dominican Republic",
            "Ecuador",
            "El Salvador",
            "Guatemala",
            "Haiti",
            "Honduras",
            "Jamaica",
            "Mexico",
            "Nicaragua",
            "Panama",
            "Paraguay",
            "Peru",
            "Puerto Rico",
            "Trinidad and Tobago",
            "United States",
            "Uruguay",
            "Venezuela"
           ],
           "legendgroup": "Americas",
           "locations": [
            "ARG",
            "BOL",
            "BRA",
            "CAN",
            "CHL",
            "COL",
            "CRI",
            "CUB",
            "DOM",
            "ECU",
            "SLV",
            "GTM",
            "HTI",
            "HND",
            "JAM",
            "MEX",
            "NIC",
            "PAN",
            "PRY",
            "PER",
            "PRI",
            "TTO",
            "USA",
            "URY",
            "VEN"
           ],
           "marker": {
            "color": "#ab63fa",
            "size": [
             38331121,
             8445134,
             179914212,
             31902268,
             15497046,
             41008227,
             3834934,
             11226999,
             8650322,
             12921234,
             6353681,
             11178650,
             7607651,
             6677328,
             2664659,
             102479927,
             5146848,
             2990875,
             5884491,
             26769436,
             3859606,
             1101832,
             287675526,
             3363085,
             24287670
            ],
            "sizemode": "area",
            "sizeref": 3296707.74,
            "symbol": "circle"
           },
           "mode": "markers",
           "name": "Americas",
           "showlegend": true,
           "type": "scattergeo"
          },
          {
           "geo": "geo",
           "hovertemplate": "<b>%{hovertext}</b><br><br>continent=Oceania<br>year=2002<br>pop=%{marker.size}<br>iso_alpha=%{location}<extra></extra>",
           "hovertext": [
            "Australia",
            "New Zealand"
           ],
           "legendgroup": "Oceania",
           "locations": [
            "AUS",
            "NZL"
           ],
           "marker": {
            "color": "#FFA15A",
            "size": [
             19546792,
             3908037
            ],
            "sizemode": "area",
            "sizeref": 3296707.74,
            "symbol": "circle"
           },
           "mode": "markers",
           "name": "Oceania",
           "showlegend": true,
           "type": "scattergeo"
          }
         ],
         "name": "2002"
        },
        {
         "data": [
          {
           "geo": "geo",
           "hovertemplate": "<b>%{hovertext}</b><br><br>continent=Asia<br>year=2007<br>pop=%{marker.size}<br>iso_alpha=%{location}<extra></extra>",
           "hovertext": [
            "Afghanistan",
            "Bahrain",
            "Bangladesh",
            "Cambodia",
            "China",
            "Hong Kong, China",
            "India",
            "Indonesia",
            "Iran",
            "Iraq",
            "Israel",
            "Japan",
            "Jordan",
            "Korea, Dem. Rep.",
            "Korea, Rep.",
            "Kuwait",
            "Lebanon",
            "Malaysia",
            "Mongolia",
            "Myanmar",
            "Nepal",
            "Oman",
            "Pakistan",
            "Philippines",
            "Saudi Arabia",
            "Singapore",
            "Sri Lanka",
            "Syria",
            "Taiwan",
            "Thailand",
            "Vietnam",
            "West Bank and Gaza",
            "Yemen, Rep."
           ],
           "legendgroup": "Asia",
           "locations": [
            "AFG",
            "BHR",
            "BGD",
            "KHM",
            "CHN",
            "HKG",
            "IND",
            "IDN",
            "IRN",
            "IRQ",
            "ISR",
            "JPN",
            "JOR",
            "KOR",
            "KOR",
            "KWT",
            "LBN",
            "MYS",
            "MNG",
            "MMR",
            "NPL",
            "OMN",
            "PAK",
            "PHL",
            "SAU",
            "SGP",
            "LKA",
            "SYR",
            "TWN",
            "THA",
            "VNM",
            "PSE",
            "YEM"
           ],
           "marker": {
            "color": "#636efa",
            "size": [
             31889923,
             708573,
             150448339,
             14131858,
             1318683096,
             6980412,
             1110396331,
             223547000,
             69453570,
             27499638,
             6426679,
             127467972,
             6053193,
             23301725,
             49044790,
             2505559,
             3921278,
             24821286,
             2874127,
             47761980,
             28901790,
             3204897,
             169270617,
             91077287,
             27601038,
             4553009,
             20378239,
             19314747,
             23174294,
             65068149,
             85262356,
             4018332,
             22211743
            ],
            "sizemode": "area",
            "sizeref": 3296707.74,
            "symbol": "circle"
           },
           "mode": "markers",
           "name": "Asia",
           "showlegend": true,
           "type": "scattergeo"
          },
          {
           "geo": "geo",
           "hovertemplate": "<b>%{hovertext}</b><br><br>continent=Europe<br>year=2007<br>pop=%{marker.size}<br>iso_alpha=%{location}<extra></extra>",
           "hovertext": [
            "Albania",
            "Austria",
            "Belgium",
            "Bosnia and Herzegovina",
            "Bulgaria",
            "Croatia",
            "Czech Republic",
            "Denmark",
            "Finland",
            "France",
            "Germany",
            "Greece",
            "Hungary",
            "Iceland",
            "Ireland",
            "Italy",
            "Montenegro",
            "Netherlands",
            "Norway",
            "Poland",
            "Portugal",
            "Romania",
            "Serbia",
            "Slovak Republic",
            "Slovenia",
            "Spain",
            "Sweden",
            "Switzerland",
            "Turkey",
            "United Kingdom"
           ],
           "legendgroup": "Europe",
           "locations": [
            "ALB",
            "AUT",
            "BEL",
            "BIH",
            "BGR",
            "HRV",
            "CZE",
            "DNK",
            "FIN",
            "FRA",
            "DEU",
            "GRC",
            "HUN",
            "ISL",
            "IRL",
            "ITA",
            "MNE",
            "NLD",
            "NOR",
            "POL",
            "PRT",
            "ROU",
            "SRB",
            "SVK",
            "SVN",
            "ESP",
            "SWE",
            "CHE",
            "TUR",
            "GBR"
           ],
           "marker": {
            "color": "#EF553B",
            "size": [
             3600523,
             8199783,
             10392226,
             4552198,
             7322858,
             4493312,
             10228744,
             5468120,
             5238460,
             61083916,
             82400996,
             10706290,
             9956108,
             301931,
             4109086,
             58147733,
             684736,
             16570613,
             4627926,
             38518241,
             10642836,
             22276056,
             10150265,
             5447502,
             2009245,
             40448191,
             9031088,
             7554661,
             71158647,
             60776238
            ],
            "sizemode": "area",
            "sizeref": 3296707.74,
            "symbol": "circle"
           },
           "mode": "markers",
           "name": "Europe",
           "showlegend": true,
           "type": "scattergeo"
          },
          {
           "geo": "geo",
           "hovertemplate": "<b>%{hovertext}</b><br><br>continent=Africa<br>year=2007<br>pop=%{marker.size}<br>iso_alpha=%{location}<extra></extra>",
           "hovertext": [
            "Algeria",
            "Angola",
            "Benin",
            "Botswana",
            "Burkina Faso",
            "Burundi",
            "Cameroon",
            "Central African Republic",
            "Chad",
            "Comoros",
            "Congo, Dem. Rep.",
            "Congo, Rep.",
            "Cote d'Ivoire",
            "Djibouti",
            "Egypt",
            "Equatorial Guinea",
            "Eritrea",
            "Ethiopia",
            "Gabon",
            "Gambia",
            "Ghana",
            "Guinea",
            "Guinea-Bissau",
            "Kenya",
            "Lesotho",
            "Liberia",
            "Libya",
            "Madagascar",
            "Malawi",
            "Mali",
            "Mauritania",
            "Mauritius",
            "Morocco",
            "Mozambique",
            "Namibia",
            "Niger",
            "Nigeria",
            "Reunion",
            "Rwanda",
            "Sao Tome and Principe",
            "Senegal",
            "Sierra Leone",
            "Somalia",
            "South Africa",
            "Sudan",
            "Swaziland",
            "Tanzania",
            "Togo",
            "Tunisia",
            "Uganda",
            "Zambia",
            "Zimbabwe"
           ],
           "legendgroup": "Africa",
           "locations": [
            "DZA",
            "AGO",
            "BEN",
            "BWA",
            "BFA",
            "BDI",
            "CMR",
            "CAF",
            "TCD",
            "COM",
            "COD",
            "COG",
            "CIV",
            "DJI",
            "EGY",
            "GNQ",
            "ERI",
            "ETH",
            "GAB",
            "GMB",
            "GHA",
            "GIN",
            "GNB",
            "KEN",
            "LSO",
            "LBR",
            "LBY",
            "MDG",
            "MWI",
            "MLI",
            "MRT",
            "MUS",
            "MAR",
            "MOZ",
            "NAM",
            "NER",
            "NGA",
            "REU",
            "RWA",
            "STP",
            "SEN",
            "SLE",
            "SOM",
            "ZAF",
            "SDN",
            "SWZ",
            "TZA",
            "TGO",
            "TUN",
            "UGA",
            "ZMB",
            "ZWE"
           ],
           "marker": {
            "color": "#00cc96",
            "size": [
             33333216,
             12420476,
             8078314,
             1639131,
             14326203,
             8390505,
             17696293,
             4369038,
             10238807,
             710960,
             64606759,
             3800610,
             18013409,
             496374,
             80264543,
             551201,
             4906585,
             76511887,
             1454867,
             1688359,
             22873338,
             9947814,
             1472041,
             35610177,
             2012649,
             3193942,
             6036914,
             19167654,
             13327079,
             12031795,
             3270065,
             1250882,
             33757175,
             19951656,
             2055080,
             12894865,
             135031164,
             798094,
             8860588,
             199579,
             12267493,
             6144562,
             9118773,
             43997828,
             42292929,
             1133066,
             38139640,
             5701579,
             10276158,
             29170398,
             11746035,
             12311143
            ],
            "sizemode": "area",
            "sizeref": 3296707.74,
            "symbol": "circle"
           },
           "mode": "markers",
           "name": "Africa",
           "showlegend": true,
           "type": "scattergeo"
          },
          {
           "geo": "geo",
           "hovertemplate": "<b>%{hovertext}</b><br><br>continent=Americas<br>year=2007<br>pop=%{marker.size}<br>iso_alpha=%{location}<extra></extra>",
           "hovertext": [
            "Argentina",
            "Bolivia",
            "Brazil",
            "Canada",
            "Chile",
            "Colombia",
            "Costa Rica",
            "Cuba",
            "Dominican Republic",
            "Ecuador",
            "El Salvador",
            "Guatemala",
            "Haiti",
            "Honduras",
            "Jamaica",
            "Mexico",
            "Nicaragua",
            "Panama",
            "Paraguay",
            "Peru",
            "Puerto Rico",
            "Trinidad and Tobago",
            "United States",
            "Uruguay",
            "Venezuela"
           ],
           "legendgroup": "Americas",
           "locations": [
            "ARG",
            "BOL",
            "BRA",
            "CAN",
            "CHL",
            "COL",
            "CRI",
            "CUB",
            "DOM",
            "ECU",
            "SLV",
            "GTM",
            "HTI",
            "HND",
            "JAM",
            "MEX",
            "NIC",
            "PAN",
            "PRY",
            "PER",
            "PRI",
            "TTO",
            "USA",
            "URY",
            "VEN"
           ],
           "marker": {
            "color": "#ab63fa",
            "size": [
             40301927,
             9119152,
             190010647,
             33390141,
             16284741,
             44227550,
             4133884,
             11416987,
             9319622,
             13755680,
             6939688,
             12572928,
             8502814,
             7483763,
             2780132,
             108700891,
             5675356,
             3242173,
             6667147,
             28674757,
             3942491,
             1056608,
             301139947,
             3447496,
             26084662
            ],
            "sizemode": "area",
            "sizeref": 3296707.74,
            "symbol": "circle"
           },
           "mode": "markers",
           "name": "Americas",
           "showlegend": true,
           "type": "scattergeo"
          },
          {
           "geo": "geo",
           "hovertemplate": "<b>%{hovertext}</b><br><br>continent=Oceania<br>year=2007<br>pop=%{marker.size}<br>iso_alpha=%{location}<extra></extra>",
           "hovertext": [
            "Australia",
            "New Zealand"
           ],
           "legendgroup": "Oceania",
           "locations": [
            "AUS",
            "NZL"
           ],
           "marker": {
            "color": "#FFA15A",
            "size": [
             20434176,
             4115771
            ],
            "sizemode": "area",
            "sizeref": 3296707.74,
            "symbol": "circle"
           },
           "mode": "markers",
           "name": "Oceania",
           "showlegend": true,
           "type": "scattergeo"
          }
         ],
         "name": "2007"
        }
       ],
       "layout": {
        "geo": {
         "center": {},
         "domain": {
          "x": [
           0,
           1
          ],
          "y": [
           0,
           1
          ]
         },
         "projection": {
          "type": "natural earth"
         }
        },
        "legend": {
         "itemsizing": "constant",
         "title": {
          "text": "continent"
         },
         "tracegroupgap": 0
        },
        "margin": {
         "t": 60
        },
        "sliders": [
         {
          "active": 0,
          "currentvalue": {
           "prefix": "year="
          },
          "len": 0.9,
          "pad": {
           "b": 10,
           "t": 60
          },
          "steps": [
           {
            "args": [
             [
              "1952"
             ],
             {
              "frame": {
               "duration": 0,
               "redraw": true
              },
              "fromcurrent": true,
              "mode": "immediate",
              "transition": {
               "duration": 0,
               "easing": "linear"
              }
             }
            ],
            "label": "1952",
            "method": "animate"
           },
           {
            "args": [
             [
              "1957"
             ],
             {
              "frame": {
               "duration": 0,
               "redraw": true
              },
              "fromcurrent": true,
              "mode": "immediate",
              "transition": {
               "duration": 0,
               "easing": "linear"
              }
             }
            ],
            "label": "1957",
            "method": "animate"
           },
           {
            "args": [
             [
              "1962"
             ],
             {
              "frame": {
               "duration": 0,
               "redraw": true
              },
              "fromcurrent": true,
              "mode": "immediate",
              "transition": {
               "duration": 0,
               "easing": "linear"
              }
             }
            ],
            "label": "1962",
            "method": "animate"
           },
           {
            "args": [
             [
              "1967"
             ],
             {
              "frame": {
               "duration": 0,
               "redraw": true
              },
              "fromcurrent": true,
              "mode": "immediate",
              "transition": {
               "duration": 0,
               "easing": "linear"
              }
             }
            ],
            "label": "1967",
            "method": "animate"
           },
           {
            "args": [
             [
              "1972"
             ],
             {
              "frame": {
               "duration": 0,
               "redraw": true
              },
              "fromcurrent": true,
              "mode": "immediate",
              "transition": {
               "duration": 0,
               "easing": "linear"
              }
             }
            ],
            "label": "1972",
            "method": "animate"
           },
           {
            "args": [
             [
              "1977"
             ],
             {
              "frame": {
               "duration": 0,
               "redraw": true
              },
              "fromcurrent": true,
              "mode": "immediate",
              "transition": {
               "duration": 0,
               "easing": "linear"
              }
             }
            ],
            "label": "1977",
            "method": "animate"
           },
           {
            "args": [
             [
              "1982"
             ],
             {
              "frame": {
               "duration": 0,
               "redraw": true
              },
              "fromcurrent": true,
              "mode": "immediate",
              "transition": {
               "duration": 0,
               "easing": "linear"
              }
             }
            ],
            "label": "1982",
            "method": "animate"
           },
           {
            "args": [
             [
              "1987"
             ],
             {
              "frame": {
               "duration": 0,
               "redraw": true
              },
              "fromcurrent": true,
              "mode": "immediate",
              "transition": {
               "duration": 0,
               "easing": "linear"
              }
             }
            ],
            "label": "1987",
            "method": "animate"
           },
           {
            "args": [
             [
              "1992"
             ],
             {
              "frame": {
               "duration": 0,
               "redraw": true
              },
              "fromcurrent": true,
              "mode": "immediate",
              "transition": {
               "duration": 0,
               "easing": "linear"
              }
             }
            ],
            "label": "1992",
            "method": "animate"
           },
           {
            "args": [
             [
              "1997"
             ],
             {
              "frame": {
               "duration": 0,
               "redraw": true
              },
              "fromcurrent": true,
              "mode": "immediate",
              "transition": {
               "duration": 0,
               "easing": "linear"
              }
             }
            ],
            "label": "1997",
            "method": "animate"
           },
           {
            "args": [
             [
              "2002"
             ],
             {
              "frame": {
               "duration": 0,
               "redraw": true
              },
              "fromcurrent": true,
              "mode": "immediate",
              "transition": {
               "duration": 0,
               "easing": "linear"
              }
             }
            ],
            "label": "2002",
            "method": "animate"
           },
           {
            "args": [
             [
              "2007"
             ],
             {
              "frame": {
               "duration": 0,
               "redraw": true
              },
              "fromcurrent": true,
              "mode": "immediate",
              "transition": {
               "duration": 0,
               "easing": "linear"
              }
             }
            ],
            "label": "2007",
            "method": "animate"
           }
          ],
          "x": 0.1,
          "xanchor": "left",
          "y": 0,
          "yanchor": "top"
         }
        ],
        "template": {
         "data": {
          "bar": [
           {
            "error_x": {
             "color": "#2a3f5f"
            },
            "error_y": {
             "color": "#2a3f5f"
            },
            "marker": {
             "line": {
              "color": "#E5ECF6",
              "width": 0.5
             },
             "pattern": {
              "fillmode": "overlay",
              "size": 10,
              "solidity": 0.2
             }
            },
            "type": "bar"
           }
          ],
          "barpolar": [
           {
            "marker": {
             "line": {
              "color": "#E5ECF6",
              "width": 0.5
             },
             "pattern": {
              "fillmode": "overlay",
              "size": 10,
              "solidity": 0.2
             }
            },
            "type": "barpolar"
           }
          ],
          "carpet": [
           {
            "aaxis": {
             "endlinecolor": "#2a3f5f",
             "gridcolor": "white",
             "linecolor": "white",
             "minorgridcolor": "white",
             "startlinecolor": "#2a3f5f"
            },
            "baxis": {
             "endlinecolor": "#2a3f5f",
             "gridcolor": "white",
             "linecolor": "white",
             "minorgridcolor": "white",
             "startlinecolor": "#2a3f5f"
            },
            "type": "carpet"
           }
          ],
          "choropleth": [
           {
            "colorbar": {
             "outlinewidth": 0,
             "ticks": ""
            },
            "type": "choropleth"
           }
          ],
          "contour": [
           {
            "colorbar": {
             "outlinewidth": 0,
             "ticks": ""
            },
            "colorscale": [
             [
              0,
              "#0d0887"
             ],
             [
              0.1111111111111111,
              "#46039f"
             ],
             [
              0.2222222222222222,
              "#7201a8"
             ],
             [
              0.3333333333333333,
              "#9c179e"
             ],
             [
              0.4444444444444444,
              "#bd3786"
             ],
             [
              0.5555555555555556,
              "#d8576b"
             ],
             [
              0.6666666666666666,
              "#ed7953"
             ],
             [
              0.7777777777777778,
              "#fb9f3a"
             ],
             [
              0.8888888888888888,
              "#fdca26"
             ],
             [
              1,
              "#f0f921"
             ]
            ],
            "type": "contour"
           }
          ],
          "contourcarpet": [
           {
            "colorbar": {
             "outlinewidth": 0,
             "ticks": ""
            },
            "type": "contourcarpet"
           }
          ],
          "heatmap": [
           {
            "colorbar": {
             "outlinewidth": 0,
             "ticks": ""
            },
            "colorscale": [
             [
              0,
              "#0d0887"
             ],
             [
              0.1111111111111111,
              "#46039f"
             ],
             [
              0.2222222222222222,
              "#7201a8"
             ],
             [
              0.3333333333333333,
              "#9c179e"
             ],
             [
              0.4444444444444444,
              "#bd3786"
             ],
             [
              0.5555555555555556,
              "#d8576b"
             ],
             [
              0.6666666666666666,
              "#ed7953"
             ],
             [
              0.7777777777777778,
              "#fb9f3a"
             ],
             [
              0.8888888888888888,
              "#fdca26"
             ],
             [
              1,
              "#f0f921"
             ]
            ],
            "type": "heatmap"
           }
          ],
          "heatmapgl": [
           {
            "colorbar": {
             "outlinewidth": 0,
             "ticks": ""
            },
            "colorscale": [
             [
              0,
              "#0d0887"
             ],
             [
              0.1111111111111111,
              "#46039f"
             ],
             [
              0.2222222222222222,
              "#7201a8"
             ],
             [
              0.3333333333333333,
              "#9c179e"
             ],
             [
              0.4444444444444444,
              "#bd3786"
             ],
             [
              0.5555555555555556,
              "#d8576b"
             ],
             [
              0.6666666666666666,
              "#ed7953"
             ],
             [
              0.7777777777777778,
              "#fb9f3a"
             ],
             [
              0.8888888888888888,
              "#fdca26"
             ],
             [
              1,
              "#f0f921"
             ]
            ],
            "type": "heatmapgl"
           }
          ],
          "histogram": [
           {
            "marker": {
             "pattern": {
              "fillmode": "overlay",
              "size": 10,
              "solidity": 0.2
             }
            },
            "type": "histogram"
           }
          ],
          "histogram2d": [
           {
            "colorbar": {
             "outlinewidth": 0,
             "ticks": ""
            },
            "colorscale": [
             [
              0,
              "#0d0887"
             ],
             [
              0.1111111111111111,
              "#46039f"
             ],
             [
              0.2222222222222222,
              "#7201a8"
             ],
             [
              0.3333333333333333,
              "#9c179e"
             ],
             [
              0.4444444444444444,
              "#bd3786"
             ],
             [
              0.5555555555555556,
              "#d8576b"
             ],
             [
              0.6666666666666666,
              "#ed7953"
             ],
             [
              0.7777777777777778,
              "#fb9f3a"
             ],
             [
              0.8888888888888888,
              "#fdca26"
             ],
             [
              1,
              "#f0f921"
             ]
            ],
            "type": "histogram2d"
           }
          ],
          "histogram2dcontour": [
           {
            "colorbar": {
             "outlinewidth": 0,
             "ticks": ""
            },
            "colorscale": [
             [
              0,
              "#0d0887"
             ],
             [
              0.1111111111111111,
              "#46039f"
             ],
             [
              0.2222222222222222,
              "#7201a8"
             ],
             [
              0.3333333333333333,
              "#9c179e"
             ],
             [
              0.4444444444444444,
              "#bd3786"
             ],
             [
              0.5555555555555556,
              "#d8576b"
             ],
             [
              0.6666666666666666,
              "#ed7953"
             ],
             [
              0.7777777777777778,
              "#fb9f3a"
             ],
             [
              0.8888888888888888,
              "#fdca26"
             ],
             [
              1,
              "#f0f921"
             ]
            ],
            "type": "histogram2dcontour"
           }
          ],
          "mesh3d": [
           {
            "colorbar": {
             "outlinewidth": 0,
             "ticks": ""
            },
            "type": "mesh3d"
           }
          ],
          "parcoords": [
           {
            "line": {
             "colorbar": {
              "outlinewidth": 0,
              "ticks": ""
             }
            },
            "type": "parcoords"
           }
          ],
          "pie": [
           {
            "automargin": true,
            "type": "pie"
           }
          ],
          "scatter": [
           {
            "fillpattern": {
             "fillmode": "overlay",
             "size": 10,
             "solidity": 0.2
            },
            "type": "scatter"
           }
          ],
          "scatter3d": [
           {
            "line": {
             "colorbar": {
              "outlinewidth": 0,
              "ticks": ""
             }
            },
            "marker": {
             "colorbar": {
              "outlinewidth": 0,
              "ticks": ""
             }
            },
            "type": "scatter3d"
           }
          ],
          "scattercarpet": [
           {
            "marker": {
             "colorbar": {
              "outlinewidth": 0,
              "ticks": ""
             }
            },
            "type": "scattercarpet"
           }
          ],
          "scattergeo": [
           {
            "marker": {
             "colorbar": {
              "outlinewidth": 0,
              "ticks": ""
             }
            },
            "type": "scattergeo"
           }
          ],
          "scattergl": [
           {
            "marker": {
             "colorbar": {
              "outlinewidth": 0,
              "ticks": ""
             }
            },
            "type": "scattergl"
           }
          ],
          "scattermapbox": [
           {
            "marker": {
             "colorbar": {
              "outlinewidth": 0,
              "ticks": ""
             }
            },
            "type": "scattermapbox"
           }
          ],
          "scatterpolar": [
           {
            "marker": {
             "colorbar": {
              "outlinewidth": 0,
              "ticks": ""
             }
            },
            "type": "scatterpolar"
           }
          ],
          "scatterpolargl": [
           {
            "marker": {
             "colorbar": {
              "outlinewidth": 0,
              "ticks": ""
             }
            },
            "type": "scatterpolargl"
           }
          ],
          "scatterternary": [
           {
            "marker": {
             "colorbar": {
              "outlinewidth": 0,
              "ticks": ""
             }
            },
            "type": "scatterternary"
           }
          ],
          "surface": [
           {
            "colorbar": {
             "outlinewidth": 0,
             "ticks": ""
            },
            "colorscale": [
             [
              0,
              "#0d0887"
             ],
             [
              0.1111111111111111,
              "#46039f"
             ],
             [
              0.2222222222222222,
              "#7201a8"
             ],
             [
              0.3333333333333333,
              "#9c179e"
             ],
             [
              0.4444444444444444,
              "#bd3786"
             ],
             [
              0.5555555555555556,
              "#d8576b"
             ],
             [
              0.6666666666666666,
              "#ed7953"
             ],
             [
              0.7777777777777778,
              "#fb9f3a"
             ],
             [
              0.8888888888888888,
              "#fdca26"
             ],
             [
              1,
              "#f0f921"
             ]
            ],
            "type": "surface"
           }
          ],
          "table": [
           {
            "cells": {
             "fill": {
              "color": "#EBF0F8"
             },
             "line": {
              "color": "white"
             }
            },
            "header": {
             "fill": {
              "color": "#C8D4E3"
             },
             "line": {
              "color": "white"
             }
            },
            "type": "table"
           }
          ]
         },
         "layout": {
          "annotationdefaults": {
           "arrowcolor": "#2a3f5f",
           "arrowhead": 0,
           "arrowwidth": 1
          },
          "autotypenumbers": "strict",
          "coloraxis": {
           "colorbar": {
            "outlinewidth": 0,
            "ticks": ""
           }
          },
          "colorscale": {
           "diverging": [
            [
             0,
             "#8e0152"
            ],
            [
             0.1,
             "#c51b7d"
            ],
            [
             0.2,
             "#de77ae"
            ],
            [
             0.3,
             "#f1b6da"
            ],
            [
             0.4,
             "#fde0ef"
            ],
            [
             0.5,
             "#f7f7f7"
            ],
            [
             0.6,
             "#e6f5d0"
            ],
            [
             0.7,
             "#b8e186"
            ],
            [
             0.8,
             "#7fbc41"
            ],
            [
             0.9,
             "#4d9221"
            ],
            [
             1,
             "#276419"
            ]
           ],
           "sequential": [
            [
             0,
             "#0d0887"
            ],
            [
             0.1111111111111111,
             "#46039f"
            ],
            [
             0.2222222222222222,
             "#7201a8"
            ],
            [
             0.3333333333333333,
             "#9c179e"
            ],
            [
             0.4444444444444444,
             "#bd3786"
            ],
            [
             0.5555555555555556,
             "#d8576b"
            ],
            [
             0.6666666666666666,
             "#ed7953"
            ],
            [
             0.7777777777777778,
             "#fb9f3a"
            ],
            [
             0.8888888888888888,
             "#fdca26"
            ],
            [
             1,
             "#f0f921"
            ]
           ],
           "sequentialminus": [
            [
             0,
             "#0d0887"
            ],
            [
             0.1111111111111111,
             "#46039f"
            ],
            [
             0.2222222222222222,
             "#7201a8"
            ],
            [
             0.3333333333333333,
             "#9c179e"
            ],
            [
             0.4444444444444444,
             "#bd3786"
            ],
            [
             0.5555555555555556,
             "#d8576b"
            ],
            [
             0.6666666666666666,
             "#ed7953"
            ],
            [
             0.7777777777777778,
             "#fb9f3a"
            ],
            [
             0.8888888888888888,
             "#fdca26"
            ],
            [
             1,
             "#f0f921"
            ]
           ]
          },
          "colorway": [
           "#636efa",
           "#EF553B",
           "#00cc96",
           "#ab63fa",
           "#FFA15A",
           "#19d3f3",
           "#FF6692",
           "#B6E880",
           "#FF97FF",
           "#FECB52"
          ],
          "font": {
           "color": "#2a3f5f"
          },
          "geo": {
           "bgcolor": "white",
           "lakecolor": "white",
           "landcolor": "#E5ECF6",
           "showlakes": true,
           "showland": true,
           "subunitcolor": "white"
          },
          "hoverlabel": {
           "align": "left"
          },
          "hovermode": "closest",
          "mapbox": {
           "style": "light"
          },
          "paper_bgcolor": "white",
          "plot_bgcolor": "#E5ECF6",
          "polar": {
           "angularaxis": {
            "gridcolor": "white",
            "linecolor": "white",
            "ticks": ""
           },
           "bgcolor": "#E5ECF6",
           "radialaxis": {
            "gridcolor": "white",
            "linecolor": "white",
            "ticks": ""
           }
          },
          "scene": {
           "xaxis": {
            "backgroundcolor": "#E5ECF6",
            "gridcolor": "white",
            "gridwidth": 2,
            "linecolor": "white",
            "showbackground": true,
            "ticks": "",
            "zerolinecolor": "white"
           },
           "yaxis": {
            "backgroundcolor": "#E5ECF6",
            "gridcolor": "white",
            "gridwidth": 2,
            "linecolor": "white",
            "showbackground": true,
            "ticks": "",
            "zerolinecolor": "white"
           },
           "zaxis": {
            "backgroundcolor": "#E5ECF6",
            "gridcolor": "white",
            "gridwidth": 2,
            "linecolor": "white",
            "showbackground": true,
            "ticks": "",
            "zerolinecolor": "white"
           }
          },
          "shapedefaults": {
           "line": {
            "color": "#2a3f5f"
           }
          },
          "ternary": {
           "aaxis": {
            "gridcolor": "white",
            "linecolor": "white",
            "ticks": ""
           },
           "baxis": {
            "gridcolor": "white",
            "linecolor": "white",
            "ticks": ""
           },
           "bgcolor": "#E5ECF6",
           "caxis": {
            "gridcolor": "white",
            "linecolor": "white",
            "ticks": ""
           }
          },
          "title": {
           "x": 0.05
          },
          "xaxis": {
           "automargin": true,
           "gridcolor": "white",
           "linecolor": "white",
           "ticks": "",
           "title": {
            "standoff": 15
           },
           "zerolinecolor": "white",
           "zerolinewidth": 2
          },
          "yaxis": {
           "automargin": true,
           "gridcolor": "white",
           "linecolor": "white",
           "ticks": "",
           "title": {
            "standoff": 15
           },
           "zerolinecolor": "white",
           "zerolinewidth": 2
          }
         }
        },
        "updatemenus": [
         {
          "buttons": [
           {
            "args": [
             null,
             {
              "frame": {
               "duration": 500,
               "redraw": true
              },
              "fromcurrent": true,
              "mode": "immediate",
              "transition": {
               "duration": 500,
               "easing": "linear"
              }
             }
            ],
            "label": "&#9654;",
            "method": "animate"
           },
           {
            "args": [
             [
              null
             ],
             {
              "frame": {
               "duration": 0,
               "redraw": true
              },
              "fromcurrent": true,
              "mode": "immediate",
              "transition": {
               "duration": 0,
               "easing": "linear"
              }
             }
            ],
            "label": "&#9724;",
            "method": "animate"
           }
          ],
          "direction": "left",
          "pad": {
           "r": 10,
           "t": 70
          },
          "showactive": false,
          "type": "buttons",
          "x": 0.1,
          "xanchor": "right",
          "y": 0,
          "yanchor": "top"
         }
        ]
       }
      },
      "text/html": [
       "<div>                            <div id=\"1c1014b8-b2d4-4c07-b316-2af5b5f96c76\" class=\"plotly-graph-div\" style=\"height:525px; width:100%;\"></div>            <script type=\"text/javascript\">                require([\"plotly\"], function(Plotly) {                    window.PLOTLYENV=window.PLOTLYENV || {};                                    if (document.getElementById(\"1c1014b8-b2d4-4c07-b316-2af5b5f96c76\")) {                    Plotly.newPlot(                        \"1c1014b8-b2d4-4c07-b316-2af5b5f96c76\",                        [{\"geo\":\"geo\",\"hovertemplate\":\"<b>%{hovertext}</b><br><br>continent=Asia<br>year=1952<br>pop=%{marker.size}<br>iso_alpha=%{location}<extra></extra>\",\"hovertext\":[\"Afghanistan\",\"Bahrain\",\"Bangladesh\",\"Cambodia\",\"China\",\"Hong Kong, China\",\"India\",\"Indonesia\",\"Iran\",\"Iraq\",\"Israel\",\"Japan\",\"Jordan\",\"Korea, Dem. Rep.\",\"Korea, Rep.\",\"Kuwait\",\"Lebanon\",\"Malaysia\",\"Mongolia\",\"Myanmar\",\"Nepal\",\"Oman\",\"Pakistan\",\"Philippines\",\"Saudi Arabia\",\"Singapore\",\"Sri Lanka\",\"Syria\",\"Taiwan\",\"Thailand\",\"Vietnam\",\"West Bank and Gaza\",\"Yemen, Rep.\"],\"legendgroup\":\"Asia\",\"locations\":[\"AFG\",\"BHR\",\"BGD\",\"KHM\",\"CHN\",\"HKG\",\"IND\",\"IDN\",\"IRN\",\"IRQ\",\"ISR\",\"JPN\",\"JOR\",\"KOR\",\"KOR\",\"KWT\",\"LBN\",\"MYS\",\"MNG\",\"MMR\",\"NPL\",\"OMN\",\"PAK\",\"PHL\",\"SAU\",\"SGP\",\"LKA\",\"SYR\",\"TWN\",\"THA\",\"VNM\",\"PSE\",\"YEM\"],\"marker\":{\"color\":\"#636efa\",\"size\":[8425333,120447,46886859,4693836,556263527,2125900,372000000,82052000,17272000,5441766,1620914,86459025,607914,8865488,20947571,160000,1439529,6748378,800663,20092996,9182536,507833,41346560,22438691,4005677,1127000,7982342,3661549,8550362,21289402,26246839,1030585,4963829],\"sizemode\":\"area\",\"sizeref\":3296707.74,\"symbol\":\"circle\"},\"mode\":\"markers\",\"name\":\"Asia\",\"showlegend\":true,\"type\":\"scattergeo\"},{\"geo\":\"geo\",\"hovertemplate\":\"<b>%{hovertext}</b><br><br>continent=Europe<br>year=1952<br>pop=%{marker.size}<br>iso_alpha=%{location}<extra></extra>\",\"hovertext\":[\"Albania\",\"Austria\",\"Belgium\",\"Bosnia and Herzegovina\",\"Bulgaria\",\"Croatia\",\"Czech Republic\",\"Denmark\",\"Finland\",\"France\",\"Germany\",\"Greece\",\"Hungary\",\"Iceland\",\"Ireland\",\"Italy\",\"Montenegro\",\"Netherlands\",\"Norway\",\"Poland\",\"Portugal\",\"Romania\",\"Serbia\",\"Slovak Republic\",\"Slovenia\",\"Spain\",\"Sweden\",\"Switzerland\",\"Turkey\",\"United Kingdom\"],\"legendgroup\":\"Europe\",\"locations\":[\"ALB\",\"AUT\",\"BEL\",\"BIH\",\"BGR\",\"HRV\",\"CZE\",\"DNK\",\"FIN\",\"FRA\",\"DEU\",\"GRC\",\"HUN\",\"ISL\",\"IRL\",\"ITA\",\"MNE\",\"NLD\",\"NOR\",\"POL\",\"PRT\",\"ROU\",\"SRB\",\"SVK\",\"SVN\",\"ESP\",\"SWE\",\"CHE\",\"TUR\",\"GBR\"],\"marker\":{\"color\":\"#EF553B\",\"size\":[1282697,6927772,8730405,2791000,7274900,3882229,9125183,4334000,4090500,42459667,69145952,7733250,9504000,147962,2952156,47666000,413834,10381988,3327728,25730551,8526050,16630000,6860147,3558137,1489518,28549870,7124673,4815000,22235677,50430000],\"sizemode\":\"area\",\"sizeref\":3296707.74,\"symbol\":\"circle\"},\"mode\":\"markers\",\"name\":\"Europe\",\"showlegend\":true,\"type\":\"scattergeo\"},{\"geo\":\"geo\",\"hovertemplate\":\"<b>%{hovertext}</b><br><br>continent=Africa<br>year=1952<br>pop=%{marker.size}<br>iso_alpha=%{location}<extra></extra>\",\"hovertext\":[\"Algeria\",\"Angola\",\"Benin\",\"Botswana\",\"Burkina Faso\",\"Burundi\",\"Cameroon\",\"Central African Republic\",\"Chad\",\"Comoros\",\"Congo, Dem. Rep.\",\"Congo, Rep.\",\"Cote d'Ivoire\",\"Djibouti\",\"Egypt\",\"Equatorial Guinea\",\"Eritrea\",\"Ethiopia\",\"Gabon\",\"Gambia\",\"Ghana\",\"Guinea\",\"Guinea-Bissau\",\"Kenya\",\"Lesotho\",\"Liberia\",\"Libya\",\"Madagascar\",\"Malawi\",\"Mali\",\"Mauritania\",\"Mauritius\",\"Morocco\",\"Mozambique\",\"Namibia\",\"Niger\",\"Nigeria\",\"Reunion\",\"Rwanda\",\"Sao Tome and Principe\",\"Senegal\",\"Sierra Leone\",\"Somalia\",\"South Africa\",\"Sudan\",\"Swaziland\",\"Tanzania\",\"Togo\",\"Tunisia\",\"Uganda\",\"Zambia\",\"Zimbabwe\"],\"legendgroup\":\"Africa\",\"locations\":[\"DZA\",\"AGO\",\"BEN\",\"BWA\",\"BFA\",\"BDI\",\"CMR\",\"CAF\",\"TCD\",\"COM\",\"COD\",\"COG\",\"CIV\",\"DJI\",\"EGY\",\"GNQ\",\"ERI\",\"ETH\",\"GAB\",\"GMB\",\"GHA\",\"GIN\",\"GNB\",\"KEN\",\"LSO\",\"LBR\",\"LBY\",\"MDG\",\"MWI\",\"MLI\",\"MRT\",\"MUS\",\"MAR\",\"MOZ\",\"NAM\",\"NER\",\"NGA\",\"REU\",\"RWA\",\"STP\",\"SEN\",\"SLE\",\"SOM\",\"ZAF\",\"SDN\",\"SWZ\",\"TZA\",\"TGO\",\"TUN\",\"UGA\",\"ZMB\",\"ZWE\"],\"marker\":{\"color\":\"#00cc96\",\"size\":[9279525,4232095,1738315,442308,4469979,2445618,5009067,1291695,2682462,153936,14100005,854885,2977019,63149,22223309,216964,1438760,20860941,420702,284320,5581001,2664249,580653,6464046,748747,863308,1019729,4762912,2917802,3838168,1022556,516556,9939217,6446316,485831,3379468,33119096,257700,2534927,60011,2755589,2143249,2526994,14264935,8504667,290243,8322925,1219113,3647735,5824797,2672000,3080907],\"sizemode\":\"area\",\"sizeref\":3296707.74,\"symbol\":\"circle\"},\"mode\":\"markers\",\"name\":\"Africa\",\"showlegend\":true,\"type\":\"scattergeo\"},{\"geo\":\"geo\",\"hovertemplate\":\"<b>%{hovertext}</b><br><br>continent=Americas<br>year=1952<br>pop=%{marker.size}<br>iso_alpha=%{location}<extra></extra>\",\"hovertext\":[\"Argentina\",\"Bolivia\",\"Brazil\",\"Canada\",\"Chile\",\"Colombia\",\"Costa Rica\",\"Cuba\",\"Dominican Republic\",\"Ecuador\",\"El Salvador\",\"Guatemala\",\"Haiti\",\"Honduras\",\"Jamaica\",\"Mexico\",\"Nicaragua\",\"Panama\",\"Paraguay\",\"Peru\",\"Puerto Rico\",\"Trinidad and Tobago\",\"United States\",\"Uruguay\",\"Venezuela\"],\"legendgroup\":\"Americas\",\"locations\":[\"ARG\",\"BOL\",\"BRA\",\"CAN\",\"CHL\",\"COL\",\"CRI\",\"CUB\",\"DOM\",\"ECU\",\"SLV\",\"GTM\",\"HTI\",\"HND\",\"JAM\",\"MEX\",\"NIC\",\"PAN\",\"PRY\",\"PER\",\"PRI\",\"TTO\",\"USA\",\"URY\",\"VEN\"],\"marker\":{\"color\":\"#ab63fa\",\"size\":[17876956,2883315,56602560,14785584,6377619,12350771,926317,6007797,2491346,3548753,2042865,3146381,3201488,1517453,1426095,30144317,1165790,940080,1555876,8025700,2227000,662850,157553000,2252965,5439568],\"sizemode\":\"area\",\"sizeref\":3296707.74,\"symbol\":\"circle\"},\"mode\":\"markers\",\"name\":\"Americas\",\"showlegend\":true,\"type\":\"scattergeo\"},{\"geo\":\"geo\",\"hovertemplate\":\"<b>%{hovertext}</b><br><br>continent=Oceania<br>year=1952<br>pop=%{marker.size}<br>iso_alpha=%{location}<extra></extra>\",\"hovertext\":[\"Australia\",\"New Zealand\"],\"legendgroup\":\"Oceania\",\"locations\":[\"AUS\",\"NZL\"],\"marker\":{\"color\":\"#FFA15A\",\"size\":[8691212,1994794],\"sizemode\":\"area\",\"sizeref\":3296707.74,\"symbol\":\"circle\"},\"mode\":\"markers\",\"name\":\"Oceania\",\"showlegend\":true,\"type\":\"scattergeo\"}],                        {\"template\":{\"data\":{\"histogram2dcontour\":[{\"type\":\"histogram2dcontour\",\"colorbar\":{\"outlinewidth\":0,\"ticks\":\"\"},\"colorscale\":[[0.0,\"#0d0887\"],[0.1111111111111111,\"#46039f\"],[0.2222222222222222,\"#7201a8\"],[0.3333333333333333,\"#9c179e\"],[0.4444444444444444,\"#bd3786\"],[0.5555555555555556,\"#d8576b\"],[0.6666666666666666,\"#ed7953\"],[0.7777777777777778,\"#fb9f3a\"],[0.8888888888888888,\"#fdca26\"],[1.0,\"#f0f921\"]]}],\"choropleth\":[{\"type\":\"choropleth\",\"colorbar\":{\"outlinewidth\":0,\"ticks\":\"\"}}],\"histogram2d\":[{\"type\":\"histogram2d\",\"colorbar\":{\"outlinewidth\":0,\"ticks\":\"\"},\"colorscale\":[[0.0,\"#0d0887\"],[0.1111111111111111,\"#46039f\"],[0.2222222222222222,\"#7201a8\"],[0.3333333333333333,\"#9c179e\"],[0.4444444444444444,\"#bd3786\"],[0.5555555555555556,\"#d8576b\"],[0.6666666666666666,\"#ed7953\"],[0.7777777777777778,\"#fb9f3a\"],[0.8888888888888888,\"#fdca26\"],[1.0,\"#f0f921\"]]}],\"heatmap\":[{\"type\":\"heatmap\",\"colorbar\":{\"outlinewidth\":0,\"ticks\":\"\"},\"colorscale\":[[0.0,\"#0d0887\"],[0.1111111111111111,\"#46039f\"],[0.2222222222222222,\"#7201a8\"],[0.3333333333333333,\"#9c179e\"],[0.4444444444444444,\"#bd3786\"],[0.5555555555555556,\"#d8576b\"],[0.6666666666666666,\"#ed7953\"],[0.7777777777777778,\"#fb9f3a\"],[0.8888888888888888,\"#fdca26\"],[1.0,\"#f0f921\"]]}],\"heatmapgl\":[{\"type\":\"heatmapgl\",\"colorbar\":{\"outlinewidth\":0,\"ticks\":\"\"},\"colorscale\":[[0.0,\"#0d0887\"],[0.1111111111111111,\"#46039f\"],[0.2222222222222222,\"#7201a8\"],[0.3333333333333333,\"#9c179e\"],[0.4444444444444444,\"#bd3786\"],[0.5555555555555556,\"#d8576b\"],[0.6666666666666666,\"#ed7953\"],[0.7777777777777778,\"#fb9f3a\"],[0.8888888888888888,\"#fdca26\"],[1.0,\"#f0f921\"]]}],\"contourcarpet\":[{\"type\":\"contourcarpet\",\"colorbar\":{\"outlinewidth\":0,\"ticks\":\"\"}}],\"contour\":[{\"type\":\"contour\",\"colorbar\":{\"outlinewidth\":0,\"ticks\":\"\"},\"colorscale\":[[0.0,\"#0d0887\"],[0.1111111111111111,\"#46039f\"],[0.2222222222222222,\"#7201a8\"],[0.3333333333333333,\"#9c179e\"],[0.4444444444444444,\"#bd3786\"],[0.5555555555555556,\"#d8576b\"],[0.6666666666666666,\"#ed7953\"],[0.7777777777777778,\"#fb9f3a\"],[0.8888888888888888,\"#fdca26\"],[1.0,\"#f0f921\"]]}],\"surface\":[{\"type\":\"surface\",\"colorbar\":{\"outlinewidth\":0,\"ticks\":\"\"},\"colorscale\":[[0.0,\"#0d0887\"],[0.1111111111111111,\"#46039f\"],[0.2222222222222222,\"#7201a8\"],[0.3333333333333333,\"#9c179e\"],[0.4444444444444444,\"#bd3786\"],[0.5555555555555556,\"#d8576b\"],[0.6666666666666666,\"#ed7953\"],[0.7777777777777778,\"#fb9f3a\"],[0.8888888888888888,\"#fdca26\"],[1.0,\"#f0f921\"]]}],\"mesh3d\":[{\"type\":\"mesh3d\",\"colorbar\":{\"outlinewidth\":0,\"ticks\":\"\"}}],\"scatter\":[{\"fillpattern\":{\"fillmode\":\"overlay\",\"size\":10,\"solidity\":0.2},\"type\":\"scatter\"}],\"parcoords\":[{\"type\":\"parcoords\",\"line\":{\"colorbar\":{\"outlinewidth\":0,\"ticks\":\"\"}}}],\"scatterpolargl\":[{\"type\":\"scatterpolargl\",\"marker\":{\"colorbar\":{\"outlinewidth\":0,\"ticks\":\"\"}}}],\"bar\":[{\"error_x\":{\"color\":\"#2a3f5f\"},\"error_y\":{\"color\":\"#2a3f5f\"},\"marker\":{\"line\":{\"color\":\"#E5ECF6\",\"width\":0.5},\"pattern\":{\"fillmode\":\"overlay\",\"size\":10,\"solidity\":0.2}},\"type\":\"bar\"}],\"scattergeo\":[{\"type\":\"scattergeo\",\"marker\":{\"colorbar\":{\"outlinewidth\":0,\"ticks\":\"\"}}}],\"scatterpolar\":[{\"type\":\"scatterpolar\",\"marker\":{\"colorbar\":{\"outlinewidth\":0,\"ticks\":\"\"}}}],\"histogram\":[{\"marker\":{\"pattern\":{\"fillmode\":\"overlay\",\"size\":10,\"solidity\":0.2}},\"type\":\"histogram\"}],\"scattergl\":[{\"type\":\"scattergl\",\"marker\":{\"colorbar\":{\"outlinewidth\":0,\"ticks\":\"\"}}}],\"scatter3d\":[{\"type\":\"scatter3d\",\"line\":{\"colorbar\":{\"outlinewidth\":0,\"ticks\":\"\"}},\"marker\":{\"colorbar\":{\"outlinewidth\":0,\"ticks\":\"\"}}}],\"scattermapbox\":[{\"type\":\"scattermapbox\",\"marker\":{\"colorbar\":{\"outlinewidth\":0,\"ticks\":\"\"}}}],\"scatterternary\":[{\"type\":\"scatterternary\",\"marker\":{\"colorbar\":{\"outlinewidth\":0,\"ticks\":\"\"}}}],\"scattercarpet\":[{\"type\":\"scattercarpet\",\"marker\":{\"colorbar\":{\"outlinewidth\":0,\"ticks\":\"\"}}}],\"carpet\":[{\"aaxis\":{\"endlinecolor\":\"#2a3f5f\",\"gridcolor\":\"white\",\"linecolor\":\"white\",\"minorgridcolor\":\"white\",\"startlinecolor\":\"#2a3f5f\"},\"baxis\":{\"endlinecolor\":\"#2a3f5f\",\"gridcolor\":\"white\",\"linecolor\":\"white\",\"minorgridcolor\":\"white\",\"startlinecolor\":\"#2a3f5f\"},\"type\":\"carpet\"}],\"table\":[{\"cells\":{\"fill\":{\"color\":\"#EBF0F8\"},\"line\":{\"color\":\"white\"}},\"header\":{\"fill\":{\"color\":\"#C8D4E3\"},\"line\":{\"color\":\"white\"}},\"type\":\"table\"}],\"barpolar\":[{\"marker\":{\"line\":{\"color\":\"#E5ECF6\",\"width\":0.5},\"pattern\":{\"fillmode\":\"overlay\",\"size\":10,\"solidity\":0.2}},\"type\":\"barpolar\"}],\"pie\":[{\"automargin\":true,\"type\":\"pie\"}]},\"layout\":{\"autotypenumbers\":\"strict\",\"colorway\":[\"#636efa\",\"#EF553B\",\"#00cc96\",\"#ab63fa\",\"#FFA15A\",\"#19d3f3\",\"#FF6692\",\"#B6E880\",\"#FF97FF\",\"#FECB52\"],\"font\":{\"color\":\"#2a3f5f\"},\"hovermode\":\"closest\",\"hoverlabel\":{\"align\":\"left\"},\"paper_bgcolor\":\"white\",\"plot_bgcolor\":\"#E5ECF6\",\"polar\":{\"bgcolor\":\"#E5ECF6\",\"angularaxis\":{\"gridcolor\":\"white\",\"linecolor\":\"white\",\"ticks\":\"\"},\"radialaxis\":{\"gridcolor\":\"white\",\"linecolor\":\"white\",\"ticks\":\"\"}},\"ternary\":{\"bgcolor\":\"#E5ECF6\",\"aaxis\":{\"gridcolor\":\"white\",\"linecolor\":\"white\",\"ticks\":\"\"},\"baxis\":{\"gridcolor\":\"white\",\"linecolor\":\"white\",\"ticks\":\"\"},\"caxis\":{\"gridcolor\":\"white\",\"linecolor\":\"white\",\"ticks\":\"\"}},\"coloraxis\":{\"colorbar\":{\"outlinewidth\":0,\"ticks\":\"\"}},\"colorscale\":{\"sequential\":[[0.0,\"#0d0887\"],[0.1111111111111111,\"#46039f\"],[0.2222222222222222,\"#7201a8\"],[0.3333333333333333,\"#9c179e\"],[0.4444444444444444,\"#bd3786\"],[0.5555555555555556,\"#d8576b\"],[0.6666666666666666,\"#ed7953\"],[0.7777777777777778,\"#fb9f3a\"],[0.8888888888888888,\"#fdca26\"],[1.0,\"#f0f921\"]],\"sequentialminus\":[[0.0,\"#0d0887\"],[0.1111111111111111,\"#46039f\"],[0.2222222222222222,\"#7201a8\"],[0.3333333333333333,\"#9c179e\"],[0.4444444444444444,\"#bd3786\"],[0.5555555555555556,\"#d8576b\"],[0.6666666666666666,\"#ed7953\"],[0.7777777777777778,\"#fb9f3a\"],[0.8888888888888888,\"#fdca26\"],[1.0,\"#f0f921\"]],\"diverging\":[[0,\"#8e0152\"],[0.1,\"#c51b7d\"],[0.2,\"#de77ae\"],[0.3,\"#f1b6da\"],[0.4,\"#fde0ef\"],[0.5,\"#f7f7f7\"],[0.6,\"#e6f5d0\"],[0.7,\"#b8e186\"],[0.8,\"#7fbc41\"],[0.9,\"#4d9221\"],[1,\"#276419\"]]},\"xaxis\":{\"gridcolor\":\"white\",\"linecolor\":\"white\",\"ticks\":\"\",\"title\":{\"standoff\":15},\"zerolinecolor\":\"white\",\"automargin\":true,\"zerolinewidth\":2},\"yaxis\":{\"gridcolor\":\"white\",\"linecolor\":\"white\",\"ticks\":\"\",\"title\":{\"standoff\":15},\"zerolinecolor\":\"white\",\"automargin\":true,\"zerolinewidth\":2},\"scene\":{\"xaxis\":{\"backgroundcolor\":\"#E5ECF6\",\"gridcolor\":\"white\",\"linecolor\":\"white\",\"showbackground\":true,\"ticks\":\"\",\"zerolinecolor\":\"white\",\"gridwidth\":2},\"yaxis\":{\"backgroundcolor\":\"#E5ECF6\",\"gridcolor\":\"white\",\"linecolor\":\"white\",\"showbackground\":true,\"ticks\":\"\",\"zerolinecolor\":\"white\",\"gridwidth\":2},\"zaxis\":{\"backgroundcolor\":\"#E5ECF6\",\"gridcolor\":\"white\",\"linecolor\":\"white\",\"showbackground\":true,\"ticks\":\"\",\"zerolinecolor\":\"white\",\"gridwidth\":2}},\"shapedefaults\":{\"line\":{\"color\":\"#2a3f5f\"}},\"annotationdefaults\":{\"arrowcolor\":\"#2a3f5f\",\"arrowhead\":0,\"arrowwidth\":1},\"geo\":{\"bgcolor\":\"white\",\"landcolor\":\"#E5ECF6\",\"subunitcolor\":\"white\",\"showland\":true,\"showlakes\":true,\"lakecolor\":\"white\"},\"title\":{\"x\":0.05},\"mapbox\":{\"style\":\"light\"}}},\"geo\":{\"domain\":{\"x\":[0.0,1.0],\"y\":[0.0,1.0]},\"projection\":{\"type\":\"natural earth\"},\"center\":{}},\"legend\":{\"title\":{\"text\":\"continent\"},\"tracegroupgap\":0,\"itemsizing\":\"constant\"},\"margin\":{\"t\":60},\"updatemenus\":[{\"buttons\":[{\"args\":[null,{\"frame\":{\"duration\":500,\"redraw\":true},\"mode\":\"immediate\",\"fromcurrent\":true,\"transition\":{\"duration\":500,\"easing\":\"linear\"}}],\"label\":\"&#9654;\",\"method\":\"animate\"},{\"args\":[[null],{\"frame\":{\"duration\":0,\"redraw\":true},\"mode\":\"immediate\",\"fromcurrent\":true,\"transition\":{\"duration\":0,\"easing\":\"linear\"}}],\"label\":\"&#9724;\",\"method\":\"animate\"}],\"direction\":\"left\",\"pad\":{\"r\":10,\"t\":70},\"showactive\":false,\"type\":\"buttons\",\"x\":0.1,\"xanchor\":\"right\",\"y\":0,\"yanchor\":\"top\"}],\"sliders\":[{\"active\":0,\"currentvalue\":{\"prefix\":\"year=\"},\"len\":0.9,\"pad\":{\"b\":10,\"t\":60},\"steps\":[{\"args\":[[\"1952\"],{\"frame\":{\"duration\":0,\"redraw\":true},\"mode\":\"immediate\",\"fromcurrent\":true,\"transition\":{\"duration\":0,\"easing\":\"linear\"}}],\"label\":\"1952\",\"method\":\"animate\"},{\"args\":[[\"1957\"],{\"frame\":{\"duration\":0,\"redraw\":true},\"mode\":\"immediate\",\"fromcurrent\":true,\"transition\":{\"duration\":0,\"easing\":\"linear\"}}],\"label\":\"1957\",\"method\":\"animate\"},{\"args\":[[\"1962\"],{\"frame\":{\"duration\":0,\"redraw\":true},\"mode\":\"immediate\",\"fromcurrent\":true,\"transition\":{\"duration\":0,\"easing\":\"linear\"}}],\"label\":\"1962\",\"method\":\"animate\"},{\"args\":[[\"1967\"],{\"frame\":{\"duration\":0,\"redraw\":true},\"mode\":\"immediate\",\"fromcurrent\":true,\"transition\":{\"duration\":0,\"easing\":\"linear\"}}],\"label\":\"1967\",\"method\":\"animate\"},{\"args\":[[\"1972\"],{\"frame\":{\"duration\":0,\"redraw\":true},\"mode\":\"immediate\",\"fromcurrent\":true,\"transition\":{\"duration\":0,\"easing\":\"linear\"}}],\"label\":\"1972\",\"method\":\"animate\"},{\"args\":[[\"1977\"],{\"frame\":{\"duration\":0,\"redraw\":true},\"mode\":\"immediate\",\"fromcurrent\":true,\"transition\":{\"duration\":0,\"easing\":\"linear\"}}],\"label\":\"1977\",\"method\":\"animate\"},{\"args\":[[\"1982\"],{\"frame\":{\"duration\":0,\"redraw\":true},\"mode\":\"immediate\",\"fromcurrent\":true,\"transition\":{\"duration\":0,\"easing\":\"linear\"}}],\"label\":\"1982\",\"method\":\"animate\"},{\"args\":[[\"1987\"],{\"frame\":{\"duration\":0,\"redraw\":true},\"mode\":\"immediate\",\"fromcurrent\":true,\"transition\":{\"duration\":0,\"easing\":\"linear\"}}],\"label\":\"1987\",\"method\":\"animate\"},{\"args\":[[\"1992\"],{\"frame\":{\"duration\":0,\"redraw\":true},\"mode\":\"immediate\",\"fromcurrent\":true,\"transition\":{\"duration\":0,\"easing\":\"linear\"}}],\"label\":\"1992\",\"method\":\"animate\"},{\"args\":[[\"1997\"],{\"frame\":{\"duration\":0,\"redraw\":true},\"mode\":\"immediate\",\"fromcurrent\":true,\"transition\":{\"duration\":0,\"easing\":\"linear\"}}],\"label\":\"1997\",\"method\":\"animate\"},{\"args\":[[\"2002\"],{\"frame\":{\"duration\":0,\"redraw\":true},\"mode\":\"immediate\",\"fromcurrent\":true,\"transition\":{\"duration\":0,\"easing\":\"linear\"}}],\"label\":\"2002\",\"method\":\"animate\"},{\"args\":[[\"2007\"],{\"frame\":{\"duration\":0,\"redraw\":true},\"mode\":\"immediate\",\"fromcurrent\":true,\"transition\":{\"duration\":0,\"easing\":\"linear\"}}],\"label\":\"2007\",\"method\":\"animate\"}],\"x\":0.1,\"xanchor\":\"left\",\"y\":0,\"yanchor\":\"top\"}]},                        {\"responsive\": true}                    ).then(function(){\n",
       "                            Plotly.addFrames('1c1014b8-b2d4-4c07-b316-2af5b5f96c76', [{\"data\":[{\"geo\":\"geo\",\"hovertemplate\":\"<b>%{hovertext}</b><br><br>continent=Asia<br>year=1952<br>pop=%{marker.size}<br>iso_alpha=%{location}<extra></extra>\",\"hovertext\":[\"Afghanistan\",\"Bahrain\",\"Bangladesh\",\"Cambodia\",\"China\",\"Hong Kong, China\",\"India\",\"Indonesia\",\"Iran\",\"Iraq\",\"Israel\",\"Japan\",\"Jordan\",\"Korea, Dem. Rep.\",\"Korea, Rep.\",\"Kuwait\",\"Lebanon\",\"Malaysia\",\"Mongolia\",\"Myanmar\",\"Nepal\",\"Oman\",\"Pakistan\",\"Philippines\",\"Saudi Arabia\",\"Singapore\",\"Sri Lanka\",\"Syria\",\"Taiwan\",\"Thailand\",\"Vietnam\",\"West Bank and Gaza\",\"Yemen, Rep.\"],\"legendgroup\":\"Asia\",\"locations\":[\"AFG\",\"BHR\",\"BGD\",\"KHM\",\"CHN\",\"HKG\",\"IND\",\"IDN\",\"IRN\",\"IRQ\",\"ISR\",\"JPN\",\"JOR\",\"KOR\",\"KOR\",\"KWT\",\"LBN\",\"MYS\",\"MNG\",\"MMR\",\"NPL\",\"OMN\",\"PAK\",\"PHL\",\"SAU\",\"SGP\",\"LKA\",\"SYR\",\"TWN\",\"THA\",\"VNM\",\"PSE\",\"YEM\"],\"marker\":{\"color\":\"#636efa\",\"size\":[8425333,120447,46886859,4693836,556263527,2125900,372000000,82052000,17272000,5441766,1620914,86459025,607914,8865488,20947571,160000,1439529,6748378,800663,20092996,9182536,507833,41346560,22438691,4005677,1127000,7982342,3661549,8550362,21289402,26246839,1030585,4963829],\"sizemode\":\"area\",\"sizeref\":3296707.74,\"symbol\":\"circle\"},\"mode\":\"markers\",\"name\":\"Asia\",\"showlegend\":true,\"type\":\"scattergeo\"},{\"geo\":\"geo\",\"hovertemplate\":\"<b>%{hovertext}</b><br><br>continent=Europe<br>year=1952<br>pop=%{marker.size}<br>iso_alpha=%{location}<extra></extra>\",\"hovertext\":[\"Albania\",\"Austria\",\"Belgium\",\"Bosnia and Herzegovina\",\"Bulgaria\",\"Croatia\",\"Czech Republic\",\"Denmark\",\"Finland\",\"France\",\"Germany\",\"Greece\",\"Hungary\",\"Iceland\",\"Ireland\",\"Italy\",\"Montenegro\",\"Netherlands\",\"Norway\",\"Poland\",\"Portugal\",\"Romania\",\"Serbia\",\"Slovak Republic\",\"Slovenia\",\"Spain\",\"Sweden\",\"Switzerland\",\"Turkey\",\"United Kingdom\"],\"legendgroup\":\"Europe\",\"locations\":[\"ALB\",\"AUT\",\"BEL\",\"BIH\",\"BGR\",\"HRV\",\"CZE\",\"DNK\",\"FIN\",\"FRA\",\"DEU\",\"GRC\",\"HUN\",\"ISL\",\"IRL\",\"ITA\",\"MNE\",\"NLD\",\"NOR\",\"POL\",\"PRT\",\"ROU\",\"SRB\",\"SVK\",\"SVN\",\"ESP\",\"SWE\",\"CHE\",\"TUR\",\"GBR\"],\"marker\":{\"color\":\"#EF553B\",\"size\":[1282697,6927772,8730405,2791000,7274900,3882229,9125183,4334000,4090500,42459667,69145952,7733250,9504000,147962,2952156,47666000,413834,10381988,3327728,25730551,8526050,16630000,6860147,3558137,1489518,28549870,7124673,4815000,22235677,50430000],\"sizemode\":\"area\",\"sizeref\":3296707.74,\"symbol\":\"circle\"},\"mode\":\"markers\",\"name\":\"Europe\",\"showlegend\":true,\"type\":\"scattergeo\"},{\"geo\":\"geo\",\"hovertemplate\":\"<b>%{hovertext}</b><br><br>continent=Africa<br>year=1952<br>pop=%{marker.size}<br>iso_alpha=%{location}<extra></extra>\",\"hovertext\":[\"Algeria\",\"Angola\",\"Benin\",\"Botswana\",\"Burkina Faso\",\"Burundi\",\"Cameroon\",\"Central African Republic\",\"Chad\",\"Comoros\",\"Congo, Dem. Rep.\",\"Congo, Rep.\",\"Cote d'Ivoire\",\"Djibouti\",\"Egypt\",\"Equatorial Guinea\",\"Eritrea\",\"Ethiopia\",\"Gabon\",\"Gambia\",\"Ghana\",\"Guinea\",\"Guinea-Bissau\",\"Kenya\",\"Lesotho\",\"Liberia\",\"Libya\",\"Madagascar\",\"Malawi\",\"Mali\",\"Mauritania\",\"Mauritius\",\"Morocco\",\"Mozambique\",\"Namibia\",\"Niger\",\"Nigeria\",\"Reunion\",\"Rwanda\",\"Sao Tome and Principe\",\"Senegal\",\"Sierra Leone\",\"Somalia\",\"South Africa\",\"Sudan\",\"Swaziland\",\"Tanzania\",\"Togo\",\"Tunisia\",\"Uganda\",\"Zambia\",\"Zimbabwe\"],\"legendgroup\":\"Africa\",\"locations\":[\"DZA\",\"AGO\",\"BEN\",\"BWA\",\"BFA\",\"BDI\",\"CMR\",\"CAF\",\"TCD\",\"COM\",\"COD\",\"COG\",\"CIV\",\"DJI\",\"EGY\",\"GNQ\",\"ERI\",\"ETH\",\"GAB\",\"GMB\",\"GHA\",\"GIN\",\"GNB\",\"KEN\",\"LSO\",\"LBR\",\"LBY\",\"MDG\",\"MWI\",\"MLI\",\"MRT\",\"MUS\",\"MAR\",\"MOZ\",\"NAM\",\"NER\",\"NGA\",\"REU\",\"RWA\",\"STP\",\"SEN\",\"SLE\",\"SOM\",\"ZAF\",\"SDN\",\"SWZ\",\"TZA\",\"TGO\",\"TUN\",\"UGA\",\"ZMB\",\"ZWE\"],\"marker\":{\"color\":\"#00cc96\",\"size\":[9279525,4232095,1738315,442308,4469979,2445618,5009067,1291695,2682462,153936,14100005,854885,2977019,63149,22223309,216964,1438760,20860941,420702,284320,5581001,2664249,580653,6464046,748747,863308,1019729,4762912,2917802,3838168,1022556,516556,9939217,6446316,485831,3379468,33119096,257700,2534927,60011,2755589,2143249,2526994,14264935,8504667,290243,8322925,1219113,3647735,5824797,2672000,3080907],\"sizemode\":\"area\",\"sizeref\":3296707.74,\"symbol\":\"circle\"},\"mode\":\"markers\",\"name\":\"Africa\",\"showlegend\":true,\"type\":\"scattergeo\"},{\"geo\":\"geo\",\"hovertemplate\":\"<b>%{hovertext}</b><br><br>continent=Americas<br>year=1952<br>pop=%{marker.size}<br>iso_alpha=%{location}<extra></extra>\",\"hovertext\":[\"Argentina\",\"Bolivia\",\"Brazil\",\"Canada\",\"Chile\",\"Colombia\",\"Costa Rica\",\"Cuba\",\"Dominican Republic\",\"Ecuador\",\"El Salvador\",\"Guatemala\",\"Haiti\",\"Honduras\",\"Jamaica\",\"Mexico\",\"Nicaragua\",\"Panama\",\"Paraguay\",\"Peru\",\"Puerto Rico\",\"Trinidad and Tobago\",\"United States\",\"Uruguay\",\"Venezuela\"],\"legendgroup\":\"Americas\",\"locations\":[\"ARG\",\"BOL\",\"BRA\",\"CAN\",\"CHL\",\"COL\",\"CRI\",\"CUB\",\"DOM\",\"ECU\",\"SLV\",\"GTM\",\"HTI\",\"HND\",\"JAM\",\"MEX\",\"NIC\",\"PAN\",\"PRY\",\"PER\",\"PRI\",\"TTO\",\"USA\",\"URY\",\"VEN\"],\"marker\":{\"color\":\"#ab63fa\",\"size\":[17876956,2883315,56602560,14785584,6377619,12350771,926317,6007797,2491346,3548753,2042865,3146381,3201488,1517453,1426095,30144317,1165790,940080,1555876,8025700,2227000,662850,157553000,2252965,5439568],\"sizemode\":\"area\",\"sizeref\":3296707.74,\"symbol\":\"circle\"},\"mode\":\"markers\",\"name\":\"Americas\",\"showlegend\":true,\"type\":\"scattergeo\"},{\"geo\":\"geo\",\"hovertemplate\":\"<b>%{hovertext}</b><br><br>continent=Oceania<br>year=1952<br>pop=%{marker.size}<br>iso_alpha=%{location}<extra></extra>\",\"hovertext\":[\"Australia\",\"New Zealand\"],\"legendgroup\":\"Oceania\",\"locations\":[\"AUS\",\"NZL\"],\"marker\":{\"color\":\"#FFA15A\",\"size\":[8691212,1994794],\"sizemode\":\"area\",\"sizeref\":3296707.74,\"symbol\":\"circle\"},\"mode\":\"markers\",\"name\":\"Oceania\",\"showlegend\":true,\"type\":\"scattergeo\"}],\"name\":\"1952\"},{\"data\":[{\"geo\":\"geo\",\"hovertemplate\":\"<b>%{hovertext}</b><br><br>continent=Asia<br>year=1957<br>pop=%{marker.size}<br>iso_alpha=%{location}<extra></extra>\",\"hovertext\":[\"Afghanistan\",\"Bahrain\",\"Bangladesh\",\"Cambodia\",\"China\",\"Hong Kong, China\",\"India\",\"Indonesia\",\"Iran\",\"Iraq\",\"Israel\",\"Japan\",\"Jordan\",\"Korea, Dem. Rep.\",\"Korea, Rep.\",\"Kuwait\",\"Lebanon\",\"Malaysia\",\"Mongolia\",\"Myanmar\",\"Nepal\",\"Oman\",\"Pakistan\",\"Philippines\",\"Saudi Arabia\",\"Singapore\",\"Sri Lanka\",\"Syria\",\"Taiwan\",\"Thailand\",\"Vietnam\",\"West Bank and Gaza\",\"Yemen, Rep.\"],\"legendgroup\":\"Asia\",\"locations\":[\"AFG\",\"BHR\",\"BGD\",\"KHM\",\"CHN\",\"HKG\",\"IND\",\"IDN\",\"IRN\",\"IRQ\",\"ISR\",\"JPN\",\"JOR\",\"KOR\",\"KOR\",\"KWT\",\"LBN\",\"MYS\",\"MNG\",\"MMR\",\"NPL\",\"OMN\",\"PAK\",\"PHL\",\"SAU\",\"SGP\",\"LKA\",\"SYR\",\"TWN\",\"THA\",\"VNM\",\"PSE\",\"YEM\"],\"marker\":{\"color\":\"#636efa\",\"size\":[9240934,138655,51365468,5322536,637408000,2736300,409000000,90124000,19792000,6248643,1944401,91563009,746559,9411381,22611552,212846,1647412,7739235,882134,21731844,9682338,561977,46679944,26072194,4419650,1445929,9128546,4149908,10164215,25041917,28998543,1070439,5498090],\"sizemode\":\"area\",\"sizeref\":3296707.74,\"symbol\":\"circle\"},\"mode\":\"markers\",\"name\":\"Asia\",\"showlegend\":true,\"type\":\"scattergeo\"},{\"geo\":\"geo\",\"hovertemplate\":\"<b>%{hovertext}</b><br><br>continent=Europe<br>year=1957<br>pop=%{marker.size}<br>iso_alpha=%{location}<extra></extra>\",\"hovertext\":[\"Albania\",\"Austria\",\"Belgium\",\"Bosnia and Herzegovina\",\"Bulgaria\",\"Croatia\",\"Czech Republic\",\"Denmark\",\"Finland\",\"France\",\"Germany\",\"Greece\",\"Hungary\",\"Iceland\",\"Ireland\",\"Italy\",\"Montenegro\",\"Netherlands\",\"Norway\",\"Poland\",\"Portugal\",\"Romania\",\"Serbia\",\"Slovak Republic\",\"Slovenia\",\"Spain\",\"Sweden\",\"Switzerland\",\"Turkey\",\"United Kingdom\"],\"legendgroup\":\"Europe\",\"locations\":[\"ALB\",\"AUT\",\"BEL\",\"BIH\",\"BGR\",\"HRV\",\"CZE\",\"DNK\",\"FIN\",\"FRA\",\"DEU\",\"GRC\",\"HUN\",\"ISL\",\"IRL\",\"ITA\",\"MNE\",\"NLD\",\"NOR\",\"POL\",\"PRT\",\"ROU\",\"SRB\",\"SVK\",\"SVN\",\"ESP\",\"SWE\",\"CHE\",\"TUR\",\"GBR\"],\"marker\":{\"color\":\"#EF553B\",\"size\":[1476505,6965860,8989111,3076000,7651254,3991242,9513758,4487831,4324000,44310863,71019069,8096218,9839000,165110,2878220,49182000,442829,11026383,3491938,28235346,8817650,17829327,7271135,3844277,1533070,29841614,7363802,5126000,25670939,51430000],\"sizemode\":\"area\",\"sizeref\":3296707.74,\"symbol\":\"circle\"},\"mode\":\"markers\",\"name\":\"Europe\",\"showlegend\":true,\"type\":\"scattergeo\"},{\"geo\":\"geo\",\"hovertemplate\":\"<b>%{hovertext}</b><br><br>continent=Africa<br>year=1957<br>pop=%{marker.size}<br>iso_alpha=%{location}<extra></extra>\",\"hovertext\":[\"Algeria\",\"Angola\",\"Benin\",\"Botswana\",\"Burkina Faso\",\"Burundi\",\"Cameroon\",\"Central African Republic\",\"Chad\",\"Comoros\",\"Congo, Dem. Rep.\",\"Congo, Rep.\",\"Cote d'Ivoire\",\"Djibouti\",\"Egypt\",\"Equatorial Guinea\",\"Eritrea\",\"Ethiopia\",\"Gabon\",\"Gambia\",\"Ghana\",\"Guinea\",\"Guinea-Bissau\",\"Kenya\",\"Lesotho\",\"Liberia\",\"Libya\",\"Madagascar\",\"Malawi\",\"Mali\",\"Mauritania\",\"Mauritius\",\"Morocco\",\"Mozambique\",\"Namibia\",\"Niger\",\"Nigeria\",\"Reunion\",\"Rwanda\",\"Sao Tome and Principe\",\"Senegal\",\"Sierra Leone\",\"Somalia\",\"South Africa\",\"Sudan\",\"Swaziland\",\"Tanzania\",\"Togo\",\"Tunisia\",\"Uganda\",\"Zambia\",\"Zimbabwe\"],\"legendgroup\":\"Africa\",\"locations\":[\"DZA\",\"AGO\",\"BEN\",\"BWA\",\"BFA\",\"BDI\",\"CMR\",\"CAF\",\"TCD\",\"COM\",\"COD\",\"COG\",\"CIV\",\"DJI\",\"EGY\",\"GNQ\",\"ERI\",\"ETH\",\"GAB\",\"GMB\",\"GHA\",\"GIN\",\"GNB\",\"KEN\",\"LSO\",\"LBR\",\"LBY\",\"MDG\",\"MWI\",\"MLI\",\"MRT\",\"MUS\",\"MAR\",\"MOZ\",\"NAM\",\"NER\",\"NGA\",\"REU\",\"RWA\",\"STP\",\"SEN\",\"SLE\",\"SOM\",\"ZAF\",\"SDN\",\"SWZ\",\"TZA\",\"TGO\",\"TUN\",\"UGA\",\"ZMB\",\"ZWE\"],\"marker\":{\"color\":\"#00cc96\",\"size\":[10270856,4561361,1925173,474639,4713416,2667518,5359923,1392284,2894855,170928,15577932,940458,3300000,71851,25009741,232922,1542611,22815614,434904,323150,6391288,2876726,601095,7454779,813338,975950,1201578,5181679,3221238,4241884,1076852,609816,11406350,7038035,548080,3692184,37173340,308700,2822082,61325,3054547,2295678,2780415,16151549,9753392,326741,9452826,1357445,3950849,6675501,3016000,3646340],\"sizemode\":\"area\",\"sizeref\":3296707.74,\"symbol\":\"circle\"},\"mode\":\"markers\",\"name\":\"Africa\",\"showlegend\":true,\"type\":\"scattergeo\"},{\"geo\":\"geo\",\"hovertemplate\":\"<b>%{hovertext}</b><br><br>continent=Americas<br>year=1957<br>pop=%{marker.size}<br>iso_alpha=%{location}<extra></extra>\",\"hovertext\":[\"Argentina\",\"Bolivia\",\"Brazil\",\"Canada\",\"Chile\",\"Colombia\",\"Costa Rica\",\"Cuba\",\"Dominican Republic\",\"Ecuador\",\"El Salvador\",\"Guatemala\",\"Haiti\",\"Honduras\",\"Jamaica\",\"Mexico\",\"Nicaragua\",\"Panama\",\"Paraguay\",\"Peru\",\"Puerto Rico\",\"Trinidad and Tobago\",\"United States\",\"Uruguay\",\"Venezuela\"],\"legendgroup\":\"Americas\",\"locations\":[\"ARG\",\"BOL\",\"BRA\",\"CAN\",\"CHL\",\"COL\",\"CRI\",\"CUB\",\"DOM\",\"ECU\",\"SLV\",\"GTM\",\"HTI\",\"HND\",\"JAM\",\"MEX\",\"NIC\",\"PAN\",\"PRY\",\"PER\",\"PRI\",\"TTO\",\"USA\",\"URY\",\"VEN\"],\"marker\":{\"color\":\"#ab63fa\",\"size\":[19610538,3211738,65551171,17010154,7048426,14485993,1112300,6640752,2923186,4058385,2355805,3640876,3507701,1770390,1535090,35015548,1358828,1063506,1770902,9146100,2260000,764900,171984000,2424959,6702668],\"sizemode\":\"area\",\"sizeref\":3296707.74,\"symbol\":\"circle\"},\"mode\":\"markers\",\"name\":\"Americas\",\"showlegend\":true,\"type\":\"scattergeo\"},{\"geo\":\"geo\",\"hovertemplate\":\"<b>%{hovertext}</b><br><br>continent=Oceania<br>year=1957<br>pop=%{marker.size}<br>iso_alpha=%{location}<extra></extra>\",\"hovertext\":[\"Australia\",\"New Zealand\"],\"legendgroup\":\"Oceania\",\"locations\":[\"AUS\",\"NZL\"],\"marker\":{\"color\":\"#FFA15A\",\"size\":[9712569,2229407],\"sizemode\":\"area\",\"sizeref\":3296707.74,\"symbol\":\"circle\"},\"mode\":\"markers\",\"name\":\"Oceania\",\"showlegend\":true,\"type\":\"scattergeo\"}],\"name\":\"1957\"},{\"data\":[{\"geo\":\"geo\",\"hovertemplate\":\"<b>%{hovertext}</b><br><br>continent=Asia<br>year=1962<br>pop=%{marker.size}<br>iso_alpha=%{location}<extra></extra>\",\"hovertext\":[\"Afghanistan\",\"Bahrain\",\"Bangladesh\",\"Cambodia\",\"China\",\"Hong Kong, China\",\"India\",\"Indonesia\",\"Iran\",\"Iraq\",\"Israel\",\"Japan\",\"Jordan\",\"Korea, Dem. Rep.\",\"Korea, Rep.\",\"Kuwait\",\"Lebanon\",\"Malaysia\",\"Mongolia\",\"Myanmar\",\"Nepal\",\"Oman\",\"Pakistan\",\"Philippines\",\"Saudi Arabia\",\"Singapore\",\"Sri Lanka\",\"Syria\",\"Taiwan\",\"Thailand\",\"Vietnam\",\"West Bank and Gaza\",\"Yemen, Rep.\"],\"legendgroup\":\"Asia\",\"locations\":[\"AFG\",\"BHR\",\"BGD\",\"KHM\",\"CHN\",\"HKG\",\"IND\",\"IDN\",\"IRN\",\"IRQ\",\"ISR\",\"JPN\",\"JOR\",\"KOR\",\"KOR\",\"KWT\",\"LBN\",\"MYS\",\"MNG\",\"MMR\",\"NPL\",\"OMN\",\"PAK\",\"PHL\",\"SAU\",\"SGP\",\"LKA\",\"SYR\",\"TWN\",\"THA\",\"VNM\",\"PSE\",\"YEM\"],\"marker\":{\"color\":\"#636efa\",\"size\":[10267083,171863,56839289,6083619,665770000,3305200,454000000,99028000,22874000,7240260,2310904,95831757,933559,10917494,26420307,358266,1886848,8906385,1010280,23634436,10332057,628164,53100671,30325264,4943029,1750200,10421936,4834621,11918938,29263397,33796140,1133134,6120081],\"sizemode\":\"area\",\"sizeref\":3296707.74,\"symbol\":\"circle\"},\"mode\":\"markers\",\"name\":\"Asia\",\"showlegend\":true,\"type\":\"scattergeo\"},{\"geo\":\"geo\",\"hovertemplate\":\"<b>%{hovertext}</b><br><br>continent=Europe<br>year=1962<br>pop=%{marker.size}<br>iso_alpha=%{location}<extra></extra>\",\"hovertext\":[\"Albania\",\"Austria\",\"Belgium\",\"Bosnia and Herzegovina\",\"Bulgaria\",\"Croatia\",\"Czech Republic\",\"Denmark\",\"Finland\",\"France\",\"Germany\",\"Greece\",\"Hungary\",\"Iceland\",\"Ireland\",\"Italy\",\"Montenegro\",\"Netherlands\",\"Norway\",\"Poland\",\"Portugal\",\"Romania\",\"Serbia\",\"Slovak Republic\",\"Slovenia\",\"Spain\",\"Sweden\",\"Switzerland\",\"Turkey\",\"United Kingdom\"],\"legendgroup\":\"Europe\",\"locations\":[\"ALB\",\"AUT\",\"BEL\",\"BIH\",\"BGR\",\"HRV\",\"CZE\",\"DNK\",\"FIN\",\"FRA\",\"DEU\",\"GRC\",\"HUN\",\"ISL\",\"IRL\",\"ITA\",\"MNE\",\"NLD\",\"NOR\",\"POL\",\"PRT\",\"ROU\",\"SRB\",\"SVK\",\"SVN\",\"ESP\",\"SWE\",\"CHE\",\"TUR\",\"GBR\"],\"marker\":{\"color\":\"#EF553B\",\"size\":[1728137,7129864,9218400,3349000,8012946,4076557,9620282,4646899,4491443,47124000,73739117,8448233,10063000,182053,2830000,50843200,474528,11805689,3638919,30329617,9019800,18680721,7616060,4237384,1582962,31158061,7561588,5666000,29788695,53292000],\"sizemode\":\"area\",\"sizeref\":3296707.74,\"symbol\":\"circle\"},\"mode\":\"markers\",\"name\":\"Europe\",\"showlegend\":true,\"type\":\"scattergeo\"},{\"geo\":\"geo\",\"hovertemplate\":\"<b>%{hovertext}</b><br><br>continent=Africa<br>year=1962<br>pop=%{marker.size}<br>iso_alpha=%{location}<extra></extra>\",\"hovertext\":[\"Algeria\",\"Angola\",\"Benin\",\"Botswana\",\"Burkina Faso\",\"Burundi\",\"Cameroon\",\"Central African Republic\",\"Chad\",\"Comoros\",\"Congo, Dem. Rep.\",\"Congo, Rep.\",\"Cote d'Ivoire\",\"Djibouti\",\"Egypt\",\"Equatorial Guinea\",\"Eritrea\",\"Ethiopia\",\"Gabon\",\"Gambia\",\"Ghana\",\"Guinea\",\"Guinea-Bissau\",\"Kenya\",\"Lesotho\",\"Liberia\",\"Libya\",\"Madagascar\",\"Malawi\",\"Mali\",\"Mauritania\",\"Mauritius\",\"Morocco\",\"Mozambique\",\"Namibia\",\"Niger\",\"Nigeria\",\"Reunion\",\"Rwanda\",\"Sao Tome and Principe\",\"Senegal\",\"Sierra Leone\",\"Somalia\",\"South Africa\",\"Sudan\",\"Swaziland\",\"Tanzania\",\"Togo\",\"Tunisia\",\"Uganda\",\"Zambia\",\"Zimbabwe\"],\"legendgroup\":\"Africa\",\"locations\":[\"DZA\",\"AGO\",\"BEN\",\"BWA\",\"BFA\",\"BDI\",\"CMR\",\"CAF\",\"TCD\",\"COM\",\"COD\",\"COG\",\"CIV\",\"DJI\",\"EGY\",\"GNQ\",\"ERI\",\"ETH\",\"GAB\",\"GMB\",\"GHA\",\"GIN\",\"GNB\",\"KEN\",\"LSO\",\"LBR\",\"LBY\",\"MDG\",\"MWI\",\"MLI\",\"MRT\",\"MUS\",\"MAR\",\"MOZ\",\"NAM\",\"NER\",\"NGA\",\"REU\",\"RWA\",\"STP\",\"SEN\",\"SLE\",\"SOM\",\"ZAF\",\"SDN\",\"SWZ\",\"TZA\",\"TGO\",\"TUN\",\"UGA\",\"ZMB\",\"ZWE\"],\"marker\":{\"color\":\"#00cc96\",\"size\":[11000948,4826015,2151895,512764,4919632,2961915,5793633,1523478,3150417,191689,17486434,1047924,3832408,89898,28173309,249220,1666618,25145372,455661,374020,7355248,3140003,627820,8678557,893143,1112796,1441863,5703324,3628608,4690372,1146757,701016,13056604,7788944,621392,4076008,41871351,358900,3051242,65345,3430243,2467895,3080153,18356657,11183227,370006,10863958,1528098,4286552,7688797,3421000,4277736],\"sizemode\":\"area\",\"sizeref\":3296707.74,\"symbol\":\"circle\"},\"mode\":\"markers\",\"name\":\"Africa\",\"showlegend\":true,\"type\":\"scattergeo\"},{\"geo\":\"geo\",\"hovertemplate\":\"<b>%{hovertext}</b><br><br>continent=Americas<br>year=1962<br>pop=%{marker.size}<br>iso_alpha=%{location}<extra></extra>\",\"hovertext\":[\"Argentina\",\"Bolivia\",\"Brazil\",\"Canada\",\"Chile\",\"Colombia\",\"Costa Rica\",\"Cuba\",\"Dominican Republic\",\"Ecuador\",\"El Salvador\",\"Guatemala\",\"Haiti\",\"Honduras\",\"Jamaica\",\"Mexico\",\"Nicaragua\",\"Panama\",\"Paraguay\",\"Peru\",\"Puerto Rico\",\"Trinidad and Tobago\",\"United States\",\"Uruguay\",\"Venezuela\"],\"legendgroup\":\"Americas\",\"locations\":[\"ARG\",\"BOL\",\"BRA\",\"CAN\",\"CHL\",\"COL\",\"CRI\",\"CUB\",\"DOM\",\"ECU\",\"SLV\",\"GTM\",\"HTI\",\"HND\",\"JAM\",\"MEX\",\"NIC\",\"PAN\",\"PRY\",\"PER\",\"PRI\",\"TTO\",\"USA\",\"URY\",\"VEN\"],\"marker\":{\"color\":\"#ab63fa\",\"size\":[21283783,3593918,76039390,18985849,7961258,17009885,1345187,7254373,3453434,4681707,2747687,4208858,3880130,2090162,1665128,41121485,1590597,1215725,2009813,10516500,2448046,887498,186538000,2598466,8143375],\"sizemode\":\"area\",\"sizeref\":3296707.74,\"symbol\":\"circle\"},\"mode\":\"markers\",\"name\":\"Americas\",\"showlegend\":true,\"type\":\"scattergeo\"},{\"geo\":\"geo\",\"hovertemplate\":\"<b>%{hovertext}</b><br><br>continent=Oceania<br>year=1962<br>pop=%{marker.size}<br>iso_alpha=%{location}<extra></extra>\",\"hovertext\":[\"Australia\",\"New Zealand\"],\"legendgroup\":\"Oceania\",\"locations\":[\"AUS\",\"NZL\"],\"marker\":{\"color\":\"#FFA15A\",\"size\":[10794968,2488550],\"sizemode\":\"area\",\"sizeref\":3296707.74,\"symbol\":\"circle\"},\"mode\":\"markers\",\"name\":\"Oceania\",\"showlegend\":true,\"type\":\"scattergeo\"}],\"name\":\"1962\"},{\"data\":[{\"geo\":\"geo\",\"hovertemplate\":\"<b>%{hovertext}</b><br><br>continent=Asia<br>year=1967<br>pop=%{marker.size}<br>iso_alpha=%{location}<extra></extra>\",\"hovertext\":[\"Afghanistan\",\"Bahrain\",\"Bangladesh\",\"Cambodia\",\"China\",\"Hong Kong, China\",\"India\",\"Indonesia\",\"Iran\",\"Iraq\",\"Israel\",\"Japan\",\"Jordan\",\"Korea, Dem. Rep.\",\"Korea, Rep.\",\"Kuwait\",\"Lebanon\",\"Malaysia\",\"Mongolia\",\"Myanmar\",\"Nepal\",\"Oman\",\"Pakistan\",\"Philippines\",\"Saudi Arabia\",\"Singapore\",\"Sri Lanka\",\"Syria\",\"Taiwan\",\"Thailand\",\"Vietnam\",\"West Bank and Gaza\",\"Yemen, Rep.\"],\"legendgroup\":\"Asia\",\"locations\":[\"AFG\",\"BHR\",\"BGD\",\"KHM\",\"CHN\",\"HKG\",\"IND\",\"IDN\",\"IRN\",\"IRQ\",\"ISR\",\"JPN\",\"JOR\",\"KOR\",\"KOR\",\"KWT\",\"LBN\",\"MYS\",\"MNG\",\"MMR\",\"NPL\",\"OMN\",\"PAK\",\"PHL\",\"SAU\",\"SGP\",\"LKA\",\"SYR\",\"TWN\",\"THA\",\"VNM\",\"PSE\",\"YEM\"],\"marker\":{\"color\":\"#636efa\",\"size\":[11537966,202182,62821884,6960067,754550000,3722800,506000000,109343000,26538000,8519282,2693585,100825279,1255058,12617009,30131000,575003,2186894,10154878,1149500,25870271,11261690,714775,60641899,35356600,5618198,1977600,11737396,5680812,13648692,34024249,39463910,1142636,6740785],\"sizemode\":\"area\",\"sizeref\":3296707.74,\"symbol\":\"circle\"},\"mode\":\"markers\",\"name\":\"Asia\",\"showlegend\":true,\"type\":\"scattergeo\"},{\"geo\":\"geo\",\"hovertemplate\":\"<b>%{hovertext}</b><br><br>continent=Europe<br>year=1967<br>pop=%{marker.size}<br>iso_alpha=%{location}<extra></extra>\",\"hovertext\":[\"Albania\",\"Austria\",\"Belgium\",\"Bosnia and Herzegovina\",\"Bulgaria\",\"Croatia\",\"Czech Republic\",\"Denmark\",\"Finland\",\"France\",\"Germany\",\"Greece\",\"Hungary\",\"Iceland\",\"Ireland\",\"Italy\",\"Montenegro\",\"Netherlands\",\"Norway\",\"Poland\",\"Portugal\",\"Romania\",\"Serbia\",\"Slovak Republic\",\"Slovenia\",\"Spain\",\"Sweden\",\"Switzerland\",\"Turkey\",\"United Kingdom\"],\"legendgroup\":\"Europe\",\"locations\":[\"ALB\",\"AUT\",\"BEL\",\"BIH\",\"BGR\",\"HRV\",\"CZE\",\"DNK\",\"FIN\",\"FRA\",\"DEU\",\"GRC\",\"HUN\",\"ISL\",\"IRL\",\"ITA\",\"MNE\",\"NLD\",\"NOR\",\"POL\",\"PRT\",\"ROU\",\"SRB\",\"SVK\",\"SVN\",\"ESP\",\"SWE\",\"CHE\",\"TUR\",\"GBR\"],\"marker\":{\"color\":\"#EF553B\",\"size\":[1984060,7376998,9556500,3585000,8310226,4174366,9835109,4838800,4605744,49569000,76368453,8716441,10223422,198676,2900100,52667100,501035,12596822,3786019,31785378,9103000,19284814,7971222,4442238,1646912,32850275,7867931,6063000,33411317,54959000],\"sizemode\":\"area\",\"sizeref\":3296707.74,\"symbol\":\"circle\"},\"mode\":\"markers\",\"name\":\"Europe\",\"showlegend\":true,\"type\":\"scattergeo\"},{\"geo\":\"geo\",\"hovertemplate\":\"<b>%{hovertext}</b><br><br>continent=Africa<br>year=1967<br>pop=%{marker.size}<br>iso_alpha=%{location}<extra></extra>\",\"hovertext\":[\"Algeria\",\"Angola\",\"Benin\",\"Botswana\",\"Burkina Faso\",\"Burundi\",\"Cameroon\",\"Central African Republic\",\"Chad\",\"Comoros\",\"Congo, Dem. Rep.\",\"Congo, Rep.\",\"Cote d'Ivoire\",\"Djibouti\",\"Egypt\",\"Equatorial Guinea\",\"Eritrea\",\"Ethiopia\",\"Gabon\",\"Gambia\",\"Ghana\",\"Guinea\",\"Guinea-Bissau\",\"Kenya\",\"Lesotho\",\"Liberia\",\"Libya\",\"Madagascar\",\"Malawi\",\"Mali\",\"Mauritania\",\"Mauritius\",\"Morocco\",\"Mozambique\",\"Namibia\",\"Niger\",\"Nigeria\",\"Reunion\",\"Rwanda\",\"Sao Tome and Principe\",\"Senegal\",\"Sierra Leone\",\"Somalia\",\"South Africa\",\"Sudan\",\"Swaziland\",\"Tanzania\",\"Togo\",\"Tunisia\",\"Uganda\",\"Zambia\",\"Zimbabwe\"],\"legendgroup\":\"Africa\",\"locations\":[\"DZA\",\"AGO\",\"BEN\",\"BWA\",\"BFA\",\"BDI\",\"CMR\",\"CAF\",\"TCD\",\"COM\",\"COD\",\"COG\",\"CIV\",\"DJI\",\"EGY\",\"GNQ\",\"ERI\",\"ETH\",\"GAB\",\"GMB\",\"GHA\",\"GIN\",\"GNB\",\"KEN\",\"LSO\",\"LBR\",\"LBY\",\"MDG\",\"MWI\",\"MLI\",\"MRT\",\"MUS\",\"MAR\",\"MOZ\",\"NAM\",\"NER\",\"NGA\",\"REU\",\"RWA\",\"STP\",\"SEN\",\"SLE\",\"SOM\",\"ZAF\",\"SDN\",\"SWZ\",\"TZA\",\"TGO\",\"TUN\",\"UGA\",\"ZMB\",\"ZWE\"],\"marker\":{\"color\":\"#00cc96\",\"size\":[12760499,5247469,2427334,553541,5127935,3330989,6335506,1733638,3495967,217378,19941073,1179760,4744870,127617,31681188,259864,1820319,27860297,489004,439593,8490213,3451418,601287,10191512,996380,1279406,1759224,6334556,4147252,5212416,1230542,789309,14770296,8680909,706640,4534062,47287752,414024,3451079,70787,3965841,2662190,3428839,20997321,12716129,420690,12607312,1735550,4786986,8900294,3900000,4995432],\"sizemode\":\"area\",\"sizeref\":3296707.74,\"symbol\":\"circle\"},\"mode\":\"markers\",\"name\":\"Africa\",\"showlegend\":true,\"type\":\"scattergeo\"},{\"geo\":\"geo\",\"hovertemplate\":\"<b>%{hovertext}</b><br><br>continent=Americas<br>year=1967<br>pop=%{marker.size}<br>iso_alpha=%{location}<extra></extra>\",\"hovertext\":[\"Argentina\",\"Bolivia\",\"Brazil\",\"Canada\",\"Chile\",\"Colombia\",\"Costa Rica\",\"Cuba\",\"Dominican Republic\",\"Ecuador\",\"El Salvador\",\"Guatemala\",\"Haiti\",\"Honduras\",\"Jamaica\",\"Mexico\",\"Nicaragua\",\"Panama\",\"Paraguay\",\"Peru\",\"Puerto Rico\",\"Trinidad and Tobago\",\"United States\",\"Uruguay\",\"Venezuela\"],\"legendgroup\":\"Americas\",\"locations\":[\"ARG\",\"BOL\",\"BRA\",\"CAN\",\"CHL\",\"COL\",\"CRI\",\"CUB\",\"DOM\",\"ECU\",\"SLV\",\"GTM\",\"HTI\",\"HND\",\"JAM\",\"MEX\",\"NIC\",\"PAN\",\"PRY\",\"PER\",\"PRI\",\"TTO\",\"USA\",\"URY\",\"VEN\"],\"marker\":{\"color\":\"#ab63fa\",\"size\":[22934225,4040665,88049823,20819767,8858908,19764027,1588717,8139332,4049146,5432424,3232927,4690773,4318137,2500689,1861096,47995559,1865490,1405486,2287985,12132200,2648961,960155,198712000,2748579,9709552],\"sizemode\":\"area\",\"sizeref\":3296707.74,\"symbol\":\"circle\"},\"mode\":\"markers\",\"name\":\"Americas\",\"showlegend\":true,\"type\":\"scattergeo\"},{\"geo\":\"geo\",\"hovertemplate\":\"<b>%{hovertext}</b><br><br>continent=Oceania<br>year=1967<br>pop=%{marker.size}<br>iso_alpha=%{location}<extra></extra>\",\"hovertext\":[\"Australia\",\"New Zealand\"],\"legendgroup\":\"Oceania\",\"locations\":[\"AUS\",\"NZL\"],\"marker\":{\"color\":\"#FFA15A\",\"size\":[11872264,2728150],\"sizemode\":\"area\",\"sizeref\":3296707.74,\"symbol\":\"circle\"},\"mode\":\"markers\",\"name\":\"Oceania\",\"showlegend\":true,\"type\":\"scattergeo\"}],\"name\":\"1967\"},{\"data\":[{\"geo\":\"geo\",\"hovertemplate\":\"<b>%{hovertext}</b><br><br>continent=Asia<br>year=1972<br>pop=%{marker.size}<br>iso_alpha=%{location}<extra></extra>\",\"hovertext\":[\"Afghanistan\",\"Bahrain\",\"Bangladesh\",\"Cambodia\",\"China\",\"Hong Kong, China\",\"India\",\"Indonesia\",\"Iran\",\"Iraq\",\"Israel\",\"Japan\",\"Jordan\",\"Korea, Dem. Rep.\",\"Korea, Rep.\",\"Kuwait\",\"Lebanon\",\"Malaysia\",\"Mongolia\",\"Myanmar\",\"Nepal\",\"Oman\",\"Pakistan\",\"Philippines\",\"Saudi Arabia\",\"Singapore\",\"Sri Lanka\",\"Syria\",\"Taiwan\",\"Thailand\",\"Vietnam\",\"West Bank and Gaza\",\"Yemen, Rep.\"],\"legendgroup\":\"Asia\",\"locations\":[\"AFG\",\"BHR\",\"BGD\",\"KHM\",\"CHN\",\"HKG\",\"IND\",\"IDN\",\"IRN\",\"IRQ\",\"ISR\",\"JPN\",\"JOR\",\"KOR\",\"KOR\",\"KWT\",\"LBN\",\"MYS\",\"MNG\",\"MMR\",\"NPL\",\"OMN\",\"PAK\",\"PHL\",\"SAU\",\"SGP\",\"LKA\",\"SYR\",\"TWN\",\"THA\",\"VNM\",\"PSE\",\"YEM\"],\"marker\":{\"color\":\"#636efa\",\"size\":[13079460,230800,70759295,7450606,862030000,4115700,567000000,121282000,30614000,10061506,3095893,107188273,1613551,14781241,33505000,841934,2680018,11441462,1320500,28466390,12412593,829050,69325921,40850141,6472756,2152400,13016733,6701172,15226039,39276153,44655014,1089572,7407075],\"sizemode\":\"area\",\"sizeref\":3296707.74,\"symbol\":\"circle\"},\"mode\":\"markers\",\"name\":\"Asia\",\"showlegend\":true,\"type\":\"scattergeo\"},{\"geo\":\"geo\",\"hovertemplate\":\"<b>%{hovertext}</b><br><br>continent=Europe<br>year=1972<br>pop=%{marker.size}<br>iso_alpha=%{location}<extra></extra>\",\"hovertext\":[\"Albania\",\"Austria\",\"Belgium\",\"Bosnia and Herzegovina\",\"Bulgaria\",\"Croatia\",\"Czech Republic\",\"Denmark\",\"Finland\",\"France\",\"Germany\",\"Greece\",\"Hungary\",\"Iceland\",\"Ireland\",\"Italy\",\"Montenegro\",\"Netherlands\",\"Norway\",\"Poland\",\"Portugal\",\"Romania\",\"Serbia\",\"Slovak Republic\",\"Slovenia\",\"Spain\",\"Sweden\",\"Switzerland\",\"Turkey\",\"United Kingdom\"],\"legendgroup\":\"Europe\",\"locations\":[\"ALB\",\"AUT\",\"BEL\",\"BIH\",\"BGR\",\"HRV\",\"CZE\",\"DNK\",\"FIN\",\"FRA\",\"DEU\",\"GRC\",\"HUN\",\"ISL\",\"IRL\",\"ITA\",\"MNE\",\"NLD\",\"NOR\",\"POL\",\"PRT\",\"ROU\",\"SRB\",\"SVK\",\"SVN\",\"ESP\",\"SWE\",\"CHE\",\"TUR\",\"GBR\"],\"marker\":{\"color\":\"#EF553B\",\"size\":[2263554,7544201,9709100,3819000,8576200,4225310,9862158,4991596,4639657,51732000,78717088,8888628,10394091,209275,3024400,54365564,527678,13329874,3933004,33039545,8970450,20662648,8313288,4593433,1694510,34513161,8122293,6401400,37492953,56079000],\"sizemode\":\"area\",\"sizeref\":3296707.74,\"symbol\":\"circle\"},\"mode\":\"markers\",\"name\":\"Europe\",\"showlegend\":true,\"type\":\"scattergeo\"},{\"geo\":\"geo\",\"hovertemplate\":\"<b>%{hovertext}</b><br><br>continent=Africa<br>year=1972<br>pop=%{marker.size}<br>iso_alpha=%{location}<extra></extra>\",\"hovertext\":[\"Algeria\",\"Angola\",\"Benin\",\"Botswana\",\"Burkina Faso\",\"Burundi\",\"Cameroon\",\"Central African Republic\",\"Chad\",\"Comoros\",\"Congo, Dem. Rep.\",\"Congo, Rep.\",\"Cote d'Ivoire\",\"Djibouti\",\"Egypt\",\"Equatorial Guinea\",\"Eritrea\",\"Ethiopia\",\"Gabon\",\"Gambia\",\"Ghana\",\"Guinea\",\"Guinea-Bissau\",\"Kenya\",\"Lesotho\",\"Liberia\",\"Libya\",\"Madagascar\",\"Malawi\",\"Mali\",\"Mauritania\",\"Mauritius\",\"Morocco\",\"Mozambique\",\"Namibia\",\"Niger\",\"Nigeria\",\"Reunion\",\"Rwanda\",\"Sao Tome and Principe\",\"Senegal\",\"Sierra Leone\",\"Somalia\",\"South Africa\",\"Sudan\",\"Swaziland\",\"Tanzania\",\"Togo\",\"Tunisia\",\"Uganda\",\"Zambia\",\"Zimbabwe\"],\"legendgroup\":\"Africa\",\"locations\":[\"DZA\",\"AGO\",\"BEN\",\"BWA\",\"BFA\",\"BDI\",\"CMR\",\"CAF\",\"TCD\",\"COM\",\"COD\",\"COG\",\"CIV\",\"DJI\",\"EGY\",\"GNQ\",\"ERI\",\"ETH\",\"GAB\",\"GMB\",\"GHA\",\"GIN\",\"GNB\",\"KEN\",\"LSO\",\"LBR\",\"LBY\",\"MDG\",\"MWI\",\"MLI\",\"MRT\",\"MUS\",\"MAR\",\"MOZ\",\"NAM\",\"NER\",\"NGA\",\"REU\",\"RWA\",\"STP\",\"SEN\",\"SLE\",\"SOM\",\"ZAF\",\"SDN\",\"SWZ\",\"TZA\",\"TGO\",\"TUN\",\"UGA\",\"ZMB\",\"ZWE\"],\"marker\":{\"color\":\"#00cc96\",\"size\":[14760787,5894858,2761407,619351,5433886,3529983,7021028,1927260,3899068,250027,23007669,1340458,6071696,178848,34807417,277603,2260187,30770372,537977,517101,9354120,3811387,625361,12044785,1116779,1482628,2183877,7082430,4730997,5828158,1332786,851334,16660670,9809596,821782,5060262,53740085,461633,3992121,76595,4588696,2879013,3840161,23935810,14597019,480105,14706593,2056351,5303507,10190285,4506497,5861135],\"sizemode\":\"area\",\"sizeref\":3296707.74,\"symbol\":\"circle\"},\"mode\":\"markers\",\"name\":\"Africa\",\"showlegend\":true,\"type\":\"scattergeo\"},{\"geo\":\"geo\",\"hovertemplate\":\"<b>%{hovertext}</b><br><br>continent=Americas<br>year=1972<br>pop=%{marker.size}<br>iso_alpha=%{location}<extra></extra>\",\"hovertext\":[\"Argentina\",\"Bolivia\",\"Brazil\",\"Canada\",\"Chile\",\"Colombia\",\"Costa Rica\",\"Cuba\",\"Dominican Republic\",\"Ecuador\",\"El Salvador\",\"Guatemala\",\"Haiti\",\"Honduras\",\"Jamaica\",\"Mexico\",\"Nicaragua\",\"Panama\",\"Paraguay\",\"Peru\",\"Puerto Rico\",\"Trinidad and Tobago\",\"United States\",\"Uruguay\",\"Venezuela\"],\"legendgroup\":\"Americas\",\"locations\":[\"ARG\",\"BOL\",\"BRA\",\"CAN\",\"CHL\",\"COL\",\"CRI\",\"CUB\",\"DOM\",\"ECU\",\"SLV\",\"GTM\",\"HTI\",\"HND\",\"JAM\",\"MEX\",\"NIC\",\"PAN\",\"PRY\",\"PER\",\"PRI\",\"TTO\",\"USA\",\"URY\",\"VEN\"],\"marker\":{\"color\":\"#ab63fa\",\"size\":[24779799,4565872,100840058,22284500,9717524,22542890,1834796,8831348,4671329,6298651,3790903,5149581,4698301,2965146,1997616,55984294,2182908,1616384,2614104,13954700,2847132,975199,209896000,2829526,11515649],\"sizemode\":\"area\",\"sizeref\":3296707.74,\"symbol\":\"circle\"},\"mode\":\"markers\",\"name\":\"Americas\",\"showlegend\":true,\"type\":\"scattergeo\"},{\"geo\":\"geo\",\"hovertemplate\":\"<b>%{hovertext}</b><br><br>continent=Oceania<br>year=1972<br>pop=%{marker.size}<br>iso_alpha=%{location}<extra></extra>\",\"hovertext\":[\"Australia\",\"New Zealand\"],\"legendgroup\":\"Oceania\",\"locations\":[\"AUS\",\"NZL\"],\"marker\":{\"color\":\"#FFA15A\",\"size\":[13177000,2929100],\"sizemode\":\"area\",\"sizeref\":3296707.74,\"symbol\":\"circle\"},\"mode\":\"markers\",\"name\":\"Oceania\",\"showlegend\":true,\"type\":\"scattergeo\"}],\"name\":\"1972\"},{\"data\":[{\"geo\":\"geo\",\"hovertemplate\":\"<b>%{hovertext}</b><br><br>continent=Asia<br>year=1977<br>pop=%{marker.size}<br>iso_alpha=%{location}<extra></extra>\",\"hovertext\":[\"Afghanistan\",\"Bahrain\",\"Bangladesh\",\"Cambodia\",\"China\",\"Hong Kong, China\",\"India\",\"Indonesia\",\"Iran\",\"Iraq\",\"Israel\",\"Japan\",\"Jordan\",\"Korea, Dem. Rep.\",\"Korea, Rep.\",\"Kuwait\",\"Lebanon\",\"Malaysia\",\"Mongolia\",\"Myanmar\",\"Nepal\",\"Oman\",\"Pakistan\",\"Philippines\",\"Saudi Arabia\",\"Singapore\",\"Sri Lanka\",\"Syria\",\"Taiwan\",\"Thailand\",\"Vietnam\",\"West Bank and Gaza\",\"Yemen, Rep.\"],\"legendgroup\":\"Asia\",\"locations\":[\"AFG\",\"BHR\",\"BGD\",\"KHM\",\"CHN\",\"HKG\",\"IND\",\"IDN\",\"IRN\",\"IRQ\",\"ISR\",\"JPN\",\"JOR\",\"KOR\",\"KOR\",\"KWT\",\"LBN\",\"MYS\",\"MNG\",\"MMR\",\"NPL\",\"OMN\",\"PAK\",\"PHL\",\"SAU\",\"SGP\",\"LKA\",\"SYR\",\"TWN\",\"THA\",\"VNM\",\"PSE\",\"YEM\"],\"marker\":{\"color\":\"#636efa\",\"size\":[14880372,297410,80428306,6978607,943455000,4583700,634000000,136725000,35480679,11882916,3495918,113872473,1937652,16325320,36436000,1140357,3115787,12845381,1528000,31528087,13933198,1004533,78152686,46850962,8128505,2325300,14116836,7932503,16785196,44148285,50533506,1261091,8403990],\"sizemode\":\"area\",\"sizeref\":3296707.74,\"symbol\":\"circle\"},\"mode\":\"markers\",\"name\":\"Asia\",\"showlegend\":true,\"type\":\"scattergeo\"},{\"geo\":\"geo\",\"hovertemplate\":\"<b>%{hovertext}</b><br><br>continent=Europe<br>year=1977<br>pop=%{marker.size}<br>iso_alpha=%{location}<extra></extra>\",\"hovertext\":[\"Albania\",\"Austria\",\"Belgium\",\"Bosnia and Herzegovina\",\"Bulgaria\",\"Croatia\",\"Czech Republic\",\"Denmark\",\"Finland\",\"France\",\"Germany\",\"Greece\",\"Hungary\",\"Iceland\",\"Ireland\",\"Italy\",\"Montenegro\",\"Netherlands\",\"Norway\",\"Poland\",\"Portugal\",\"Romania\",\"Serbia\",\"Slovak Republic\",\"Slovenia\",\"Spain\",\"Sweden\",\"Switzerland\",\"Turkey\",\"United Kingdom\"],\"legendgroup\":\"Europe\",\"locations\":[\"ALB\",\"AUT\",\"BEL\",\"BIH\",\"BGR\",\"HRV\",\"CZE\",\"DNK\",\"FIN\",\"FRA\",\"DEU\",\"GRC\",\"HUN\",\"ISL\",\"IRL\",\"ITA\",\"MNE\",\"NLD\",\"NOR\",\"POL\",\"PRT\",\"ROU\",\"SRB\",\"SVK\",\"SVN\",\"ESP\",\"SWE\",\"CHE\",\"TUR\",\"GBR\"],\"marker\":{\"color\":\"#EF553B\",\"size\":[2509048,7568430,9821800,4086000,8797022,4318673,10161915,5088419,4738902,53165019,78160773,9308479,10637171,221823,3271900,56059245,560073,13852989,4043205,34621254,9662600,21658597,8686367,4827803,1746919,36439000,8251648,6316424,42404033,56179000],\"sizemode\":\"area\",\"sizeref\":3296707.74,\"symbol\":\"circle\"},\"mode\":\"markers\",\"name\":\"Europe\",\"showlegend\":true,\"type\":\"scattergeo\"},{\"geo\":\"geo\",\"hovertemplate\":\"<b>%{hovertext}</b><br><br>continent=Africa<br>year=1977<br>pop=%{marker.size}<br>iso_alpha=%{location}<extra></extra>\",\"hovertext\":[\"Algeria\",\"Angola\",\"Benin\",\"Botswana\",\"Burkina Faso\",\"Burundi\",\"Cameroon\",\"Central African Republic\",\"Chad\",\"Comoros\",\"Congo, Dem. Rep.\",\"Congo, Rep.\",\"Cote d'Ivoire\",\"Djibouti\",\"Egypt\",\"Equatorial Guinea\",\"Eritrea\",\"Ethiopia\",\"Gabon\",\"Gambia\",\"Ghana\",\"Guinea\",\"Guinea-Bissau\",\"Kenya\",\"Lesotho\",\"Liberia\",\"Libya\",\"Madagascar\",\"Malawi\",\"Mali\",\"Mauritania\",\"Mauritius\",\"Morocco\",\"Mozambique\",\"Namibia\",\"Niger\",\"Nigeria\",\"Reunion\",\"Rwanda\",\"Sao Tome and Principe\",\"Senegal\",\"Sierra Leone\",\"Somalia\",\"South Africa\",\"Sudan\",\"Swaziland\",\"Tanzania\",\"Togo\",\"Tunisia\",\"Uganda\",\"Zambia\",\"Zimbabwe\"],\"legendgroup\":\"Africa\",\"locations\":[\"DZA\",\"AGO\",\"BEN\",\"BWA\",\"BFA\",\"BDI\",\"CMR\",\"CAF\",\"TCD\",\"COM\",\"COD\",\"COG\",\"CIV\",\"DJI\",\"EGY\",\"GNQ\",\"ERI\",\"ETH\",\"GAB\",\"GMB\",\"GHA\",\"GIN\",\"GNB\",\"KEN\",\"LSO\",\"LBR\",\"LBY\",\"MDG\",\"MWI\",\"MLI\",\"MRT\",\"MUS\",\"MAR\",\"MOZ\",\"NAM\",\"NER\",\"NGA\",\"REU\",\"RWA\",\"STP\",\"SEN\",\"SLE\",\"SOM\",\"ZAF\",\"SDN\",\"SWZ\",\"TZA\",\"TGO\",\"TUN\",\"UGA\",\"ZMB\",\"ZWE\"],\"marker\":{\"color\":\"#00cc96\",\"size\":[17152804,6162675,3168267,781472,5889574,3834415,7959865,2167533,4388260,304739,26480870,1536769,7459574,228694,38783863,192675,2512642,34617799,706367,608274,10538093,4227026,745228,14500404,1251524,1703617,2721783,8007166,5637246,6491649,1456688,913025,18396941,11127868,977026,5682086,62209173,492095,4657072,86796,5260855,3140897,4353666,27129932,17104986,551425,17129565,2308582,6005061,11457758,5216550,6642107],\"sizemode\":\"area\",\"sizeref\":3296707.74,\"symbol\":\"circle\"},\"mode\":\"markers\",\"name\":\"Africa\",\"showlegend\":true,\"type\":\"scattergeo\"},{\"geo\":\"geo\",\"hovertemplate\":\"<b>%{hovertext}</b><br><br>continent=Americas<br>year=1977<br>pop=%{marker.size}<br>iso_alpha=%{location}<extra></extra>\",\"hovertext\":[\"Argentina\",\"Bolivia\",\"Brazil\",\"Canada\",\"Chile\",\"Colombia\",\"Costa Rica\",\"Cuba\",\"Dominican Republic\",\"Ecuador\",\"El Salvador\",\"Guatemala\",\"Haiti\",\"Honduras\",\"Jamaica\",\"Mexico\",\"Nicaragua\",\"Panama\",\"Paraguay\",\"Peru\",\"Puerto Rico\",\"Trinidad and Tobago\",\"United States\",\"Uruguay\",\"Venezuela\"],\"legendgroup\":\"Americas\",\"locations\":[\"ARG\",\"BOL\",\"BRA\",\"CAN\",\"CHL\",\"COL\",\"CRI\",\"CUB\",\"DOM\",\"ECU\",\"SLV\",\"GTM\",\"HTI\",\"HND\",\"JAM\",\"MEX\",\"NIC\",\"PAN\",\"PRY\",\"PER\",\"PRI\",\"TTO\",\"USA\",\"URY\",\"VEN\"],\"marker\":{\"color\":\"#ab63fa\",\"size\":[26983828,5079716,114313951,23796400,10599793,25094412,2108457,9537988,5302800,7278866,4282586,5703430,4908554,3055235,2156814,63759976,2554598,1839782,2984494,15990099,3080828,1039009,220239000,2873520,13503563],\"sizemode\":\"area\",\"sizeref\":3296707.74,\"symbol\":\"circle\"},\"mode\":\"markers\",\"name\":\"Americas\",\"showlegend\":true,\"type\":\"scattergeo\"},{\"geo\":\"geo\",\"hovertemplate\":\"<b>%{hovertext}</b><br><br>continent=Oceania<br>year=1977<br>pop=%{marker.size}<br>iso_alpha=%{location}<extra></extra>\",\"hovertext\":[\"Australia\",\"New Zealand\"],\"legendgroup\":\"Oceania\",\"locations\":[\"AUS\",\"NZL\"],\"marker\":{\"color\":\"#FFA15A\",\"size\":[14074100,3164900],\"sizemode\":\"area\",\"sizeref\":3296707.74,\"symbol\":\"circle\"},\"mode\":\"markers\",\"name\":\"Oceania\",\"showlegend\":true,\"type\":\"scattergeo\"}],\"name\":\"1977\"},{\"data\":[{\"geo\":\"geo\",\"hovertemplate\":\"<b>%{hovertext}</b><br><br>continent=Asia<br>year=1982<br>pop=%{marker.size}<br>iso_alpha=%{location}<extra></extra>\",\"hovertext\":[\"Afghanistan\",\"Bahrain\",\"Bangladesh\",\"Cambodia\",\"China\",\"Hong Kong, China\",\"India\",\"Indonesia\",\"Iran\",\"Iraq\",\"Israel\",\"Japan\",\"Jordan\",\"Korea, Dem. Rep.\",\"Korea, Rep.\",\"Kuwait\",\"Lebanon\",\"Malaysia\",\"Mongolia\",\"Myanmar\",\"Nepal\",\"Oman\",\"Pakistan\",\"Philippines\",\"Saudi Arabia\",\"Singapore\",\"Sri Lanka\",\"Syria\",\"Taiwan\",\"Thailand\",\"Vietnam\",\"West Bank and Gaza\",\"Yemen, Rep.\"],\"legendgroup\":\"Asia\",\"locations\":[\"AFG\",\"BHR\",\"BGD\",\"KHM\",\"CHN\",\"HKG\",\"IND\",\"IDN\",\"IRN\",\"IRQ\",\"ISR\",\"JPN\",\"JOR\",\"KOR\",\"KOR\",\"KWT\",\"LBN\",\"MYS\",\"MNG\",\"MMR\",\"NPL\",\"OMN\",\"PAK\",\"PHL\",\"SAU\",\"SGP\",\"LKA\",\"SYR\",\"TWN\",\"THA\",\"VNM\",\"PSE\",\"YEM\"],\"marker\":{\"color\":\"#636efa\",\"size\":[12881816,377967,93074406,7272485,1000281000,5264500,708000000,153343000,43072751,14173318,3858421,118454974,2347031,17647518,39326000,1497494,3086876,14441916,1756032,34680442,15796314,1301048,91462088,53456774,11254672,2651869,15410151,9410494,18501390,48827160,56142181,1425876,9657618],\"sizemode\":\"area\",\"sizeref\":3296707.74,\"symbol\":\"circle\"},\"mode\":\"markers\",\"name\":\"Asia\",\"showlegend\":true,\"type\":\"scattergeo\"},{\"geo\":\"geo\",\"hovertemplate\":\"<b>%{hovertext}</b><br><br>continent=Europe<br>year=1982<br>pop=%{marker.size}<br>iso_alpha=%{location}<extra></extra>\",\"hovertext\":[\"Albania\",\"Austria\",\"Belgium\",\"Bosnia and Herzegovina\",\"Bulgaria\",\"Croatia\",\"Czech Republic\",\"Denmark\",\"Finland\",\"France\",\"Germany\",\"Greece\",\"Hungary\",\"Iceland\",\"Ireland\",\"Italy\",\"Montenegro\",\"Netherlands\",\"Norway\",\"Poland\",\"Portugal\",\"Romania\",\"Serbia\",\"Slovak Republic\",\"Slovenia\",\"Spain\",\"Sweden\",\"Switzerland\",\"Turkey\",\"United Kingdom\"],\"legendgroup\":\"Europe\",\"locations\":[\"ALB\",\"AUT\",\"BEL\",\"BIH\",\"BGR\",\"HRV\",\"CZE\",\"DNK\",\"FIN\",\"FRA\",\"DEU\",\"GRC\",\"HUN\",\"ISL\",\"IRL\",\"ITA\",\"MNE\",\"NLD\",\"NOR\",\"POL\",\"PRT\",\"ROU\",\"SRB\",\"SVK\",\"SVN\",\"ESP\",\"SWE\",\"CHE\",\"TUR\",\"GBR\"],\"marker\":{\"color\":\"#EF553B\",\"size\":[2780097,7574613,9856303,4172693,8892098,4413368,10303704,5117810,4826933,54433565,78335266,9786480,10705535,233997,3480000,56535636,562548,14310401,4114787,36227381,9859650,22356726,9032824,5048043,1861252,37983310,8325260,6468126,47328791,56339704],\"sizemode\":\"area\",\"sizeref\":3296707.74,\"symbol\":\"circle\"},\"mode\":\"markers\",\"name\":\"Europe\",\"showlegend\":true,\"type\":\"scattergeo\"},{\"geo\":\"geo\",\"hovertemplate\":\"<b>%{hovertext}</b><br><br>continent=Africa<br>year=1982<br>pop=%{marker.size}<br>iso_alpha=%{location}<extra></extra>\",\"hovertext\":[\"Algeria\",\"Angola\",\"Benin\",\"Botswana\",\"Burkina Faso\",\"Burundi\",\"Cameroon\",\"Central African Republic\",\"Chad\",\"Comoros\",\"Congo, Dem. Rep.\",\"Congo, Rep.\",\"Cote d'Ivoire\",\"Djibouti\",\"Egypt\",\"Equatorial Guinea\",\"Eritrea\",\"Ethiopia\",\"Gabon\",\"Gambia\",\"Ghana\",\"Guinea\",\"Guinea-Bissau\",\"Kenya\",\"Lesotho\",\"Liberia\",\"Libya\",\"Madagascar\",\"Malawi\",\"Mali\",\"Mauritania\",\"Mauritius\",\"Morocco\",\"Mozambique\",\"Namibia\",\"Niger\",\"Nigeria\",\"Reunion\",\"Rwanda\",\"Sao Tome and Principe\",\"Senegal\",\"Sierra Leone\",\"Somalia\",\"South Africa\",\"Sudan\",\"Swaziland\",\"Tanzania\",\"Togo\",\"Tunisia\",\"Uganda\",\"Zambia\",\"Zimbabwe\"],\"legendgroup\":\"Africa\",\"locations\":[\"DZA\",\"AGO\",\"BEN\",\"BWA\",\"BFA\",\"BDI\",\"CMR\",\"CAF\",\"TCD\",\"COM\",\"COD\",\"COG\",\"CIV\",\"DJI\",\"EGY\",\"GNQ\",\"ERI\",\"ETH\",\"GAB\",\"GMB\",\"GHA\",\"GIN\",\"GNB\",\"KEN\",\"LSO\",\"LBR\",\"LBY\",\"MDG\",\"MWI\",\"MLI\",\"MRT\",\"MUS\",\"MAR\",\"MOZ\",\"NAM\",\"NER\",\"NGA\",\"REU\",\"RWA\",\"STP\",\"SEN\",\"SLE\",\"SOM\",\"ZAF\",\"SDN\",\"SWZ\",\"TZA\",\"TGO\",\"TUN\",\"UGA\",\"ZMB\",\"ZWE\"],\"marker\":{\"color\":\"#00cc96\",\"size\":[20033753,7016384,3641603,970347,6634596,4580410,9250831,2476971,4875118,348643,30646495,1774735,9025951,305991,45681811,285483,2637297,38111756,753874,715523,11400338,4710497,825987,17661452,1411807,1956875,3344074,9171477,6502825,6998256,1622136,992040,20198730,12587223,1099010,6437188,73039376,517810,5507565,98593,6147783,3464522,5828892,31140029,20367053,649901,19844382,2644765,6734098,12939400,6100407,7636524],\"sizemode\":\"area\",\"sizeref\":3296707.74,\"symbol\":\"circle\"},\"mode\":\"markers\",\"name\":\"Africa\",\"showlegend\":true,\"type\":\"scattergeo\"},{\"geo\":\"geo\",\"hovertemplate\":\"<b>%{hovertext}</b><br><br>continent=Americas<br>year=1982<br>pop=%{marker.size}<br>iso_alpha=%{location}<extra></extra>\",\"hovertext\":[\"Argentina\",\"Bolivia\",\"Brazil\",\"Canada\",\"Chile\",\"Colombia\",\"Costa Rica\",\"Cuba\",\"Dominican Republic\",\"Ecuador\",\"El Salvador\",\"Guatemala\",\"Haiti\",\"Honduras\",\"Jamaica\",\"Mexico\",\"Nicaragua\",\"Panama\",\"Paraguay\",\"Peru\",\"Puerto Rico\",\"Trinidad and Tobago\",\"United States\",\"Uruguay\",\"Venezuela\"],\"legendgroup\":\"Americas\",\"locations\":[\"ARG\",\"BOL\",\"BRA\",\"CAN\",\"CHL\",\"COL\",\"CRI\",\"CUB\",\"DOM\",\"ECU\",\"SLV\",\"GTM\",\"HTI\",\"HND\",\"JAM\",\"MEX\",\"NIC\",\"PAN\",\"PRY\",\"PER\",\"PRI\",\"TTO\",\"USA\",\"URY\",\"VEN\"],\"marker\":{\"color\":\"#ab63fa\",\"size\":[29341374,5642224,128962939,25201900,11487112,27764644,2424367,9789224,5968349,8365850,4474873,6395630,5198399,3669448,2298309,71640904,2979423,2036305,3366439,18125129,3279001,1116479,232187835,2953997,15620766],\"sizemode\":\"area\",\"sizeref\":3296707.74,\"symbol\":\"circle\"},\"mode\":\"markers\",\"name\":\"Americas\",\"showlegend\":true,\"type\":\"scattergeo\"},{\"geo\":\"geo\",\"hovertemplate\":\"<b>%{hovertext}</b><br><br>continent=Oceania<br>year=1982<br>pop=%{marker.size}<br>iso_alpha=%{location}<extra></extra>\",\"hovertext\":[\"Australia\",\"New Zealand\"],\"legendgroup\":\"Oceania\",\"locations\":[\"AUS\",\"NZL\"],\"marker\":{\"color\":\"#FFA15A\",\"size\":[15184200,3210650],\"sizemode\":\"area\",\"sizeref\":3296707.74,\"symbol\":\"circle\"},\"mode\":\"markers\",\"name\":\"Oceania\",\"showlegend\":true,\"type\":\"scattergeo\"}],\"name\":\"1982\"},{\"data\":[{\"geo\":\"geo\",\"hovertemplate\":\"<b>%{hovertext}</b><br><br>continent=Asia<br>year=1987<br>pop=%{marker.size}<br>iso_alpha=%{location}<extra></extra>\",\"hovertext\":[\"Afghanistan\",\"Bahrain\",\"Bangladesh\",\"Cambodia\",\"China\",\"Hong Kong, China\",\"India\",\"Indonesia\",\"Iran\",\"Iraq\",\"Israel\",\"Japan\",\"Jordan\",\"Korea, Dem. Rep.\",\"Korea, Rep.\",\"Kuwait\",\"Lebanon\",\"Malaysia\",\"Mongolia\",\"Myanmar\",\"Nepal\",\"Oman\",\"Pakistan\",\"Philippines\",\"Saudi Arabia\",\"Singapore\",\"Sri Lanka\",\"Syria\",\"Taiwan\",\"Thailand\",\"Vietnam\",\"West Bank and Gaza\",\"Yemen, Rep.\"],\"legendgroup\":\"Asia\",\"locations\":[\"AFG\",\"BHR\",\"BGD\",\"KHM\",\"CHN\",\"HKG\",\"IND\",\"IDN\",\"IRN\",\"IRQ\",\"ISR\",\"JPN\",\"JOR\",\"KOR\",\"KOR\",\"KWT\",\"LBN\",\"MYS\",\"MNG\",\"MMR\",\"NPL\",\"OMN\",\"PAK\",\"PHL\",\"SAU\",\"SGP\",\"LKA\",\"SYR\",\"TWN\",\"THA\",\"VNM\",\"PSE\",\"YEM\"],\"marker\":{\"color\":\"#636efa\",\"size\":[13867957,454612,103764241,8371791,1084035000,5584510,788000000,169276000,51889696,16543189,4203148,122091325,2820042,19067554,41622000,1891487,3089353,16331785,2015133,38028578,17917180,1593882,105186881,60017788,14619745,2794552,16495304,11242847,19757799,52910342,62826491,1691210,11219340],\"sizemode\":\"area\",\"sizeref\":3296707.74,\"symbol\":\"circle\"},\"mode\":\"markers\",\"name\":\"Asia\",\"showlegend\":true,\"type\":\"scattergeo\"},{\"geo\":\"geo\",\"hovertemplate\":\"<b>%{hovertext}</b><br><br>continent=Europe<br>year=1987<br>pop=%{marker.size}<br>iso_alpha=%{location}<extra></extra>\",\"hovertext\":[\"Albania\",\"Austria\",\"Belgium\",\"Bosnia and Herzegovina\",\"Bulgaria\",\"Croatia\",\"Czech Republic\",\"Denmark\",\"Finland\",\"France\",\"Germany\",\"Greece\",\"Hungary\",\"Iceland\",\"Ireland\",\"Italy\",\"Montenegro\",\"Netherlands\",\"Norway\",\"Poland\",\"Portugal\",\"Romania\",\"Serbia\",\"Slovak Republic\",\"Slovenia\",\"Spain\",\"Sweden\",\"Switzerland\",\"Turkey\",\"United Kingdom\"],\"legendgroup\":\"Europe\",\"locations\":[\"ALB\",\"AUT\",\"BEL\",\"BIH\",\"BGR\",\"HRV\",\"CZE\",\"DNK\",\"FIN\",\"FRA\",\"DEU\",\"GRC\",\"HUN\",\"ISL\",\"IRL\",\"ITA\",\"MNE\",\"NLD\",\"NOR\",\"POL\",\"PRT\",\"ROU\",\"SRB\",\"SVK\",\"SVN\",\"ESP\",\"SWE\",\"CHE\",\"TUR\",\"GBR\"],\"marker\":{\"color\":\"#EF553B\",\"size\":[3075321,7578903,9870200,4338977,8971958,4484310,10311597,5127024,4931729,55630100,77718298,9974490,10612740,244676,3539900,56729703,569473,14665278,4186147,37740710,9915289,22686371,9230783,5199318,1945870,38880702,8421403,6649942,52881328,56981620],\"sizemode\":\"area\",\"sizeref\":3296707.74,\"symbol\":\"circle\"},\"mode\":\"markers\",\"name\":\"Europe\",\"showlegend\":true,\"type\":\"scattergeo\"},{\"geo\":\"geo\",\"hovertemplate\":\"<b>%{hovertext}</b><br><br>continent=Africa<br>year=1987<br>pop=%{marker.size}<br>iso_alpha=%{location}<extra></extra>\",\"hovertext\":[\"Algeria\",\"Angola\",\"Benin\",\"Botswana\",\"Burkina Faso\",\"Burundi\",\"Cameroon\",\"Central African Republic\",\"Chad\",\"Comoros\",\"Congo, Dem. Rep.\",\"Congo, Rep.\",\"Cote d'Ivoire\",\"Djibouti\",\"Egypt\",\"Equatorial Guinea\",\"Eritrea\",\"Ethiopia\",\"Gabon\",\"Gambia\",\"Ghana\",\"Guinea\",\"Guinea-Bissau\",\"Kenya\",\"Lesotho\",\"Liberia\",\"Libya\",\"Madagascar\",\"Malawi\",\"Mali\",\"Mauritania\",\"Mauritius\",\"Morocco\",\"Mozambique\",\"Namibia\",\"Niger\",\"Nigeria\",\"Reunion\",\"Rwanda\",\"Sao Tome and Principe\",\"Senegal\",\"Sierra Leone\",\"Somalia\",\"South Africa\",\"Sudan\",\"Swaziland\",\"Tanzania\",\"Togo\",\"Tunisia\",\"Uganda\",\"Zambia\",\"Zimbabwe\"],\"legendgroup\":\"Africa\",\"locations\":[\"DZA\",\"AGO\",\"BEN\",\"BWA\",\"BFA\",\"BDI\",\"CMR\",\"CAF\",\"TCD\",\"COM\",\"COD\",\"COG\",\"CIV\",\"DJI\",\"EGY\",\"GNQ\",\"ERI\",\"ETH\",\"GAB\",\"GMB\",\"GHA\",\"GIN\",\"GNB\",\"KEN\",\"LSO\",\"LBR\",\"LBY\",\"MDG\",\"MWI\",\"MLI\",\"MRT\",\"MUS\",\"MAR\",\"MOZ\",\"NAM\",\"NER\",\"NGA\",\"REU\",\"RWA\",\"STP\",\"SEN\",\"SLE\",\"SOM\",\"ZAF\",\"SDN\",\"SWZ\",\"TZA\",\"TGO\",\"TUN\",\"UGA\",\"ZMB\",\"ZWE\"],\"marker\":{\"color\":\"#00cc96\",\"size\":[23254956,7874230,4243788,1151184,7586551,5126023,10780667,2840009,5498955,395114,35481645,2064095,10761098,311025,52799062,341244,2915959,42999530,880397,848406,14168101,5650262,927524,21198082,1599200,2269414,3799845,10568642,7824747,7634008,1841240,1042663,22987397,12891952,1278184,7332638,81551520,562035,6349365,110812,7171347,3868905,6921858,35933379,24725960,779348,23040630,3154264,7724976,15283050,7272406,9216418],\"sizemode\":\"area\",\"sizeref\":3296707.74,\"symbol\":\"circle\"},\"mode\":\"markers\",\"name\":\"Africa\",\"showlegend\":true,\"type\":\"scattergeo\"},{\"geo\":\"geo\",\"hovertemplate\":\"<b>%{hovertext}</b><br><br>continent=Americas<br>year=1987<br>pop=%{marker.size}<br>iso_alpha=%{location}<extra></extra>\",\"hovertext\":[\"Argentina\",\"Bolivia\",\"Brazil\",\"Canada\",\"Chile\",\"Colombia\",\"Costa Rica\",\"Cuba\",\"Dominican Republic\",\"Ecuador\",\"El Salvador\",\"Guatemala\",\"Haiti\",\"Honduras\",\"Jamaica\",\"Mexico\",\"Nicaragua\",\"Panama\",\"Paraguay\",\"Peru\",\"Puerto Rico\",\"Trinidad and Tobago\",\"United States\",\"Uruguay\",\"Venezuela\"],\"legendgroup\":\"Americas\",\"locations\":[\"ARG\",\"BOL\",\"BRA\",\"CAN\",\"CHL\",\"COL\",\"CRI\",\"CUB\",\"DOM\",\"ECU\",\"SLV\",\"GTM\",\"HTI\",\"HND\",\"JAM\",\"MEX\",\"NIC\",\"PAN\",\"PRY\",\"PER\",\"PRI\",\"TTO\",\"USA\",\"URY\",\"VEN\"],\"marker\":{\"color\":\"#ab63fa\",\"size\":[31620918,6156369,142938076,26549700,12463354,30964245,2799811,10239839,6655297,9545158,4842194,7326406,5756203,4372203,2326606,80122492,3344353,2253639,3886512,20195924,3444468,1191336,242803533,3045153,17910182],\"sizemode\":\"area\",\"sizeref\":3296707.74,\"symbol\":\"circle\"},\"mode\":\"markers\",\"name\":\"Americas\",\"showlegend\":true,\"type\":\"scattergeo\"},{\"geo\":\"geo\",\"hovertemplate\":\"<b>%{hovertext}</b><br><br>continent=Oceania<br>year=1987<br>pop=%{marker.size}<br>iso_alpha=%{location}<extra></extra>\",\"hovertext\":[\"Australia\",\"New Zealand\"],\"legendgroup\":\"Oceania\",\"locations\":[\"AUS\",\"NZL\"],\"marker\":{\"color\":\"#FFA15A\",\"size\":[16257249,3317166],\"sizemode\":\"area\",\"sizeref\":3296707.74,\"symbol\":\"circle\"},\"mode\":\"markers\",\"name\":\"Oceania\",\"showlegend\":true,\"type\":\"scattergeo\"}],\"name\":\"1987\"},{\"data\":[{\"geo\":\"geo\",\"hovertemplate\":\"<b>%{hovertext}</b><br><br>continent=Asia<br>year=1992<br>pop=%{marker.size}<br>iso_alpha=%{location}<extra></extra>\",\"hovertext\":[\"Afghanistan\",\"Bahrain\",\"Bangladesh\",\"Cambodia\",\"China\",\"Hong Kong, China\",\"India\",\"Indonesia\",\"Iran\",\"Iraq\",\"Israel\",\"Japan\",\"Jordan\",\"Korea, Dem. Rep.\",\"Korea, Rep.\",\"Kuwait\",\"Lebanon\",\"Malaysia\",\"Mongolia\",\"Myanmar\",\"Nepal\",\"Oman\",\"Pakistan\",\"Philippines\",\"Saudi Arabia\",\"Singapore\",\"Sri Lanka\",\"Syria\",\"Taiwan\",\"Thailand\",\"Vietnam\",\"West Bank and Gaza\",\"Yemen, Rep.\"],\"legendgroup\":\"Asia\",\"locations\":[\"AFG\",\"BHR\",\"BGD\",\"KHM\",\"CHN\",\"HKG\",\"IND\",\"IDN\",\"IRN\",\"IRQ\",\"ISR\",\"JPN\",\"JOR\",\"KOR\",\"KOR\",\"KWT\",\"LBN\",\"MYS\",\"MNG\",\"MMR\",\"NPL\",\"OMN\",\"PAK\",\"PHL\",\"SAU\",\"SGP\",\"LKA\",\"SYR\",\"TWN\",\"THA\",\"VNM\",\"PSE\",\"YEM\"],\"marker\":{\"color\":\"#636efa\",\"size\":[16317921,529491,113704579,10150094,1164970000,5829696,872000000,184816000,60397973,17861905,4936550,124329269,3867409,20711375,43805450,1418095,3219994,18319502,2312802,40546538,20326209,1915208,120065004,67185766,16945857,3235865,17587060,13219062,20686918,56667095,69940728,2104779,13367997],\"sizemode\":\"area\",\"sizeref\":3296707.74,\"symbol\":\"circle\"},\"mode\":\"markers\",\"name\":\"Asia\",\"showlegend\":true,\"type\":\"scattergeo\"},{\"geo\":\"geo\",\"hovertemplate\":\"<b>%{hovertext}</b><br><br>continent=Europe<br>year=1992<br>pop=%{marker.size}<br>iso_alpha=%{location}<extra></extra>\",\"hovertext\":[\"Albania\",\"Austria\",\"Belgium\",\"Bosnia and Herzegovina\",\"Bulgaria\",\"Croatia\",\"Czech Republic\",\"Denmark\",\"Finland\",\"France\",\"Germany\",\"Greece\",\"Hungary\",\"Iceland\",\"Ireland\",\"Italy\",\"Montenegro\",\"Netherlands\",\"Norway\",\"Poland\",\"Portugal\",\"Romania\",\"Serbia\",\"Slovak Republic\",\"Slovenia\",\"Spain\",\"Sweden\",\"Switzerland\",\"Turkey\",\"United Kingdom\"],\"legendgroup\":\"Europe\",\"locations\":[\"ALB\",\"AUT\",\"BEL\",\"BIH\",\"BGR\",\"HRV\",\"CZE\",\"DNK\",\"FIN\",\"FRA\",\"DEU\",\"GRC\",\"HUN\",\"ISL\",\"IRL\",\"ITA\",\"MNE\",\"NLD\",\"NOR\",\"POL\",\"PRT\",\"ROU\",\"SRB\",\"SVK\",\"SVN\",\"ESP\",\"SWE\",\"CHE\",\"TUR\",\"GBR\"],\"marker\":{\"color\":\"#EF553B\",\"size\":[3326498,7914969,10045622,4256013,8658506,4494013,10315702,5171393,5041039,57374179,80597764,10325429,10348684,259012,3557761,56840847,621621,15174244,4286357,38370697,9927680,22797027,9826397,5302888,1999210,39549438,8718867,6995447,58179144,57866349],\"sizemode\":\"area\",\"sizeref\":3296707.74,\"symbol\":\"circle\"},\"mode\":\"markers\",\"name\":\"Europe\",\"showlegend\":true,\"type\":\"scattergeo\"},{\"geo\":\"geo\",\"hovertemplate\":\"<b>%{hovertext}</b><br><br>continent=Africa<br>year=1992<br>pop=%{marker.size}<br>iso_alpha=%{location}<extra></extra>\",\"hovertext\":[\"Algeria\",\"Angola\",\"Benin\",\"Botswana\",\"Burkina Faso\",\"Burundi\",\"Cameroon\",\"Central African Republic\",\"Chad\",\"Comoros\",\"Congo, Dem. Rep.\",\"Congo, Rep.\",\"Cote d'Ivoire\",\"Djibouti\",\"Egypt\",\"Equatorial Guinea\",\"Eritrea\",\"Ethiopia\",\"Gabon\",\"Gambia\",\"Ghana\",\"Guinea\",\"Guinea-Bissau\",\"Kenya\",\"Lesotho\",\"Liberia\",\"Libya\",\"Madagascar\",\"Malawi\",\"Mali\",\"Mauritania\",\"Mauritius\",\"Morocco\",\"Mozambique\",\"Namibia\",\"Niger\",\"Nigeria\",\"Reunion\",\"Rwanda\",\"Sao Tome and Principe\",\"Senegal\",\"Sierra Leone\",\"Somalia\",\"South Africa\",\"Sudan\",\"Swaziland\",\"Tanzania\",\"Togo\",\"Tunisia\",\"Uganda\",\"Zambia\",\"Zimbabwe\"],\"legendgroup\":\"Africa\",\"locations\":[\"DZA\",\"AGO\",\"BEN\",\"BWA\",\"BFA\",\"BDI\",\"CMR\",\"CAF\",\"TCD\",\"COM\",\"COD\",\"COG\",\"CIV\",\"DJI\",\"EGY\",\"GNQ\",\"ERI\",\"ETH\",\"GAB\",\"GMB\",\"GHA\",\"GIN\",\"GNB\",\"KEN\",\"LSO\",\"LBR\",\"LBY\",\"MDG\",\"MWI\",\"MLI\",\"MRT\",\"MUS\",\"MAR\",\"MOZ\",\"NAM\",\"NER\",\"NGA\",\"REU\",\"RWA\",\"STP\",\"SEN\",\"SLE\",\"SOM\",\"ZAF\",\"SDN\",\"SWZ\",\"TZA\",\"TGO\",\"TUN\",\"UGA\",\"ZMB\",\"ZWE\"],\"marker\":{\"color\":\"#00cc96\",\"size\":[26298373,8735988,4981671,1342614,8878303,5809236,12467171,3265124,6429417,454429,41672143,2409073,12772596,384156,59402198,387838,3668440,52088559,985739,1025384,16278738,6990574,1050938,25020539,1803195,1912974,4364501,12210395,10014249,8416215,2119465,1096202,25798239,13160731,1554253,8392818,93364244,622191,7290203,125911,8307920,4260884,6099799,39964159,28227588,962344,26605473,3747553,8523077,18252190,8381163,10704340],\"sizemode\":\"area\",\"sizeref\":3296707.74,\"symbol\":\"circle\"},\"mode\":\"markers\",\"name\":\"Africa\",\"showlegend\":true,\"type\":\"scattergeo\"},{\"geo\":\"geo\",\"hovertemplate\":\"<b>%{hovertext}</b><br><br>continent=Americas<br>year=1992<br>pop=%{marker.size}<br>iso_alpha=%{location}<extra></extra>\",\"hovertext\":[\"Argentina\",\"Bolivia\",\"Brazil\",\"Canada\",\"Chile\",\"Colombia\",\"Costa Rica\",\"Cuba\",\"Dominican Republic\",\"Ecuador\",\"El Salvador\",\"Guatemala\",\"Haiti\",\"Honduras\",\"Jamaica\",\"Mexico\",\"Nicaragua\",\"Panama\",\"Paraguay\",\"Peru\",\"Puerto Rico\",\"Trinidad and Tobago\",\"United States\",\"Uruguay\",\"Venezuela\"],\"legendgroup\":\"Americas\",\"locations\":[\"ARG\",\"BOL\",\"BRA\",\"CAN\",\"CHL\",\"COL\",\"CRI\",\"CUB\",\"DOM\",\"ECU\",\"SLV\",\"GTM\",\"HTI\",\"HND\",\"JAM\",\"MEX\",\"NIC\",\"PAN\",\"PRY\",\"PER\",\"PRI\",\"TTO\",\"USA\",\"URY\",\"VEN\"],\"marker\":{\"color\":\"#ab63fa\",\"size\":[33958947,6893451,155975974,28523502,13572994,34202721,3173216,10723260,7351181,10748394,5274649,8486949,6326682,5077347,2378618,88111030,4017939,2484997,4483945,22430449,3585176,1183669,256894189,3149262,20265563],\"sizemode\":\"area\",\"sizeref\":3296707.74,\"symbol\":\"circle\"},\"mode\":\"markers\",\"name\":\"Americas\",\"showlegend\":true,\"type\":\"scattergeo\"},{\"geo\":\"geo\",\"hovertemplate\":\"<b>%{hovertext}</b><br><br>continent=Oceania<br>year=1992<br>pop=%{marker.size}<br>iso_alpha=%{location}<extra></extra>\",\"hovertext\":[\"Australia\",\"New Zealand\"],\"legendgroup\":\"Oceania\",\"locations\":[\"AUS\",\"NZL\"],\"marker\":{\"color\":\"#FFA15A\",\"size\":[17481977,3437674],\"sizemode\":\"area\",\"sizeref\":3296707.74,\"symbol\":\"circle\"},\"mode\":\"markers\",\"name\":\"Oceania\",\"showlegend\":true,\"type\":\"scattergeo\"}],\"name\":\"1992\"},{\"data\":[{\"geo\":\"geo\",\"hovertemplate\":\"<b>%{hovertext}</b><br><br>continent=Asia<br>year=1997<br>pop=%{marker.size}<br>iso_alpha=%{location}<extra></extra>\",\"hovertext\":[\"Afghanistan\",\"Bahrain\",\"Bangladesh\",\"Cambodia\",\"China\",\"Hong Kong, China\",\"India\",\"Indonesia\",\"Iran\",\"Iraq\",\"Israel\",\"Japan\",\"Jordan\",\"Korea, Dem. Rep.\",\"Korea, Rep.\",\"Kuwait\",\"Lebanon\",\"Malaysia\",\"Mongolia\",\"Myanmar\",\"Nepal\",\"Oman\",\"Pakistan\",\"Philippines\",\"Saudi Arabia\",\"Singapore\",\"Sri Lanka\",\"Syria\",\"Taiwan\",\"Thailand\",\"Vietnam\",\"West Bank and Gaza\",\"Yemen, Rep.\"],\"legendgroup\":\"Asia\",\"locations\":[\"AFG\",\"BHR\",\"BGD\",\"KHM\",\"CHN\",\"HKG\",\"IND\",\"IDN\",\"IRN\",\"IRQ\",\"ISR\",\"JPN\",\"JOR\",\"KOR\",\"KOR\",\"KWT\",\"LBN\",\"MYS\",\"MNG\",\"MMR\",\"NPL\",\"OMN\",\"PAK\",\"PHL\",\"SAU\",\"SGP\",\"LKA\",\"SYR\",\"TWN\",\"THA\",\"VNM\",\"PSE\",\"YEM\"],\"marker\":{\"color\":\"#636efa\",\"size\":[22227415,598561,123315288,11782962,1230075000,6495918,959000000,199278000,63327987,20775703,5531387,125956499,4526235,21585105,46173816,1765345,3430388,20476091,2494803,43247867,23001113,2283635,135564834,75012988,21229759,3802309,18698655,15081016,21628605,60216677,76048996,2826046,15826497],\"sizemode\":\"area\",\"sizeref\":3296707.74,\"symbol\":\"circle\"},\"mode\":\"markers\",\"name\":\"Asia\",\"showlegend\":true,\"type\":\"scattergeo\"},{\"geo\":\"geo\",\"hovertemplate\":\"<b>%{hovertext}</b><br><br>continent=Europe<br>year=1997<br>pop=%{marker.size}<br>iso_alpha=%{location}<extra></extra>\",\"hovertext\":[\"Albania\",\"Austria\",\"Belgium\",\"Bosnia and Herzegovina\",\"Bulgaria\",\"Croatia\",\"Czech Republic\",\"Denmark\",\"Finland\",\"France\",\"Germany\",\"Greece\",\"Hungary\",\"Iceland\",\"Ireland\",\"Italy\",\"Montenegro\",\"Netherlands\",\"Norway\",\"Poland\",\"Portugal\",\"Romania\",\"Serbia\",\"Slovak Republic\",\"Slovenia\",\"Spain\",\"Sweden\",\"Switzerland\",\"Turkey\",\"United Kingdom\"],\"legendgroup\":\"Europe\",\"locations\":[\"ALB\",\"AUT\",\"BEL\",\"BIH\",\"BGR\",\"HRV\",\"CZE\",\"DNK\",\"FIN\",\"FRA\",\"DEU\",\"GRC\",\"HUN\",\"ISL\",\"IRL\",\"ITA\",\"MNE\",\"NLD\",\"NOR\",\"POL\",\"PRT\",\"ROU\",\"SRB\",\"SVK\",\"SVN\",\"ESP\",\"SWE\",\"CHE\",\"TUR\",\"GBR\"],\"marker\":{\"color\":\"#EF553B\",\"size\":[3428038,8069876,10199787,3607000,8066057,4444595,10300707,5283663,5134406,58623428,82011073,10502372,10244684,271192,3667233,57479469,692651,15604464,4405672,38654957,10156415,22562458,10336594,5383010,2011612,39855442,8897619,7193761,63047647,58808266],\"sizemode\":\"area\",\"sizeref\":3296707.74,\"symbol\":\"circle\"},\"mode\":\"markers\",\"name\":\"Europe\",\"showlegend\":true,\"type\":\"scattergeo\"},{\"geo\":\"geo\",\"hovertemplate\":\"<b>%{hovertext}</b><br><br>continent=Africa<br>year=1997<br>pop=%{marker.size}<br>iso_alpha=%{location}<extra></extra>\",\"hovertext\":[\"Algeria\",\"Angola\",\"Benin\",\"Botswana\",\"Burkina Faso\",\"Burundi\",\"Cameroon\",\"Central African Republic\",\"Chad\",\"Comoros\",\"Congo, Dem. Rep.\",\"Congo, Rep.\",\"Cote d'Ivoire\",\"Djibouti\",\"Egypt\",\"Equatorial Guinea\",\"Eritrea\",\"Ethiopia\",\"Gabon\",\"Gambia\",\"Ghana\",\"Guinea\",\"Guinea-Bissau\",\"Kenya\",\"Lesotho\",\"Liberia\",\"Libya\",\"Madagascar\",\"Malawi\",\"Mali\",\"Mauritania\",\"Mauritius\",\"Morocco\",\"Mozambique\",\"Namibia\",\"Niger\",\"Nigeria\",\"Reunion\",\"Rwanda\",\"Sao Tome and Principe\",\"Senegal\",\"Sierra Leone\",\"Somalia\",\"South Africa\",\"Sudan\",\"Swaziland\",\"Tanzania\",\"Togo\",\"Tunisia\",\"Uganda\",\"Zambia\",\"Zimbabwe\"],\"legendgroup\":\"Africa\",\"locations\":[\"DZA\",\"AGO\",\"BEN\",\"BWA\",\"BFA\",\"BDI\",\"CMR\",\"CAF\",\"TCD\",\"COM\",\"COD\",\"COG\",\"CIV\",\"DJI\",\"EGY\",\"GNQ\",\"ERI\",\"ETH\",\"GAB\",\"GMB\",\"GHA\",\"GIN\",\"GNB\",\"KEN\",\"LSO\",\"LBR\",\"LBY\",\"MDG\",\"MWI\",\"MLI\",\"MRT\",\"MUS\",\"MAR\",\"MOZ\",\"NAM\",\"NER\",\"NGA\",\"REU\",\"RWA\",\"STP\",\"SEN\",\"SLE\",\"SOM\",\"ZAF\",\"SDN\",\"SWZ\",\"TZA\",\"TGO\",\"TUN\",\"UGA\",\"ZMB\",\"ZWE\"],\"marker\":{\"color\":\"#00cc96\",\"size\":[29072015,9875024,6066080,1536536,10352843,6121610,14195809,3696513,7562011,527982,47798986,2800947,14625967,417908,66134291,439971,4058319,59861301,1126189,1235767,18418288,8048834,1193708,28263827,1982823,2200725,4759670,14165114,10419991,9384984,2444741,1149818,28529501,16603334,1774766,9666252,106207839,684810,7212583,145608,9535314,4578212,6633514,42835005,32160729,1054486,30686889,4320890,9231669,21210254,9417789,11404948],\"sizemode\":\"area\",\"sizeref\":3296707.74,\"symbol\":\"circle\"},\"mode\":\"markers\",\"name\":\"Africa\",\"showlegend\":true,\"type\":\"scattergeo\"},{\"geo\":\"geo\",\"hovertemplate\":\"<b>%{hovertext}</b><br><br>continent=Americas<br>year=1997<br>pop=%{marker.size}<br>iso_alpha=%{location}<extra></extra>\",\"hovertext\":[\"Argentina\",\"Bolivia\",\"Brazil\",\"Canada\",\"Chile\",\"Colombia\",\"Costa Rica\",\"Cuba\",\"Dominican Republic\",\"Ecuador\",\"El Salvador\",\"Guatemala\",\"Haiti\",\"Honduras\",\"Jamaica\",\"Mexico\",\"Nicaragua\",\"Panama\",\"Paraguay\",\"Peru\",\"Puerto Rico\",\"Trinidad and Tobago\",\"United States\",\"Uruguay\",\"Venezuela\"],\"legendgroup\":\"Americas\",\"locations\":[\"ARG\",\"BOL\",\"BRA\",\"CAN\",\"CHL\",\"COL\",\"CRI\",\"CUB\",\"DOM\",\"ECU\",\"SLV\",\"GTM\",\"HTI\",\"HND\",\"JAM\",\"MEX\",\"NIC\",\"PAN\",\"PRY\",\"PER\",\"PRI\",\"TTO\",\"USA\",\"URY\",\"VEN\"],\"marker\":{\"color\":\"#ab63fa\",\"size\":[36203463,7693188,168546719,30305843,14599929,37657830,3518107,10983007,7992357,11911819,5783439,9803875,6913545,5867957,2531311,95895146,4609572,2734531,5154123,24748122,3759430,1138101,272911760,3262838,22374398],\"sizemode\":\"area\",\"sizeref\":3296707.74,\"symbol\":\"circle\"},\"mode\":\"markers\",\"name\":\"Americas\",\"showlegend\":true,\"type\":\"scattergeo\"},{\"geo\":\"geo\",\"hovertemplate\":\"<b>%{hovertext}</b><br><br>continent=Oceania<br>year=1997<br>pop=%{marker.size}<br>iso_alpha=%{location}<extra></extra>\",\"hovertext\":[\"Australia\",\"New Zealand\"],\"legendgroup\":\"Oceania\",\"locations\":[\"AUS\",\"NZL\"],\"marker\":{\"color\":\"#FFA15A\",\"size\":[18565243,3676187],\"sizemode\":\"area\",\"sizeref\":3296707.74,\"symbol\":\"circle\"},\"mode\":\"markers\",\"name\":\"Oceania\",\"showlegend\":true,\"type\":\"scattergeo\"}],\"name\":\"1997\"},{\"data\":[{\"geo\":\"geo\",\"hovertemplate\":\"<b>%{hovertext}</b><br><br>continent=Asia<br>year=2002<br>pop=%{marker.size}<br>iso_alpha=%{location}<extra></extra>\",\"hovertext\":[\"Afghanistan\",\"Bahrain\",\"Bangladesh\",\"Cambodia\",\"China\",\"Hong Kong, China\",\"India\",\"Indonesia\",\"Iran\",\"Iraq\",\"Israel\",\"Japan\",\"Jordan\",\"Korea, Dem. Rep.\",\"Korea, Rep.\",\"Kuwait\",\"Lebanon\",\"Malaysia\",\"Mongolia\",\"Myanmar\",\"Nepal\",\"Oman\",\"Pakistan\",\"Philippines\",\"Saudi Arabia\",\"Singapore\",\"Sri Lanka\",\"Syria\",\"Taiwan\",\"Thailand\",\"Vietnam\",\"West Bank and Gaza\",\"Yemen, Rep.\"],\"legendgroup\":\"Asia\",\"locations\":[\"AFG\",\"BHR\",\"BGD\",\"KHM\",\"CHN\",\"HKG\",\"IND\",\"IDN\",\"IRN\",\"IRQ\",\"ISR\",\"JPN\",\"JOR\",\"KOR\",\"KOR\",\"KWT\",\"LBN\",\"MYS\",\"MNG\",\"MMR\",\"NPL\",\"OMN\",\"PAK\",\"PHL\",\"SAU\",\"SGP\",\"LKA\",\"SYR\",\"TWN\",\"THA\",\"VNM\",\"PSE\",\"YEM\"],\"marker\":{\"color\":\"#636efa\",\"size\":[25268405,656397,135656790,12926707,1280400000,6762476,1034172547,211060000,66907826,24001816,6029529,127065841,5307470,22215365,47969150,2111561,3677780,22662365,2674234,45598081,25873917,2713462,153403524,82995088,24501530,4197776,19576783,17155814,22454239,62806748,80908147,3389578,18701257],\"sizemode\":\"area\",\"sizeref\":3296707.74,\"symbol\":\"circle\"},\"mode\":\"markers\",\"name\":\"Asia\",\"showlegend\":true,\"type\":\"scattergeo\"},{\"geo\":\"geo\",\"hovertemplate\":\"<b>%{hovertext}</b><br><br>continent=Europe<br>year=2002<br>pop=%{marker.size}<br>iso_alpha=%{location}<extra></extra>\",\"hovertext\":[\"Albania\",\"Austria\",\"Belgium\",\"Bosnia and Herzegovina\",\"Bulgaria\",\"Croatia\",\"Czech Republic\",\"Denmark\",\"Finland\",\"France\",\"Germany\",\"Greece\",\"Hungary\",\"Iceland\",\"Ireland\",\"Italy\",\"Montenegro\",\"Netherlands\",\"Norway\",\"Poland\",\"Portugal\",\"Romania\",\"Serbia\",\"Slovak Republic\",\"Slovenia\",\"Spain\",\"Sweden\",\"Switzerland\",\"Turkey\",\"United Kingdom\"],\"legendgroup\":\"Europe\",\"locations\":[\"ALB\",\"AUT\",\"BEL\",\"BIH\",\"BGR\",\"HRV\",\"CZE\",\"DNK\",\"FIN\",\"FRA\",\"DEU\",\"GRC\",\"HUN\",\"ISL\",\"IRL\",\"ITA\",\"MNE\",\"NLD\",\"NOR\",\"POL\",\"PRT\",\"ROU\",\"SRB\",\"SVK\",\"SVN\",\"ESP\",\"SWE\",\"CHE\",\"TUR\",\"GBR\"],\"marker\":{\"color\":\"#EF553B\",\"size\":[3508512,8148312,10311970,4165416,7661799,4481020,10256295,5374693,5193039,59925035,82350671,10603863,10083313,288030,3879155,57926999,720230,16122830,4535591,38625976,10433867,22404337,10111559,5410052,2011497,40152517,8954175,7361757,67308928,59912431],\"sizemode\":\"area\",\"sizeref\":3296707.74,\"symbol\":\"circle\"},\"mode\":\"markers\",\"name\":\"Europe\",\"showlegend\":true,\"type\":\"scattergeo\"},{\"geo\":\"geo\",\"hovertemplate\":\"<b>%{hovertext}</b><br><br>continent=Africa<br>year=2002<br>pop=%{marker.size}<br>iso_alpha=%{location}<extra></extra>\",\"hovertext\":[\"Algeria\",\"Angola\",\"Benin\",\"Botswana\",\"Burkina Faso\",\"Burundi\",\"Cameroon\",\"Central African Republic\",\"Chad\",\"Comoros\",\"Congo, Dem. Rep.\",\"Congo, Rep.\",\"Cote d'Ivoire\",\"Djibouti\",\"Egypt\",\"Equatorial Guinea\",\"Eritrea\",\"Ethiopia\",\"Gabon\",\"Gambia\",\"Ghana\",\"Guinea\",\"Guinea-Bissau\",\"Kenya\",\"Lesotho\",\"Liberia\",\"Libya\",\"Madagascar\",\"Malawi\",\"Mali\",\"Mauritania\",\"Mauritius\",\"Morocco\",\"Mozambique\",\"Namibia\",\"Niger\",\"Nigeria\",\"Reunion\",\"Rwanda\",\"Sao Tome and Principe\",\"Senegal\",\"Sierra Leone\",\"Somalia\",\"South Africa\",\"Sudan\",\"Swaziland\",\"Tanzania\",\"Togo\",\"Tunisia\",\"Uganda\",\"Zambia\",\"Zimbabwe\"],\"legendgroup\":\"Africa\",\"locations\":[\"DZA\",\"AGO\",\"BEN\",\"BWA\",\"BFA\",\"BDI\",\"CMR\",\"CAF\",\"TCD\",\"COM\",\"COD\",\"COG\",\"CIV\",\"DJI\",\"EGY\",\"GNQ\",\"ERI\",\"ETH\",\"GAB\",\"GMB\",\"GHA\",\"GIN\",\"GNB\",\"KEN\",\"LSO\",\"LBR\",\"LBY\",\"MDG\",\"MWI\",\"MLI\",\"MRT\",\"MUS\",\"MAR\",\"MOZ\",\"NAM\",\"NER\",\"NGA\",\"REU\",\"RWA\",\"STP\",\"SEN\",\"SLE\",\"SOM\",\"ZAF\",\"SDN\",\"SWZ\",\"TZA\",\"TGO\",\"TUN\",\"UGA\",\"ZMB\",\"ZWE\"],\"marker\":{\"color\":\"#00cc96\",\"size\":[31287142,10866106,7026113,1630347,12251209,7021078,15929988,4048013,8835739,614382,55379852,3328795,16252726,447416,73312559,495627,4414865,67946797,1299304,1457766,20550751,8807818,1332459,31386842,2046772,2814651,5368585,16473477,11824495,10580176,2828858,1200206,31167783,18473780,1972153,11140655,119901274,743981,7852401,170372,10870037,5359092,7753310,44433622,37090298,1130269,34593779,4977378,9770575,24739869,10595811,11926563],\"sizemode\":\"area\",\"sizeref\":3296707.74,\"symbol\":\"circle\"},\"mode\":\"markers\",\"name\":\"Africa\",\"showlegend\":true,\"type\":\"scattergeo\"},{\"geo\":\"geo\",\"hovertemplate\":\"<b>%{hovertext}</b><br><br>continent=Americas<br>year=2002<br>pop=%{marker.size}<br>iso_alpha=%{location}<extra></extra>\",\"hovertext\":[\"Argentina\",\"Bolivia\",\"Brazil\",\"Canada\",\"Chile\",\"Colombia\",\"Costa Rica\",\"Cuba\",\"Dominican Republic\",\"Ecuador\",\"El Salvador\",\"Guatemala\",\"Haiti\",\"Honduras\",\"Jamaica\",\"Mexico\",\"Nicaragua\",\"Panama\",\"Paraguay\",\"Peru\",\"Puerto Rico\",\"Trinidad and Tobago\",\"United States\",\"Uruguay\",\"Venezuela\"],\"legendgroup\":\"Americas\",\"locations\":[\"ARG\",\"BOL\",\"BRA\",\"CAN\",\"CHL\",\"COL\",\"CRI\",\"CUB\",\"DOM\",\"ECU\",\"SLV\",\"GTM\",\"HTI\",\"HND\",\"JAM\",\"MEX\",\"NIC\",\"PAN\",\"PRY\",\"PER\",\"PRI\",\"TTO\",\"USA\",\"URY\",\"VEN\"],\"marker\":{\"color\":\"#ab63fa\",\"size\":[38331121,8445134,179914212,31902268,15497046,41008227,3834934,11226999,8650322,12921234,6353681,11178650,7607651,6677328,2664659,102479927,5146848,2990875,5884491,26769436,3859606,1101832,287675526,3363085,24287670],\"sizemode\":\"area\",\"sizeref\":3296707.74,\"symbol\":\"circle\"},\"mode\":\"markers\",\"name\":\"Americas\",\"showlegend\":true,\"type\":\"scattergeo\"},{\"geo\":\"geo\",\"hovertemplate\":\"<b>%{hovertext}</b><br><br>continent=Oceania<br>year=2002<br>pop=%{marker.size}<br>iso_alpha=%{location}<extra></extra>\",\"hovertext\":[\"Australia\",\"New Zealand\"],\"legendgroup\":\"Oceania\",\"locations\":[\"AUS\",\"NZL\"],\"marker\":{\"color\":\"#FFA15A\",\"size\":[19546792,3908037],\"sizemode\":\"area\",\"sizeref\":3296707.74,\"symbol\":\"circle\"},\"mode\":\"markers\",\"name\":\"Oceania\",\"showlegend\":true,\"type\":\"scattergeo\"}],\"name\":\"2002\"},{\"data\":[{\"geo\":\"geo\",\"hovertemplate\":\"<b>%{hovertext}</b><br><br>continent=Asia<br>year=2007<br>pop=%{marker.size}<br>iso_alpha=%{location}<extra></extra>\",\"hovertext\":[\"Afghanistan\",\"Bahrain\",\"Bangladesh\",\"Cambodia\",\"China\",\"Hong Kong, China\",\"India\",\"Indonesia\",\"Iran\",\"Iraq\",\"Israel\",\"Japan\",\"Jordan\",\"Korea, Dem. Rep.\",\"Korea, Rep.\",\"Kuwait\",\"Lebanon\",\"Malaysia\",\"Mongolia\",\"Myanmar\",\"Nepal\",\"Oman\",\"Pakistan\",\"Philippines\",\"Saudi Arabia\",\"Singapore\",\"Sri Lanka\",\"Syria\",\"Taiwan\",\"Thailand\",\"Vietnam\",\"West Bank and Gaza\",\"Yemen, Rep.\"],\"legendgroup\":\"Asia\",\"locations\":[\"AFG\",\"BHR\",\"BGD\",\"KHM\",\"CHN\",\"HKG\",\"IND\",\"IDN\",\"IRN\",\"IRQ\",\"ISR\",\"JPN\",\"JOR\",\"KOR\",\"KOR\",\"KWT\",\"LBN\",\"MYS\",\"MNG\",\"MMR\",\"NPL\",\"OMN\",\"PAK\",\"PHL\",\"SAU\",\"SGP\",\"LKA\",\"SYR\",\"TWN\",\"THA\",\"VNM\",\"PSE\",\"YEM\"],\"marker\":{\"color\":\"#636efa\",\"size\":[31889923,708573,150448339,14131858,1318683096,6980412,1110396331,223547000,69453570,27499638,6426679,127467972,6053193,23301725,49044790,2505559,3921278,24821286,2874127,47761980,28901790,3204897,169270617,91077287,27601038,4553009,20378239,19314747,23174294,65068149,85262356,4018332,22211743],\"sizemode\":\"area\",\"sizeref\":3296707.74,\"symbol\":\"circle\"},\"mode\":\"markers\",\"name\":\"Asia\",\"showlegend\":true,\"type\":\"scattergeo\"},{\"geo\":\"geo\",\"hovertemplate\":\"<b>%{hovertext}</b><br><br>continent=Europe<br>year=2007<br>pop=%{marker.size}<br>iso_alpha=%{location}<extra></extra>\",\"hovertext\":[\"Albania\",\"Austria\",\"Belgium\",\"Bosnia and Herzegovina\",\"Bulgaria\",\"Croatia\",\"Czech Republic\",\"Denmark\",\"Finland\",\"France\",\"Germany\",\"Greece\",\"Hungary\",\"Iceland\",\"Ireland\",\"Italy\",\"Montenegro\",\"Netherlands\",\"Norway\",\"Poland\",\"Portugal\",\"Romania\",\"Serbia\",\"Slovak Republic\",\"Slovenia\",\"Spain\",\"Sweden\",\"Switzerland\",\"Turkey\",\"United Kingdom\"],\"legendgroup\":\"Europe\",\"locations\":[\"ALB\",\"AUT\",\"BEL\",\"BIH\",\"BGR\",\"HRV\",\"CZE\",\"DNK\",\"FIN\",\"FRA\",\"DEU\",\"GRC\",\"HUN\",\"ISL\",\"IRL\",\"ITA\",\"MNE\",\"NLD\",\"NOR\",\"POL\",\"PRT\",\"ROU\",\"SRB\",\"SVK\",\"SVN\",\"ESP\",\"SWE\",\"CHE\",\"TUR\",\"GBR\"],\"marker\":{\"color\":\"#EF553B\",\"size\":[3600523,8199783,10392226,4552198,7322858,4493312,10228744,5468120,5238460,61083916,82400996,10706290,9956108,301931,4109086,58147733,684736,16570613,4627926,38518241,10642836,22276056,10150265,5447502,2009245,40448191,9031088,7554661,71158647,60776238],\"sizemode\":\"area\",\"sizeref\":3296707.74,\"symbol\":\"circle\"},\"mode\":\"markers\",\"name\":\"Europe\",\"showlegend\":true,\"type\":\"scattergeo\"},{\"geo\":\"geo\",\"hovertemplate\":\"<b>%{hovertext}</b><br><br>continent=Africa<br>year=2007<br>pop=%{marker.size}<br>iso_alpha=%{location}<extra></extra>\",\"hovertext\":[\"Algeria\",\"Angola\",\"Benin\",\"Botswana\",\"Burkina Faso\",\"Burundi\",\"Cameroon\",\"Central African Republic\",\"Chad\",\"Comoros\",\"Congo, Dem. Rep.\",\"Congo, Rep.\",\"Cote d'Ivoire\",\"Djibouti\",\"Egypt\",\"Equatorial Guinea\",\"Eritrea\",\"Ethiopia\",\"Gabon\",\"Gambia\",\"Ghana\",\"Guinea\",\"Guinea-Bissau\",\"Kenya\",\"Lesotho\",\"Liberia\",\"Libya\",\"Madagascar\",\"Malawi\",\"Mali\",\"Mauritania\",\"Mauritius\",\"Morocco\",\"Mozambique\",\"Namibia\",\"Niger\",\"Nigeria\",\"Reunion\",\"Rwanda\",\"Sao Tome and Principe\",\"Senegal\",\"Sierra Leone\",\"Somalia\",\"South Africa\",\"Sudan\",\"Swaziland\",\"Tanzania\",\"Togo\",\"Tunisia\",\"Uganda\",\"Zambia\",\"Zimbabwe\"],\"legendgroup\":\"Africa\",\"locations\":[\"DZA\",\"AGO\",\"BEN\",\"BWA\",\"BFA\",\"BDI\",\"CMR\",\"CAF\",\"TCD\",\"COM\",\"COD\",\"COG\",\"CIV\",\"DJI\",\"EGY\",\"GNQ\",\"ERI\",\"ETH\",\"GAB\",\"GMB\",\"GHA\",\"GIN\",\"GNB\",\"KEN\",\"LSO\",\"LBR\",\"LBY\",\"MDG\",\"MWI\",\"MLI\",\"MRT\",\"MUS\",\"MAR\",\"MOZ\",\"NAM\",\"NER\",\"NGA\",\"REU\",\"RWA\",\"STP\",\"SEN\",\"SLE\",\"SOM\",\"ZAF\",\"SDN\",\"SWZ\",\"TZA\",\"TGO\",\"TUN\",\"UGA\",\"ZMB\",\"ZWE\"],\"marker\":{\"color\":\"#00cc96\",\"size\":[33333216,12420476,8078314,1639131,14326203,8390505,17696293,4369038,10238807,710960,64606759,3800610,18013409,496374,80264543,551201,4906585,76511887,1454867,1688359,22873338,9947814,1472041,35610177,2012649,3193942,6036914,19167654,13327079,12031795,3270065,1250882,33757175,19951656,2055080,12894865,135031164,798094,8860588,199579,12267493,6144562,9118773,43997828,42292929,1133066,38139640,5701579,10276158,29170398,11746035,12311143],\"sizemode\":\"area\",\"sizeref\":3296707.74,\"symbol\":\"circle\"},\"mode\":\"markers\",\"name\":\"Africa\",\"showlegend\":true,\"type\":\"scattergeo\"},{\"geo\":\"geo\",\"hovertemplate\":\"<b>%{hovertext}</b><br><br>continent=Americas<br>year=2007<br>pop=%{marker.size}<br>iso_alpha=%{location}<extra></extra>\",\"hovertext\":[\"Argentina\",\"Bolivia\",\"Brazil\",\"Canada\",\"Chile\",\"Colombia\",\"Costa Rica\",\"Cuba\",\"Dominican Republic\",\"Ecuador\",\"El Salvador\",\"Guatemala\",\"Haiti\",\"Honduras\",\"Jamaica\",\"Mexico\",\"Nicaragua\",\"Panama\",\"Paraguay\",\"Peru\",\"Puerto Rico\",\"Trinidad and Tobago\",\"United States\",\"Uruguay\",\"Venezuela\"],\"legendgroup\":\"Americas\",\"locations\":[\"ARG\",\"BOL\",\"BRA\",\"CAN\",\"CHL\",\"COL\",\"CRI\",\"CUB\",\"DOM\",\"ECU\",\"SLV\",\"GTM\",\"HTI\",\"HND\",\"JAM\",\"MEX\",\"NIC\",\"PAN\",\"PRY\",\"PER\",\"PRI\",\"TTO\",\"USA\",\"URY\",\"VEN\"],\"marker\":{\"color\":\"#ab63fa\",\"size\":[40301927,9119152,190010647,33390141,16284741,44227550,4133884,11416987,9319622,13755680,6939688,12572928,8502814,7483763,2780132,108700891,5675356,3242173,6667147,28674757,3942491,1056608,301139947,3447496,26084662],\"sizemode\":\"area\",\"sizeref\":3296707.74,\"symbol\":\"circle\"},\"mode\":\"markers\",\"name\":\"Americas\",\"showlegend\":true,\"type\":\"scattergeo\"},{\"geo\":\"geo\",\"hovertemplate\":\"<b>%{hovertext}</b><br><br>continent=Oceania<br>year=2007<br>pop=%{marker.size}<br>iso_alpha=%{location}<extra></extra>\",\"hovertext\":[\"Australia\",\"New Zealand\"],\"legendgroup\":\"Oceania\",\"locations\":[\"AUS\",\"NZL\"],\"marker\":{\"color\":\"#FFA15A\",\"size\":[20434176,4115771],\"sizemode\":\"area\",\"sizeref\":3296707.74,\"symbol\":\"circle\"},\"mode\":\"markers\",\"name\":\"Oceania\",\"showlegend\":true,\"type\":\"scattergeo\"}],\"name\":\"2007\"}]);\n",
       "                        }).then(function(){\n",
       "                            \n",
       "var gd = document.getElementById('1c1014b8-b2d4-4c07-b316-2af5b5f96c76');\n",
       "var x = new MutationObserver(function (mutations, observer) {{\n",
       "        var display = window.getComputedStyle(gd).display;\n",
       "        if (!display || display === 'none') {{\n",
       "            console.log([gd, 'removed!']);\n",
       "            Plotly.purge(gd);\n",
       "            observer.disconnect();\n",
       "        }}\n",
       "}});\n",
       "\n",
       "// Listen for the removal of the full notebook cells\n",
       "var notebookContainer = gd.closest('#notebook-container');\n",
       "if (notebookContainer) {{\n",
       "    x.observe(notebookContainer, {childList: true});\n",
       "}}\n",
       "\n",
       "// Listen for the clearing of the current output cell\n",
       "var outputEl = gd.closest('.output');\n",
       "if (outputEl) {{\n",
       "    x.observe(outputEl, {childList: true});\n",
       "}}\n",
       "\n",
       "                        })                };                });            </script>        </div>"
      ]
     },
     "metadata": {},
     "output_type": "display_data"
    }
   ],
   "source": [
    "import plotly.express as px\n",
    "df = px.data.gapminder()\n",
    "fig = px.scatter_geo(df,\n",
    "                     locations=\"iso_alpha\",\n",
    "                     color=\"continent\",\n",
    "                     hover_name=\"country\",\n",
    "                     size=\"pop\",\n",
    "                     animation_frame=\"year\",\n",
    "                     projection=\"natural earth\"\n",
    ")\n",
    "fig.show()"
   ]
  }
 ],
 "metadata": {
  "interpreter": {
   "hash": "d7022dddf21d42dde7948cdc09ac263eb28788cf8538f118463ed9cc093dc120"
  },
  "kernelspec": {
   "display_name": "Python 3.6.6 ('venv02')",
   "language": "python",
   "name": "python3"
  },
  "language_info": {
   "codemirror_mode": {
    "name": "ipython",
    "version": 3
   },
   "file_extension": ".py",
   "mimetype": "text/x-python",
   "name": "python",
   "nbconvert_exporter": "python",
   "pygments_lexer": "ipython3",
   "version": "3.6.6"
  },
  "orig_nbformat": 4
 },
 "nbformat": 4,
 "nbformat_minor": 2
}
